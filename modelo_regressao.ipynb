{
 "cells": [
  {
   "cell_type": "markdown",
   "metadata": {},
   "source": [
    "# Modelo de Regressão (CinemaTicketRef Dataset)"
   ]
  },
  {
   "cell_type": "code",
   "execution_count": 50,
   "metadata": {},
   "outputs": [],
   "source": [
    "#notebook\n",
    "import pandas as pd\n",
    "import matplotlib.pyplot as plt\n",
    "import seaborn as sns\n",
    "import numpy as np\n",
    "import sklearn as sklearn\n",
    "from sklearn.model_selection import train_test_split\n",
    "from sklearn.linear_model import LinearRegression\n",
    "from sklearn.model_selection import cross_val_score\n"
   ]
  },
  {
   "cell_type": "markdown",
   "metadata": {},
   "source": [
    "### Objetivo:\n",
    "Tentar prever o preço total de vendas com base em outras variáveis"
   ]
  },
  {
   "cell_type": "code",
   "execution_count": 51,
   "metadata": {},
   "outputs": [
    {
     "name": "stdout",
     "output_type": "stream",
     "text": [
      "0.012529218136694772\n",
      "film_code         0\n",
      "cinema_code       0\n",
      "total_sales       0\n",
      "tickets_sold      0\n",
      "tickets_out       0\n",
      "show_time         0\n",
      "occu_perc       125\n",
      "ticket_price      0\n",
      "ticket_use        0\n",
      "capacity        125\n",
      "date              0\n",
      "month             0\n",
      "quarter           0\n",
      "day               0\n",
      "dtype: int64\n",
      "(142399, 8)\n",
      "(142399,)\n"
     ]
    }
   ],
   "source": [
    "df = pd.read_csv('datasets/cinematicket_ref.csv', sep=\",\", header=0)\n",
    "\n",
    "# tratamento de dados\n",
    "\n",
    "missing_values_count = df.isnull().sum()\n",
    "\n",
    "total_cells = np.product(df.shape)\n",
    "total_missing = missing_values_count.sum()\n",
    "\n",
    "print((total_missing/total_cells) * 100)\n",
    "\n",
    "print(df.isnull().sum())\n",
    "\n",
    "# vamos remover os dados onde apresentam valores NULL, (nao sei se vale a pena, mas como apresenta uma pouca porcentagme dos dados acho que nao faria muita diferenca)\n",
    "\n",
    "df.dropna(inplace=True)\n",
    "\n",
    "cinema={}\n",
    "cinema[\"features\"] = np.hstack([df.values[::, :2], df.values[::, 3:9]])\n",
    "cinema[\"target\"] = df.values[:, 2]\n",
    "\n",
    "#passando de 1D para 2D\n",
    "# cinema['features'].reshape(-1,1)\n",
    "# cinema['target'].reshape(-1,1)\n",
    "\n",
    "print(cinema['features'].shape)\n",
    "print(cinema['target'].shape)"
   ]
  },
  {
   "cell_type": "code",
   "execution_count": 52,
   "metadata": {},
   "outputs": [
    {
     "name": "stdout",
     "output_type": "stream",
     "text": [
      "(99679, 8)\n",
      "(99679,)\n",
      "Mean squared error: 111322175736359.62\n",
      "Coefficient of determination: 0.87\n"
     ]
    },
    {
     "data": {
      "image/png": "[encoded data removed]",
      "text/plain": [
       "<Figure size 432x288 with 1 Axes>"
      ]
     },
     "metadata": {
      "needs_background": "light"
     },
     "output_type": "display_data"
    },
    {
     "name": "stdout",
     "output_type": "stream",
     "text": [
      "Coefficients: \n",
      " [-11079.56633949   8907.43498949  58520.26162377  15225.58937449\n",
      "  54874.58057239 -91166.62271012    167.88279841  43294.67224927]\n",
      "Intercept: \n",
      " 28280.39206313528\n",
      "Score: \n",
      " 0.8739174733371569\n",
      "Model: \n",
      " LinearRegression()\n",
      "scores: \n",
      " [-1.10760637e+14 -1.10056124e+14 -1.22945911e+14 -1.06034445e+14\n",
      " -1.10605198e+14 -1.11475381e+14 -1.09795706e+14]\n",
      "-111667628967391.17\n",
      "4884696065816.795\n"
     ]
    }
   ],
   "source": [
    "def regression_analysis(target, features):\n",
    "    # split the data into training and testing sets\n",
    "    x_train, x_test, y_train, y_test = train_test_split(features, target, test_size=0.3)\n",
    "    print(x_train.shape)\n",
    "    print(y_train.shape)\n",
    "\n",
    "    # train the model\n",
    "    model = LinearRegression()\n",
    "    model.fit(x_train, y_train)\n",
    "\n",
    "    # make predictions\n",
    "    y_pred = model.predict(x_test)\n",
    "\n",
    "    # evaluate the model\n",
    "    from sklearn.metrics import mean_squared_error, r2_score\n",
    "    print('Mean squared error: %.2f' % mean_squared_error(y_test, y_pred))\n",
    "    print('Coefficient of determination: %.2f' % r2_score(y_test, y_pred))\n",
    "\n",
    "    # plot the results\n",
    "    plt.scatter(y_test, y_pred)\n",
    "    plt.xlabel('True Values')\n",
    "    plt.ylabel('Predictions')\n",
    "    plt.show()\n",
    "\n",
    "    # print the coefficients\n",
    "    print('Coefficients: \\n', model.coef_)\n",
    "    # print the intercept\n",
    "    print('Intercept: \\n', model.intercept_)\n",
    "    # print the score\n",
    "    print('Score: \\n', model.score(x_test, y_test))\n",
    "    # print the model\n",
    "    print('Model: \\n', model)\n",
    "    \n",
    "    from sklearn.model_selection import cross_val_score\n",
    "    \n",
    "    scores = cross_val_score(model, x_test, y_test, cv=7, scoring='neg_mean_squared_error')\n",
    "    print('scores: \\n', scores)\n",
    "    \n",
    "    print(scores.mean())\n",
    "    print(scores.std())\n",
    "\n",
    "regression_analysis(cinema[\"target\"], cinema[\"features\"])\n"
   ]
  },
  {
   "cell_type": "markdown",
   "metadata": {},
   "source": [
    "## Utilizando outros modelos de Regressão Linear para verificar o resultado"
   ]
  },
  {
   "cell_type": "code",
   "execution_count": 53,
   "metadata": {},
   "outputs": [],
   "source": [
    "def norma_l2(X):\n",
    "    X = X.astype(int)\n",
    "    X = X - np.mean(X, axis=0)\n",
    "    X = X / np.linalg.norm(X, axis=0)\n",
    "    return X"
   ]
  },
  {
   "cell_type": "markdown",
   "metadata": {},
   "source": [
    "### Lasso Regression"
   ]
  },
  {
   "cell_type": "code",
   "execution_count": 54,
   "metadata": {},
   "outputs": [
    {
     "name": "stdout",
     "output_type": "stream",
     "text": [
      "ls score:  0.833869671334205\n"
     ]
    }
   ],
   "source": [
    "from sklearn.linear_model import Lasso\n",
    "\n",
    "ls = Lasso(alpha=0.01)\n",
    "\n",
    "ls_scores = cross_val_score(ls, norma_l2(cinema[\"features\"]), cinema[\"target\"], cv=7)\n",
    "\n",
    "print('ls score: ', ls_scores.mean())\n"
   ]
  },
  {
   "cell_type": "markdown",
   "metadata": {},
   "source": [
    "### Ridge Regression"
   ]
  },
  {
   "cell_type": "code",
   "execution_count": 55,
   "metadata": {},
   "outputs": [
    {
     "name": "stdout",
     "output_type": "stream",
     "text": [
      "[0.8115784  0.71681664 0.8471377  0.89447356 0.869001   0.826857\n",
      " 0.870684  ]\n",
      "lr scores:  0.8337926119378851\n",
      "rg scores:  0.8390760371863585\n",
      "rg alpha:  0.00025\n"
     ]
    }
   ],
   "source": [
    "from sklearn.linear_model import Ridge\n",
    "\n",
    "\n",
    "rg = Ridge(alpha=0.05)\n",
    "lr = LinearRegression()\n",
    "\n",
    "lr_scores = cross_val_score(lr, norma_l2(cinema[\"features\"]), cinema[\"target\"], cv=7,)\n",
    "print(lr_scores)\n",
    "print('lr mean scores: ', lr_scores.mean())\n",
    "\n",
    "rg_scores = cross_val_score(rg, norma_l2(cinema[\"features\"]), cinema[\"target\"], cv=7)\n",
    "print('rg mean scores: ', rg_scores.mean())\n",
    "\n",
    "from sklearn.linear_model import RidgeCV\n",
    "\n",
    "rg = RidgeCV(alphas=(1.0, 0.1, 0.01, 0.005, 0.0025, 0.001, 0.00025))\n",
    "rg.fit(norma_l2(cinema[\"features\"]), cinema[\"target\"])\n",
    "\n",
    "print('rg alpha: ', rg.alpha_)"
   ]
  },
  {
   "cell_type": "markdown",
   "metadata": {},
   "source": [
    "### ElasticNet Regression"
   ]
  },
  {
   "cell_type": "code",
   "execution_count": 56,
   "metadata": {},
   "outputs": [
    {
     "name": "stdout",
     "output_type": "stream",
     "text": [
      "0.06055906094845577\n"
     ]
    }
   ],
   "source": [
    "from sklearn.linear_model import ElasticNet, ElasticNetCV\n",
    "\n",
    "en = ElasticNet(alpha=0.001, l1_ratio=0.8)\n",
    "en_scores = cross_val_score(en, norma_l2(cinema[\"features\"]), cinema[\"target\"], cv=10)\n",
    "\n",
    "print('ElasticNet mean scores: ',en_scores.mean())\n",
    "\n",
    "encv = ElasticNetCV(alphas=(0.1, 0.01, 0.005, 0.0025, 0.001), l1_ratio=(0.1, 0.25, 0.5, 0.75, 0.8))\n",
    "encv.fit(norma_l2(cinema[\"features\"]), cinema[\"target\"])\n",
    "\n",
    "print(encv.alpha_)\n",
    "print(encv.l1_ratio_)"
   ]
  }
 ],
 "metadata": {
  "kernelspec": {
   "display_name": "Python 3.9.12 ('base')",
   "language": "python",
   "name": "python3"
  },
  "language_info": {
   "codemirror_mode": {
    "name": "ipython",
    "version": 3
   },
   "file_extension": ".py",
   "mimetype": "text/x-python",
   "name": "python",
   "nbconvert_exporter": "python",
   "pygments_lexer": "ipython3",
   "version": "3.9.12"
  },
  "vscode": {
   "interpreter": {
    "hash": "b7175ea596b0e890ecad86ec68ea0c05380b51b685ba7441448326694beef3a1"
   }
  }
 },
 "nbformat": 4,
 "nbformat_minor": 2
}
