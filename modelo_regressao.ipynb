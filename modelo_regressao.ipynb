{
 "cells": [
  {
   "cell_type": "markdown",
   "metadata": {},
   "source": [
    "# Modelo de Regressão (CinemaTicketRef Dataset)"
   ]
  },
  {
   "cell_type": "code",
   "execution_count": 124,
   "metadata": {},
   "outputs": [],
   "source": [
    "#notebook\n",
    "\n",
    "\n"
   ]
  },
  {
   "cell_type": "markdown",
   "metadata": {},
   "source": [
    "### Objetivo:\n",
    "Tentar prever o preço total de vendas com base em outras variáveis"
   ]
  },
  {
   "cell_type": "code",
   "execution_count": 125,
   "metadata": {},
   "outputs": [
    {
     "data": {
      "text/html": [
       "<div>\n",
       "<style scoped>\n",
       "    .dataframe tbody tr th:only-of-type {\n",
       "        vertical-align: middle;\n",
       "    }\n",
       "\n",
       "    .dataframe tbody tr th {\n",
       "        vertical-align: top;\n",
       "    }\n",
       "\n",
       "    .dataframe thead th {\n",
       "        text-align: right;\n",
       "    }\n",
       "</style>\n",
       "<table border=\"1\" class=\"dataframe\">\n",
       "  <thead>\n",
       "    <tr style=\"text-align: right;\">\n",
       "      <th></th>\n",
       "      <th>film_code</th>\n",
       "      <th>cinema_code</th>\n",
       "      <th>total_sales</th>\n",
       "      <th>tickets_sold</th>\n",
       "      <th>tickets_out</th>\n",
       "      <th>show_time</th>\n",
       "      <th>occu_perc</th>\n",
       "      <th>ticket_price</th>\n",
       "      <th>ticket_use</th>\n",
       "      <th>capacity</th>\n",
       "      <th>date</th>\n",
       "      <th>month</th>\n",
       "      <th>quarter</th>\n",
       "      <th>day</th>\n",
       "    </tr>\n",
       "  </thead>\n",
       "  <tbody>\n",
       "    <tr>\n",
       "      <th>0</th>\n",
       "      <td>1492</td>\n",
       "      <td>304</td>\n",
       "      <td>3900000</td>\n",
       "      <td>26</td>\n",
       "      <td>0</td>\n",
       "      <td>4</td>\n",
       "      <td>4.26</td>\n",
       "      <td>150000.000000</td>\n",
       "      <td>26</td>\n",
       "      <td>610.328638</td>\n",
       "      <td>2018-05-05</td>\n",
       "      <td>5</td>\n",
       "      <td>2</td>\n",
       "      <td>5</td>\n",
       "    </tr>\n",
       "    <tr>\n",
       "      <th>1</th>\n",
       "      <td>1492</td>\n",
       "      <td>352</td>\n",
       "      <td>3360000</td>\n",
       "      <td>42</td>\n",
       "      <td>0</td>\n",
       "      <td>5</td>\n",
       "      <td>8.08</td>\n",
       "      <td>80000.000000</td>\n",
       "      <td>42</td>\n",
       "      <td>519.801980</td>\n",
       "      <td>2018-05-05</td>\n",
       "      <td>5</td>\n",
       "      <td>2</td>\n",
       "      <td>5</td>\n",
       "    </tr>\n",
       "    <tr>\n",
       "      <th>2</th>\n",
       "      <td>1492</td>\n",
       "      <td>489</td>\n",
       "      <td>2560000</td>\n",
       "      <td>32</td>\n",
       "      <td>0</td>\n",
       "      <td>4</td>\n",
       "      <td>20.00</td>\n",
       "      <td>80000.000000</td>\n",
       "      <td>32</td>\n",
       "      <td>160.000000</td>\n",
       "      <td>2018-05-05</td>\n",
       "      <td>5</td>\n",
       "      <td>2</td>\n",
       "      <td>5</td>\n",
       "    </tr>\n",
       "    <tr>\n",
       "      <th>3</th>\n",
       "      <td>1492</td>\n",
       "      <td>429</td>\n",
       "      <td>1200000</td>\n",
       "      <td>12</td>\n",
       "      <td>0</td>\n",
       "      <td>1</td>\n",
       "      <td>11.01</td>\n",
       "      <td>100000.000000</td>\n",
       "      <td>12</td>\n",
       "      <td>108.991826</td>\n",
       "      <td>2018-05-05</td>\n",
       "      <td>5</td>\n",
       "      <td>2</td>\n",
       "      <td>5</td>\n",
       "    </tr>\n",
       "    <tr>\n",
       "      <th>4</th>\n",
       "      <td>1492</td>\n",
       "      <td>524</td>\n",
       "      <td>1200000</td>\n",
       "      <td>15</td>\n",
       "      <td>0</td>\n",
       "      <td>3</td>\n",
       "      <td>16.67</td>\n",
       "      <td>80000.000000</td>\n",
       "      <td>15</td>\n",
       "      <td>89.982004</td>\n",
       "      <td>2018-05-05</td>\n",
       "      <td>5</td>\n",
       "      <td>2</td>\n",
       "      <td>5</td>\n",
       "    </tr>\n",
       "    <tr>\n",
       "      <th>5</th>\n",
       "      <td>1492</td>\n",
       "      <td>71</td>\n",
       "      <td>1050000</td>\n",
       "      <td>7</td>\n",
       "      <td>0</td>\n",
       "      <td>3</td>\n",
       "      <td>0.98</td>\n",
       "      <td>150000.000000</td>\n",
       "      <td>7</td>\n",
       "      <td>714.285714</td>\n",
       "      <td>2018-05-05</td>\n",
       "      <td>5</td>\n",
       "      <td>2</td>\n",
       "      <td>5</td>\n",
       "    </tr>\n",
       "    <tr>\n",
       "      <th>6</th>\n",
       "      <td>1492</td>\n",
       "      <td>163</td>\n",
       "      <td>1020000</td>\n",
       "      <td>10</td>\n",
       "      <td>0</td>\n",
       "      <td>3</td>\n",
       "      <td>7.69</td>\n",
       "      <td>102000.000000</td>\n",
       "      <td>10</td>\n",
       "      <td>130.039012</td>\n",
       "      <td>2018-05-05</td>\n",
       "      <td>5</td>\n",
       "      <td>2</td>\n",
       "      <td>5</td>\n",
       "    </tr>\n",
       "    <tr>\n",
       "      <th>7</th>\n",
       "      <td>1492</td>\n",
       "      <td>450</td>\n",
       "      <td>750000</td>\n",
       "      <td>5</td>\n",
       "      <td>0</td>\n",
       "      <td>3</td>\n",
       "      <td>1.57</td>\n",
       "      <td>150000.000000</td>\n",
       "      <td>5</td>\n",
       "      <td>318.471338</td>\n",
       "      <td>2018-05-05</td>\n",
       "      <td>5</td>\n",
       "      <td>2</td>\n",
       "      <td>5</td>\n",
       "    </tr>\n",
       "    <tr>\n",
       "      <th>8</th>\n",
       "      <td>1492</td>\n",
       "      <td>51</td>\n",
       "      <td>750000</td>\n",
       "      <td>11</td>\n",
       "      <td>0</td>\n",
       "      <td>2</td>\n",
       "      <td>0.95</td>\n",
       "      <td>68181.818182</td>\n",
       "      <td>11</td>\n",
       "      <td>1157.894737</td>\n",
       "      <td>2018-05-05</td>\n",
       "      <td>5</td>\n",
       "      <td>2</td>\n",
       "      <td>5</td>\n",
       "    </tr>\n",
       "    <tr>\n",
       "      <th>9</th>\n",
       "      <td>1492</td>\n",
       "      <td>522</td>\n",
       "      <td>600000</td>\n",
       "      <td>4</td>\n",
       "      <td>0</td>\n",
       "      <td>3</td>\n",
       "      <td>1.55</td>\n",
       "      <td>150000.000000</td>\n",
       "      <td>4</td>\n",
       "      <td>258.064516</td>\n",
       "      <td>2018-05-05</td>\n",
       "      <td>5</td>\n",
       "      <td>2</td>\n",
       "      <td>5</td>\n",
       "    </tr>\n",
       "  </tbody>\n",
       "</table>\n",
       "</div>"
      ],
      "text/plain": [
       "   film_code  cinema_code  total_sales  tickets_sold  tickets_out  show_time  \\\n",
       "0       1492          304      3900000            26            0          4   \n",
       "1       1492          352      3360000            42            0          5   \n",
       "2       1492          489      2560000            32            0          4   \n",
       "3       1492          429      1200000            12            0          1   \n",
       "4       1492          524      1200000            15            0          3   \n",
       "5       1492           71      1050000             7            0          3   \n",
       "6       1492          163      1020000            10            0          3   \n",
       "7       1492          450       750000             5            0          3   \n",
       "8       1492           51       750000            11            0          2   \n",
       "9       1492          522       600000             4            0          3   \n",
       "\n",
       "   occu_perc   ticket_price  ticket_use     capacity        date  month  \\\n",
       "0       4.26  150000.000000          26   610.328638  2018-05-05      5   \n",
       "1       8.08   80000.000000          42   519.801980  2018-05-05      5   \n",
       "2      20.00   80000.000000          32   160.000000  2018-05-05      5   \n",
       "3      11.01  100000.000000          12   108.991826  2018-05-05      5   \n",
       "4      16.67   80000.000000          15    89.982004  2018-05-05      5   \n",
       "5       0.98  150000.000000           7   714.285714  2018-05-05      5   \n",
       "6       7.69  102000.000000          10   130.039012  2018-05-05      5   \n",
       "7       1.57  150000.000000           5   318.471338  2018-05-05      5   \n",
       "8       0.95   68181.818182          11  1157.894737  2018-05-05      5   \n",
       "9       1.55  150000.000000           4   258.064516  2018-05-05      5   \n",
       "\n",
       "   quarter  day  \n",
       "0        2    5  \n",
       "1        2    5  \n",
       "2        2    5  \n",
       "3        2    5  \n",
       "4        2    5  \n",
       "5        2    5  \n",
       "6        2    5  \n",
       "7        2    5  \n",
       "8        2    5  \n",
       "9        2    5  "
      ]
     },
     "metadata": {},
     "output_type": "display_data"
    }
   ],
   "source": [
    "import pandas as pd\n",
    "import matplotlib.pyplot as plt\n",
    "import seaborn as sns\n",
    "import numpy as np\n",
    "import sklearn as sklearn\n",
    "\n",
    "df = pd.read_csv('datasets/cinematicket_ref.csv', sep=\",\", header=0)\n",
    "\n",
    "display(df.head(10))\n",
    "\n",
    "\n",
    "# removendo string data, pois so tem filmes de 2018, e temos month, quarter, day em outras colunas\n",
    "df = df.drop(['date'], axis=1)\n"
   ]
  },
  {
   "cell_type": "markdown",
   "metadata": {},
   "source": [
    "### Tratamento de dados"
   ]
  },
  {
   "cell_type": "markdown",
   "metadata": {},
   "source": [
    "procurando celulas vazias"
   ]
  },
  {
   "cell_type": "code",
   "execution_count": 126,
   "metadata": {},
   "outputs": [
    {
     "name": "stdout",
     "output_type": "stream",
     "text": [
      "porcentagem de valores faltando 0.013493004147209754\n",
      "film_code         0\n",
      "cinema_code       0\n",
      "total_sales       0\n",
      "tickets_sold      0\n",
      "tickets_out       0\n",
      "show_time         0\n",
      "occu_perc       125\n",
      "ticket_price      0\n",
      "ticket_use        0\n",
      "capacity        125\n",
      "month             0\n",
      "quarter           0\n",
      "day               0\n",
      "dtype: int64\n"
     ]
    }
   ],
   "source": [
    "\n",
    "missing_values_count = df.isnull().sum()\n",
    "total_cells = np.product(df.shape)\n",
    "total_missing = missing_values_count.sum()\n",
    "\n",
    "print('porcentagem de valores faltando', (total_missing/total_cells) * 100)\n",
    "\n",
    "print(df.isnull().sum())"
   ]
  },
  {
   "cell_type": "markdown",
   "metadata": {},
   "source": [
    "preenchendo as celulas vazias com a media de cada coluna"
   ]
  },
  {
   "cell_type": "code",
   "execution_count": 127,
   "metadata": {},
   "outputs": [
    {
     "name": "stdout",
     "output_type": "stream",
     "text": [
      "film_code       0\n",
      "cinema_code     0\n",
      "total_sales     0\n",
      "tickets_sold    0\n",
      "tickets_out     0\n",
      "show_time       0\n",
      "occu_perc       0\n",
      "ticket_price    0\n",
      "ticket_use      0\n",
      "capacity        0\n",
      "month           0\n",
      "quarter         0\n",
      "day             0\n",
      "dtype: int64\n"
     ]
    }
   ],
   "source": [
    "# vamos preencher celulas vazias com a media de cada coluna\n",
    "\n",
    "mean_occurrence = df['occu_perc'].mean()\n",
    "mean_capacity = df['capacity'].mean()\n",
    "\n",
    "df['occu_perc'].fillna(mean_occurrence, inplace=True)\n",
    "df['capacity'].fillna(mean_capacity, inplace=True)\n",
    "\n",
    "print(df.isnull().sum())"
   ]
  },
  {
   "cell_type": "markdown",
   "metadata": {},
   "source": [
    "procurando valores repetidos"
   ]
  },
  {
   "cell_type": "code",
   "execution_count": 128,
   "metadata": {},
   "outputs": [
    {
     "name": "stdout",
     "output_type": "stream",
     "text": [
      "106\n",
      "0\n",
      "Duplicated film codes:  142370\n",
      "Duplicated cinema codes:  142172\n"
     ]
    }
   ],
   "source": [
    "print(df.duplicated().sum())\n",
    "\n",
    "df.drop_duplicates(inplace=True)\n",
    "\n",
    "print(df.duplicated().sum())\n",
    "\n",
    "print('Duplicated film codes: ', df['film_code'].duplicated().sum())\n",
    "print('Duplicated cinema codes: ', df['cinema_code'].duplicated().sum())\n",
    "\n",
    "# temos muitos codigos de cinemas e filmes duplicados que podem afetar nosso modelo, por isso vamos tira-los da equacao"
   ]
  },
  {
   "cell_type": "markdown",
   "metadata": {},
   "source": [
    "Fazendo a normalização"
   ]
  },
  {
   "cell_type": "code",
   "execution_count": 129,
   "metadata": {},
   "outputs": [
    {
     "data": {
      "text/plain": [
       "film_code        0\n",
       "cinema_code      0\n",
       "total_sales      0\n",
       "tickets_sold     0\n",
       "tickets_out      0\n",
       "show_time        0\n",
       "occu_perc        0\n",
       "ticket_price     0\n",
       "ticket_use      61\n",
       "capacity        54\n",
       "month            0\n",
       "quarter          0\n",
       "day              0\n",
       "dtype: int64"
      ]
     },
     "execution_count": 129,
     "metadata": {},
     "output_type": "execute_result"
    }
   ],
   "source": [
    "from sklearn import preprocessing\n",
    "\n",
    "# d = preprocessing.normalize(df, axis=0)\n",
    "# df = pd.DataFrame(d, columns=[df.columns])\n",
    "\n",
    "df.lt(0).sum()"
   ]
  },
  {
   "cell_type": "code",
   "execution_count": 130,
   "metadata": {},
   "outputs": [
    {
     "data": {
      "text/html": [
       "<div>\n",
       "<style scoped>\n",
       "    .dataframe tbody tr th:only-of-type {\n",
       "        vertical-align: middle;\n",
       "    }\n",
       "\n",
       "    .dataframe tbody tr th {\n",
       "        vertical-align: top;\n",
       "    }\n",
       "\n",
       "    .dataframe thead tr th {\n",
       "        text-align: left;\n",
       "    }\n",
       "</style>\n",
       "<table border=\"1\" class=\"dataframe\">\n",
       "  <thead>\n",
       "    <tr>\n",
       "      <th></th>\n",
       "      <th>film_code</th>\n",
       "      <th>cinema_code</th>\n",
       "      <th>total_sales</th>\n",
       "      <th>tickets_sold</th>\n",
       "      <th>tickets_out</th>\n",
       "      <th>show_time</th>\n",
       "      <th>occu_perc</th>\n",
       "      <th>ticket_price</th>\n",
       "      <th>ticket_use</th>\n",
       "      <th>capacity</th>\n",
       "      <th>month</th>\n",
       "      <th>quarter</th>\n",
       "      <th>day</th>\n",
       "    </tr>\n",
       "  </thead>\n",
       "  <tbody>\n",
       "    <tr>\n",
       "      <th>count</th>\n",
       "      <td>142418.000000</td>\n",
       "      <td>142418.000000</td>\n",
       "      <td>142418.000000</td>\n",
       "      <td>142418.000000</td>\n",
       "      <td>142418.000000</td>\n",
       "      <td>142418.000000</td>\n",
       "      <td>142418.000000</td>\n",
       "      <td>142418.000000</td>\n",
       "      <td>142418.000000</td>\n",
       "      <td>142418.000000</td>\n",
       "      <td>142418.000000</td>\n",
       "      <td>142418.000000</td>\n",
       "      <td>142418.000000</td>\n",
       "    </tr>\n",
       "    <tr>\n",
       "      <th>mean</th>\n",
       "      <td>0.002649</td>\n",
       "      <td>0.002372</td>\n",
       "      <td>0.000990</td>\n",
       "      <td>0.001186</td>\n",
       "      <td>0.000215</td>\n",
       "      <td>0.002092</td>\n",
       "      <td>0.001752</td>\n",
       "      <td>0.002452</td>\n",
       "      <td>0.001185</td>\n",
       "      <td>0.001770</td>\n",
       "      <td>0.002521</td>\n",
       "      <td>0.002533</td>\n",
       "      <td>0.002316</td>\n",
       "    </tr>\n",
       "    <tr>\n",
       "      <th>std</th>\n",
       "      <td>0.000063</td>\n",
       "      <td>0.001182</td>\n",
       "      <td>0.002458</td>\n",
       "      <td>0.002369</td>\n",
       "      <td>0.002641</td>\n",
       "      <td>0.001626</td>\n",
       "      <td>0.001988</td>\n",
       "      <td>0.001004</td>\n",
       "      <td>0.002370</td>\n",
       "      <td>0.001972</td>\n",
       "      <td>0.000816</td>\n",
       "      <td>0.000777</td>\n",
       "      <td>0.001287</td>\n",
       "    </tr>\n",
       "    <tr>\n",
       "      <th>min</th>\n",
       "      <td>0.002565</td>\n",
       "      <td>0.000237</td>\n",
       "      <td>0.000002</td>\n",
       "      <td>0.000008</td>\n",
       "      <td>0.000000</td>\n",
       "      <td>0.000532</td>\n",
       "      <td>0.000000</td>\n",
       "      <td>0.000015</td>\n",
       "      <td>-0.001857</td>\n",
       "      <td>-0.000004</td>\n",
       "      <td>0.000744</td>\n",
       "      <td>0.000961</td>\n",
       "      <td>0.000144</td>\n",
       "    </tr>\n",
       "    <tr>\n",
       "      <th>25%</th>\n",
       "      <td>0.002590</td>\n",
       "      <td>0.001340</td>\n",
       "      <td>0.000101</td>\n",
       "      <td>0.000152</td>\n",
       "      <td>0.000000</td>\n",
       "      <td>0.001064</td>\n",
       "      <td>0.000329</td>\n",
       "      <td>0.001812</td>\n",
       "      <td>0.000153</td>\n",
       "      <td>0.000575</td>\n",
       "      <td>0.001859</td>\n",
       "      <td>0.001922</td>\n",
       "      <td>0.001150</td>\n",
       "    </tr>\n",
       "    <tr>\n",
       "      <th>50%</th>\n",
       "      <td>0.002612</td>\n",
       "      <td>0.002398</td>\n",
       "      <td>0.000298</td>\n",
       "      <td>0.000424</td>\n",
       "      <td>0.000000</td>\n",
       "      <td>0.001596</td>\n",
       "      <td>0.000910</td>\n",
       "      <td>0.002398</td>\n",
       "      <td>0.000424</td>\n",
       "      <td>0.001089</td>\n",
       "      <td>0.002603</td>\n",
       "      <td>0.002883</td>\n",
       "      <td>0.002301</td>\n",
       "    </tr>\n",
       "    <tr>\n",
       "      <th>75%</th>\n",
       "      <td>0.002714</td>\n",
       "      <td>0.003509</td>\n",
       "      <td>0.000891</td>\n",
       "      <td>0.001211</td>\n",
       "      <td>0.000000</td>\n",
       "      <td>0.002661</td>\n",
       "      <td>0.002474</td>\n",
       "      <td>0.003019</td>\n",
       "      <td>0.001212</td>\n",
       "      <td>0.002149</td>\n",
       "      <td>0.003347</td>\n",
       "      <td>0.002883</td>\n",
       "      <td>0.003451</td>\n",
       "    </tr>\n",
       "    <tr>\n",
       "      <th>max</th>\n",
       "      <td>0.002771</td>\n",
       "      <td>0.004715</td>\n",
       "      <td>0.101316</td>\n",
       "      <td>0.071992</td>\n",
       "      <td>0.280889</td>\n",
       "      <td>0.031927</td>\n",
       "      <td>0.012951</td>\n",
       "      <td>0.021134</td>\n",
       "      <td>0.072056</td>\n",
       "      <td>0.020069</td>\n",
       "      <td>0.004090</td>\n",
       "      <td>0.003844</td>\n",
       "      <td>0.004458</td>\n",
       "    </tr>\n",
       "  </tbody>\n",
       "</table>\n",
       "</div>"
      ],
      "text/plain": [
       "           film_code    cinema_code    total_sales   tickets_sold  \\\n",
       "count  142418.000000  142418.000000  142418.000000  142418.000000   \n",
       "mean        0.002649       0.002372       0.000990       0.001186   \n",
       "std         0.000063       0.001182       0.002458       0.002369   \n",
       "min         0.002565       0.000237       0.000002       0.000008   \n",
       "25%         0.002590       0.001340       0.000101       0.000152   \n",
       "50%         0.002612       0.002398       0.000298       0.000424   \n",
       "75%         0.002714       0.003509       0.000891       0.001211   \n",
       "max         0.002771       0.004715       0.101316       0.071992   \n",
       "\n",
       "         tickets_out      show_time      occu_perc   ticket_price  \\\n",
       "count  142418.000000  142418.000000  142418.000000  142418.000000   \n",
       "mean        0.000215       0.002092       0.001752       0.002452   \n",
       "std         0.002641       0.001626       0.001988       0.001004   \n",
       "min         0.000000       0.000532       0.000000       0.000015   \n",
       "25%         0.000000       0.001064       0.000329       0.001812   \n",
       "50%         0.000000       0.001596       0.000910       0.002398   \n",
       "75%         0.000000       0.002661       0.002474       0.003019   \n",
       "max         0.280889       0.031927       0.012951       0.021134   \n",
       "\n",
       "          ticket_use       capacity          month        quarter  \\\n",
       "count  142418.000000  142418.000000  142418.000000  142418.000000   \n",
       "mean        0.001185       0.001770       0.002521       0.002533   \n",
       "std         0.002370       0.001972       0.000816       0.000777   \n",
       "min        -0.001857      -0.000004       0.000744       0.000961   \n",
       "25%         0.000153       0.000575       0.001859       0.001922   \n",
       "50%         0.000424       0.001089       0.002603       0.002883   \n",
       "75%         0.001212       0.002149       0.003347       0.002883   \n",
       "max         0.072056       0.020069       0.004090       0.003844   \n",
       "\n",
       "                 day  \n",
       "count  142418.000000  \n",
       "mean        0.002316  \n",
       "std         0.001287  \n",
       "min         0.000144  \n",
       "25%         0.001150  \n",
       "50%         0.002301  \n",
       "75%         0.003451  \n",
       "max         0.004458  "
      ]
     },
     "metadata": {},
     "output_type": "display_data"
    }
   ],
   "source": [
    "display(df.describe())\n",
    "columns = df.columns.tolist()\n",
    "\n",
    "goodCorrelationColumns = []\n",
    "\n",
    "for c in columns:\n",
    "        if df[c].corr(df['total_sales'])*100 > 25 and c != 'total_sales':\n",
    "                goodCorrelationColumns.append(c)\n",
    "\n",
    "import matplotlib.pyplot as plt\n",
    "\n",
    "sns.set(style=\"darkgrid\")\n",
    "\n",
    "f, ax = plt.subplots(figsize=(25, 10))\n",
    "corr = df.corr()\n",
    "\n",
    "sns.heatmap(corr, annot=True, cmap='afmhot', vmax=1,\n",
    "        vmin=-1, center=0, square=True,\n",
    "        linewidth=.5, cbar_kws={\"shrink\":.5})\n",
    "\n",
    "plt.show()\n"
   ]
  },
  {
   "cell_type": "code",
   "execution_count": null,
   "metadata": {},
   "outputs": [
    {
     "name": "stdout",
     "output_type": "stream",
     "text": [
      "(142418, 6)\n",
      "(142418,)\n"
     ]
    }
   ],
   "source": [
    "cinema={}\n",
    "# cinema[\"features\"] = np.hstack([df.values[::, :2], df.values[::, 3:]])\n",
    "# cinema[\"target\"] = df.values[:, 2]\n",
    "\n",
    "cinema[\"features\"] = df[goodCorrelationColumns]\n",
    "cinema[\"target\"] = df['total_sales']\n",
    "\n",
    "\n",
    "print(cinema['features'].shape)\n",
    "print(cinema['target'].shape)"
   ]
  },
  {
   "cell_type": "markdown",
   "metadata": {},
   "source": [
    "### Aplicando Regressão linear"
   ]
  },
  {
   "cell_type": "code",
   "execution_count": null,
   "metadata": {},
   "outputs": [
    {
     "name": "stdout",
     "output_type": "stream",
     "text": [
      "Mean squared error: 116156466866329.67\n",
      "Coefficient of determination: 0.88\n"
     ]
    },
    {
     "data": {
      "image/png": "[encoded data removed]",
      "text/plain": [
       "<Figure size 432x288 with 1 Axes>"
      ]
     },
     "metadata": {},
     "output_type": "display_data"
    },
    {
     "name": "stdout",
     "output_type": "stream",
     "text": [
      "Coefficients: \n",
      " [ 1.11962621e+05  3.14086540e+05 -9.56053871e+04  1.63774824e+02\n",
      " -9.97562024e+03 -1.75528631e+03]\n",
      "Intercept: \n",
      " -13086293.803991871\n",
      "Score: \n",
      " 0.8806194950231732\n",
      "Model: \n",
      " LinearRegression()\n",
      "scores: \n",
      " [0.85691767 0.88446728 0.88320602 0.87879032 0.89058047 0.87503715\n",
      " 0.87853006]\n",
      "0.8782184219012347\n",
      "0.009863434927442788\n",
      "------------\n",
      "[0.84749002 0.84353338 0.86299235 0.88562731 0.88443826 0.87508323\n",
      " 0.88652957]\n"
     ]
    }
   ],
   "source": [
    "from sklearn.model_selection import train_test_split\n",
    "from sklearn.linear_model import LinearRegression\n",
    "from sklearn.model_selection import cross_val_score\n",
    "from sklearn.pipeline import make_pipeline\n",
    "\n",
    "def regression_analysis(target, features):\n",
    "    # split the data into training and testing sets\n",
    "    x_train, x_test, y_train, y_test = train_test_split(features, target, test_size=0.3)\n",
    "\n",
    "    # train the model\n",
    "    model = LinearRegression()\n",
    "    model.fit(x_train, y_train)\n",
    "\n",
    "    # make predictions\n",
    "    y_pred = model.predict(x_test)\n",
    "\n",
    "    # evaluate the model\n",
    "    from sklearn.metrics import mean_squared_error, r2_score\n",
    "    print('Mean squared error: %.2f' % mean_squared_error(y_test, y_pred))\n",
    "    print('Coefficient of determination: %.2f' % r2_score(y_test, y_pred))\n",
    "\n",
    "    # plot the results\n",
    "    plt.scatter(y_test, y_pred)\n",
    "    plt.xlabel('True Values')\n",
    "    plt.ylabel('Predictions')\n",
    "    plt.show()\n",
    "\n",
    "    # print the coefficients\n",
    "    print('Coefficients: \\n', model.coef_)\n",
    "    # print the intercept\n",
    "    print('Intercept: \\n', model.intercept_)\n",
    "    # print the score\n",
    "    print('Score: \\n', model.score(x_test, y_test))\n",
    "    # print the model\n",
    "    print('Model: \\n', model)\n",
    "    \n",
    "    from sklearn.model_selection import cross_val_score\n",
    "    \n",
    "    scores = cross_val_score(model, x_test, y_test, cv=7, scoring='r2')\n",
    "    print('scores: \\n', scores)\n",
    "    \n",
    "    print(scores.mean())\n",
    "    print(scores.std())\n",
    "\n",
    "regression_analysis(cinema[\"target\"], cinema[\"features\"])\n",
    "\n",
    "print('------------')\n",
    "\n",
    "x_train, x_test, y_train, y_test = train_test_split(cinema[\"features\"], cinema[\"target\"], test_size=0.3)\n",
    "lr = make_pipeline(LinearRegression())\n",
    "reg = lr.fit(x_train, y_train)\n",
    "\n",
    "scores = cross_val_score(lr, x_test, y_test, cv=7, scoring='r2')\n",
    "\n",
    "print(scores)"
   ]
  },
  {
   "cell_type": "markdown",
   "metadata": {},
   "source": [
    "### Utilizando outros modelos de Regressão Linear para verificar o resultado"
   ]
  },
  {
   "cell_type": "code",
   "execution_count": null,
   "metadata": {},
   "outputs": [],
   "source": [
    "def norma_l2(X):\n",
    "    X = X.astype(int)\n",
    "    X = X - np.mean(X, axis=0)\n",
    "    X = X / np.linalg.norm(X, axis=0)\n",
    "    return X"
   ]
  },
  {
   "cell_type": "markdown",
   "metadata": {},
   "source": [
    "### Lasso Regression"
   ]
  },
  {
   "cell_type": "code",
   "execution_count": null,
   "metadata": {},
   "outputs": [
    {
     "name": "stderr",
     "output_type": "stream",
     "text": [
      "c:\\Users\\thiago\\anaconda3\\lib\\site-packages\\sklearn\\linear_model\\_coordinate_descent.py:647: ConvergenceWarning: Objective did not converge. You might want to increase the number of iterations, check the scale of the features or consider increasing regularisation. Duality gap: 7.855e+18, tolerance: 1.295e+16\n",
      "  model = cd_fast.enet_coordinate_descent(\n",
      "c:\\Users\\thiago\\anaconda3\\lib\\site-packages\\sklearn\\linear_model\\_coordinate_descent.py:647: ConvergenceWarning: Objective did not converge. You might want to increase the number of iterations, check the scale of the features or consider increasing regularisation. Duality gap: 7.919e+18, tolerance: 1.302e+16\n",
      "  model = cd_fast.enet_coordinate_descent(\n",
      "c:\\Users\\thiago\\anaconda3\\lib\\site-packages\\sklearn\\linear_model\\_coordinate_descent.py:647: ConvergenceWarning: Objective did not converge. You might want to increase the number of iterations, check the scale of the features or consider increasing regularisation. Duality gap: 6.702e+18, tolerance: 1.221e+16\n",
      "  model = cd_fast.enet_coordinate_descent(\n",
      "c:\\Users\\thiago\\anaconda3\\lib\\site-packages\\sklearn\\linear_model\\_coordinate_descent.py:647: ConvergenceWarning: Objective did not converge. You might want to increase the number of iterations, check the scale of the features or consider increasing regularisation. Duality gap: 6.383e+18, tolerance: 9.924e+15\n",
      "  model = cd_fast.enet_coordinate_descent(\n",
      "c:\\Users\\thiago\\anaconda3\\lib\\site-packages\\sklearn\\linear_model\\_coordinate_descent.py:647: ConvergenceWarning: Objective did not converge. You might want to increase the number of iterations, check the scale of the features or consider increasing regularisation. Duality gap: 4.074e+18, tolerance: 7.712e+15\n",
      "  model = cd_fast.enet_coordinate_descent(\n",
      "c:\\Users\\thiago\\anaconda3\\lib\\site-packages\\sklearn\\linear_model\\_coordinate_descent.py:647: ConvergenceWarning: Objective did not converge. You might want to increase the number of iterations, check the scale of the features or consider increasing regularisation. Duality gap: 7.200e+18, tolerance: 1.207e+16\n",
      "  model = cd_fast.enet_coordinate_descent(\n"
     ]
    },
    {
     "name": "stdout",
     "output_type": "stream",
     "text": [
      "ls score:  0.8332024498650725\n"
     ]
    },
    {
     "name": "stderr",
     "output_type": "stream",
     "text": [
      "c:\\Users\\thiago\\anaconda3\\lib\\site-packages\\sklearn\\linear_model\\_coordinate_descent.py:647: ConvergenceWarning: Objective did not converge. You might want to increase the number of iterations, check the scale of the features or consider increasing regularisation. Duality gap: 7.395e+18, tolerance: 1.226e+16\n",
      "  model = cd_fast.enet_coordinate_descent(\n"
     ]
    }
   ],
   "source": [
    "from sklearn.linear_model import Lasso\n",
    "\n",
    "ls = Lasso(alpha=0.01)\n",
    "ls_scores = cross_val_score(ls, norma_l2(cinema[\"features\"]), cinema[\"target\"], cv=7)\n",
    "\n",
    "print('ls score: ', ls_scores.mean())\n"
   ]
  },
  {
   "cell_type": "markdown",
   "metadata": {},
   "source": [
    "### Ridge Regression"
   ]
  },
  {
   "cell_type": "code",
   "execution_count": null,
   "metadata": {},
   "outputs": [
    {
     "name": "stdout",
     "output_type": "stream",
     "text": [
      "[0.81424783 0.7117432  0.84739831 0.893907   0.86866465 0.82599729\n",
      " 0.87036798]\n",
      "lr mean scores:  0.8331894676273419\n",
      "rg mean scores:  0.8390185126961113\n",
      "rg alpha:  0.00025\n"
     ]
    }
   ],
   "source": [
    "from sklearn.linear_model import Ridge\n",
    "\n",
    "\n",
    "rg = Ridge(alpha=0.05)\n",
    "lr = LinearRegression()\n",
    "\n",
    "lr_scores = cross_val_score(lr, norma_l2(cinema[\"features\"]), cinema[\"target\"], cv=7,)\n",
    "print(lr_scores)\n",
    "print('lr mean scores: ', lr_scores.mean())\n",
    "\n",
    "rg_scores = cross_val_score(rg, norma_l2(cinema[\"features\"]), cinema[\"target\"], cv=7)\n",
    "print('rg mean scores: ', rg_scores.mean())\n",
    "\n",
    "from sklearn.linear_model import RidgeCV\n",
    "\n",
    "rg = RidgeCV(alphas=(1.0, 0.1, 0.01, 0.005, 0.0025, 0.001, 0.00025))\n",
    "rg.fit(norma_l2(cinema[\"features\"]), cinema[\"target\"])\n",
    "\n",
    "print('rg alpha: ', rg.alpha_)"
   ]
  },
  {
   "cell_type": "markdown",
   "metadata": {},
   "source": [
    "### ElasticNet Regression"
   ]
  },
  {
   "cell_type": "code",
   "execution_count": null,
   "metadata": {},
   "outputs": [
    {
     "name": "stdout",
     "output_type": "stream",
     "text": [
      "ElasticNet mean scores:  0.06945690280773209\n",
      "0.001\n",
      "0.8\n"
     ]
    }
   ],
   "source": [
    "from sklearn.linear_model import ElasticNet, ElasticNetCV\n",
    "\n",
    "en = ElasticNet(alpha=0.001, l1_ratio=0.8)\n",
    "en_scores = cross_val_score(en, norma_l2(cinema[\"features\"]), cinema[\"target\"], cv=10)\n",
    "\n",
    "print('ElasticNet mean scores: ',en_scores.mean())\n",
    "\n",
    "encv = ElasticNetCV(alphas=(0.1, 0.01, 0.005, 0.0025, 0.001), l1_ratio=(0.1, 0.25, 0.5, 0.75, 0.8))\n",
    "encv.fit(norma_l2(cinema[\"features\"]), cinema[\"target\"])\n",
    "\n",
    "print(encv.alpha_)\n",
    "print(encv.l1_ratio_)"
   ]
  },
  {
   "cell_type": "markdown",
   "metadata": {},
   "source": [
    "### RANSAC Regression"
   ]
  },
  {
   "cell_type": "code",
   "execution_count": null,
   "metadata": {},
   "outputs": [],
   "source": [
    "\n",
    "\n",
    "# X = cinema[\"features\"]\n",
    "# Y = cinema[\"target\"]\n",
    "\n",
    "# print(X.shape, Y.shape)\n",
    "\n",
    "# plt.scatter(X,Y)\n",
    "# plt.show()\n",
    "\n",
    "# x,y = cinema[\"features\"], cinema[\"target\"]\n"
   ]
  },
  {
   "cell_type": "markdown",
   "metadata": {},
   "source": [
    "Como nós temos muitas features, não vemos muito necessário utilizar o KNN, pois com dimensões muito altas é normal o KNN performar mal"
   ]
  },
  {
   "cell_type": "markdown",
   "metadata": {},
   "source": [
    "### Regressões não lineares"
   ]
  },
  {
   "cell_type": "markdown",
   "metadata": {},
   "source": []
  },
  {
   "cell_type": "markdown",
   "metadata": {},
   "source": [
    "### utilizando OVR : multinomial logistic regression"
   ]
  },
  {
   "cell_type": "code",
   "execution_count": null,
   "metadata": {},
   "outputs": [],
   "source": []
  }
 ],
 "metadata": {
  "kernelspec": {
   "display_name": "Python 3.9.12 ('base')",
   "language": "python",
   "name": "python3"
  },
  "language_info": {
   "codemirror_mode": {
    "name": "ipython",
    "version": 3
   },
   "file_extension": ".py",
   "mimetype": "text/x-python",
   "name": "python",
   "nbconvert_exporter": "python",
   "pygments_lexer": "ipython3",
   "version": "3.9.12"
  },
  "vscode": {
   "interpreter": {
    "hash": "b7175ea596b0e890ecad86ec68ea0c05380b51b685ba7441448326694beef3a1"
   }
  }
 },
 "nbformat": 4,
 "nbformat_minor": 2
}
