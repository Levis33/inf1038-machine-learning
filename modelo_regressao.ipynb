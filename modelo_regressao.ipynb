{
 "cells": [
  {
   "cell_type": "markdown",
   "metadata": {},
   "source": [
    "# Modelo de Regressão (CinemaTicketRef Dataset)"
   ]
  },
  {
   "cell_type": "code",
   "execution_count": 268,
   "metadata": {},
   "outputs": [],
   "source": [
    "#notebook\n",
    "\n",
    "\n"
   ]
  },
  {
   "cell_type": "markdown",
   "metadata": {},
   "source": [
    "### Objetivo:\n",
    "Tentar prever o preço total de vendas com base em outras variáveis"
   ]
  },
  {
   "cell_type": "code",
   "execution_count": 269,
   "metadata": {},
   "outputs": [
    {
     "data": {
      "text/html": [
       "<div>\n",
       "<style scoped>\n",
       "    .dataframe tbody tr th:only-of-type {\n",
       "        vertical-align: middle;\n",
       "    }\n",
       "\n",
       "    .dataframe tbody tr th {\n",
       "        vertical-align: top;\n",
       "    }\n",
       "\n",
       "    .dataframe thead th {\n",
       "        text-align: right;\n",
       "    }\n",
       "</style>\n",
       "<table border=\"1\" class=\"dataframe\">\n",
       "  <thead>\n",
       "    <tr style=\"text-align: right;\">\n",
       "      <th></th>\n",
       "      <th>film_code</th>\n",
       "      <th>cinema_code</th>\n",
       "      <th>total_sales</th>\n",
       "      <th>tickets_sold</th>\n",
       "      <th>tickets_out</th>\n",
       "      <th>show_time</th>\n",
       "      <th>occu_perc</th>\n",
       "      <th>ticket_price</th>\n",
       "      <th>ticket_use</th>\n",
       "      <th>capacity</th>\n",
       "      <th>date</th>\n",
       "      <th>month</th>\n",
       "      <th>quarter</th>\n",
       "      <th>day</th>\n",
       "    </tr>\n",
       "  </thead>\n",
       "  <tbody>\n",
       "    <tr>\n",
       "      <th>0</th>\n",
       "      <td>1492</td>\n",
       "      <td>304</td>\n",
       "      <td>3900000</td>\n",
       "      <td>26</td>\n",
       "      <td>0</td>\n",
       "      <td>4</td>\n",
       "      <td>4.26</td>\n",
       "      <td>150000.000000</td>\n",
       "      <td>26</td>\n",
       "      <td>610.328638</td>\n",
       "      <td>2018-05-05</td>\n",
       "      <td>5</td>\n",
       "      <td>2</td>\n",
       "      <td>5</td>\n",
       "    </tr>\n",
       "    <tr>\n",
       "      <th>1</th>\n",
       "      <td>1492</td>\n",
       "      <td>352</td>\n",
       "      <td>3360000</td>\n",
       "      <td>42</td>\n",
       "      <td>0</td>\n",
       "      <td>5</td>\n",
       "      <td>8.08</td>\n",
       "      <td>80000.000000</td>\n",
       "      <td>42</td>\n",
       "      <td>519.801980</td>\n",
       "      <td>2018-05-05</td>\n",
       "      <td>5</td>\n",
       "      <td>2</td>\n",
       "      <td>5</td>\n",
       "    </tr>\n",
       "    <tr>\n",
       "      <th>2</th>\n",
       "      <td>1492</td>\n",
       "      <td>489</td>\n",
       "      <td>2560000</td>\n",
       "      <td>32</td>\n",
       "      <td>0</td>\n",
       "      <td>4</td>\n",
       "      <td>20.00</td>\n",
       "      <td>80000.000000</td>\n",
       "      <td>32</td>\n",
       "      <td>160.000000</td>\n",
       "      <td>2018-05-05</td>\n",
       "      <td>5</td>\n",
       "      <td>2</td>\n",
       "      <td>5</td>\n",
       "    </tr>\n",
       "    <tr>\n",
       "      <th>3</th>\n",
       "      <td>1492</td>\n",
       "      <td>429</td>\n",
       "      <td>1200000</td>\n",
       "      <td>12</td>\n",
       "      <td>0</td>\n",
       "      <td>1</td>\n",
       "      <td>11.01</td>\n",
       "      <td>100000.000000</td>\n",
       "      <td>12</td>\n",
       "      <td>108.991826</td>\n",
       "      <td>2018-05-05</td>\n",
       "      <td>5</td>\n",
       "      <td>2</td>\n",
       "      <td>5</td>\n",
       "    </tr>\n",
       "    <tr>\n",
       "      <th>4</th>\n",
       "      <td>1492</td>\n",
       "      <td>524</td>\n",
       "      <td>1200000</td>\n",
       "      <td>15</td>\n",
       "      <td>0</td>\n",
       "      <td>3</td>\n",
       "      <td>16.67</td>\n",
       "      <td>80000.000000</td>\n",
       "      <td>15</td>\n",
       "      <td>89.982004</td>\n",
       "      <td>2018-05-05</td>\n",
       "      <td>5</td>\n",
       "      <td>2</td>\n",
       "      <td>5</td>\n",
       "    </tr>\n",
       "    <tr>\n",
       "      <th>5</th>\n",
       "      <td>1492</td>\n",
       "      <td>71</td>\n",
       "      <td>1050000</td>\n",
       "      <td>7</td>\n",
       "      <td>0</td>\n",
       "      <td>3</td>\n",
       "      <td>0.98</td>\n",
       "      <td>150000.000000</td>\n",
       "      <td>7</td>\n",
       "      <td>714.285714</td>\n",
       "      <td>2018-05-05</td>\n",
       "      <td>5</td>\n",
       "      <td>2</td>\n",
       "      <td>5</td>\n",
       "    </tr>\n",
       "    <tr>\n",
       "      <th>6</th>\n",
       "      <td>1492</td>\n",
       "      <td>163</td>\n",
       "      <td>1020000</td>\n",
       "      <td>10</td>\n",
       "      <td>0</td>\n",
       "      <td>3</td>\n",
       "      <td>7.69</td>\n",
       "      <td>102000.000000</td>\n",
       "      <td>10</td>\n",
       "      <td>130.039012</td>\n",
       "      <td>2018-05-05</td>\n",
       "      <td>5</td>\n",
       "      <td>2</td>\n",
       "      <td>5</td>\n",
       "    </tr>\n",
       "    <tr>\n",
       "      <th>7</th>\n",
       "      <td>1492</td>\n",
       "      <td>450</td>\n",
       "      <td>750000</td>\n",
       "      <td>5</td>\n",
       "      <td>0</td>\n",
       "      <td>3</td>\n",
       "      <td>1.57</td>\n",
       "      <td>150000.000000</td>\n",
       "      <td>5</td>\n",
       "      <td>318.471338</td>\n",
       "      <td>2018-05-05</td>\n",
       "      <td>5</td>\n",
       "      <td>2</td>\n",
       "      <td>5</td>\n",
       "    </tr>\n",
       "    <tr>\n",
       "      <th>8</th>\n",
       "      <td>1492</td>\n",
       "      <td>51</td>\n",
       "      <td>750000</td>\n",
       "      <td>11</td>\n",
       "      <td>0</td>\n",
       "      <td>2</td>\n",
       "      <td>0.95</td>\n",
       "      <td>68181.818182</td>\n",
       "      <td>11</td>\n",
       "      <td>1157.894737</td>\n",
       "      <td>2018-05-05</td>\n",
       "      <td>5</td>\n",
       "      <td>2</td>\n",
       "      <td>5</td>\n",
       "    </tr>\n",
       "    <tr>\n",
       "      <th>9</th>\n",
       "      <td>1492</td>\n",
       "      <td>522</td>\n",
       "      <td>600000</td>\n",
       "      <td>4</td>\n",
       "      <td>0</td>\n",
       "      <td>3</td>\n",
       "      <td>1.55</td>\n",
       "      <td>150000.000000</td>\n",
       "      <td>4</td>\n",
       "      <td>258.064516</td>\n",
       "      <td>2018-05-05</td>\n",
       "      <td>5</td>\n",
       "      <td>2</td>\n",
       "      <td>5</td>\n",
       "    </tr>\n",
       "  </tbody>\n",
       "</table>\n",
       "</div>"
      ],
      "text/plain": [
       "   film_code  cinema_code  total_sales  tickets_sold  tickets_out  show_time  \\\n",
       "0       1492          304      3900000            26            0          4   \n",
       "1       1492          352      3360000            42            0          5   \n",
       "2       1492          489      2560000            32            0          4   \n",
       "3       1492          429      1200000            12            0          1   \n",
       "4       1492          524      1200000            15            0          3   \n",
       "5       1492           71      1050000             7            0          3   \n",
       "6       1492          163      1020000            10            0          3   \n",
       "7       1492          450       750000             5            0          3   \n",
       "8       1492           51       750000            11            0          2   \n",
       "9       1492          522       600000             4            0          3   \n",
       "\n",
       "   occu_perc   ticket_price  ticket_use     capacity        date  month  \\\n",
       "0       4.26  150000.000000          26   610.328638  2018-05-05      5   \n",
       "1       8.08   80000.000000          42   519.801980  2018-05-05      5   \n",
       "2      20.00   80000.000000          32   160.000000  2018-05-05      5   \n",
       "3      11.01  100000.000000          12   108.991826  2018-05-05      5   \n",
       "4      16.67   80000.000000          15    89.982004  2018-05-05      5   \n",
       "5       0.98  150000.000000           7   714.285714  2018-05-05      5   \n",
       "6       7.69  102000.000000          10   130.039012  2018-05-05      5   \n",
       "7       1.57  150000.000000           5   318.471338  2018-05-05      5   \n",
       "8       0.95   68181.818182          11  1157.894737  2018-05-05      5   \n",
       "9       1.55  150000.000000           4   258.064516  2018-05-05      5   \n",
       "\n",
       "   quarter  day  \n",
       "0        2    5  \n",
       "1        2    5  \n",
       "2        2    5  \n",
       "3        2    5  \n",
       "4        2    5  \n",
       "5        2    5  \n",
       "6        2    5  \n",
       "7        2    5  \n",
       "8        2    5  \n",
       "9        2    5  "
      ]
     },
     "metadata": {},
     "output_type": "display_data"
    }
   ],
   "source": [
    "import pandas as pd\n",
    "import matplotlib.pyplot as plt\n",
    "import seaborn as sns\n",
    "import numpy as np\n",
    "import sklearn as sklearn\n",
    "\n",
    "df = pd.read_csv('datasets/cinematicket_ref.csv', sep=\",\", header=0)\n",
    "\n",
    "display(df.head(10))\n",
    "\n",
    "\n",
    "# removendo string data, pois so tem filmes de 2018, e temos month, quarter, day em outras colunas\n",
    "df = df.drop(['date'], axis=1)\n"
   ]
  },
  {
   "cell_type": "markdown",
   "metadata": {},
   "source": [
    "### Tratamento de dados"
   ]
  },
  {
   "cell_type": "markdown",
   "metadata": {},
   "source": [
    "procurando celulas vazias"
   ]
  },
  {
   "cell_type": "code",
   "execution_count": 270,
   "metadata": {},
   "outputs": [
    {
     "name": "stdout",
     "output_type": "stream",
     "text": [
      "porcentagem de valores faltando 0.013493004147209754\n",
      "film_code         0\n",
      "cinema_code       0\n",
      "total_sales       0\n",
      "tickets_sold      0\n",
      "tickets_out       0\n",
      "show_time         0\n",
      "occu_perc       125\n",
      "ticket_price      0\n",
      "ticket_use        0\n",
      "capacity        125\n",
      "month             0\n",
      "quarter           0\n",
      "day               0\n",
      "dtype: int64\n"
     ]
    }
   ],
   "source": [
    "\n",
    "missing_values_count = df.isnull().sum()\n",
    "total_cells = np.product(df.shape)\n",
    "total_missing = missing_values_count.sum()\n",
    "\n",
    "print('porcentagem de valores faltando', (total_missing/total_cells) * 100)\n",
    "\n",
    "print(df.isnull().sum())"
   ]
  },
  {
   "cell_type": "markdown",
   "metadata": {},
   "source": [
    "preenchendo as celulas vazias com a media de cada coluna"
   ]
  },
  {
   "cell_type": "code",
   "execution_count": 271,
   "metadata": {},
   "outputs": [
    {
     "name": "stdout",
     "output_type": "stream",
     "text": [
      "film_code       0\n",
      "cinema_code     0\n",
      "total_sales     0\n",
      "tickets_sold    0\n",
      "tickets_out     0\n",
      "show_time       0\n",
      "occu_perc       0\n",
      "ticket_price    0\n",
      "ticket_use      0\n",
      "capacity        0\n",
      "month           0\n",
      "quarter         0\n",
      "day             0\n",
      "dtype: int64\n"
     ]
    }
   ],
   "source": [
    "# vamos preencher celulas vazias com a media de cada coluna\n",
    "\n",
    "mean_occurrence = df['occu_perc'].mean()\n",
    "mean_capacity = df['capacity'].mean()\n",
    "\n",
    "df['occu_perc'].fillna(mean_occurrence, inplace=True)\n",
    "df['capacity'].fillna(mean_capacity, inplace=True)\n",
    "\n",
    "print(df.isnull().sum())"
   ]
  },
  {
   "cell_type": "markdown",
   "metadata": {},
   "source": [
    "procurando valores repetidos"
   ]
  },
  {
   "cell_type": "code",
   "execution_count": 272,
   "metadata": {},
   "outputs": [
    {
     "name": "stdout",
     "output_type": "stream",
     "text": [
      "106\n",
      "0\n",
      "Duplicated film codes:  142370\n",
      "Duplicated cinema codes:  142172\n"
     ]
    }
   ],
   "source": [
    "print(df.duplicated().sum())\n",
    "\n",
    "df.drop_duplicates(inplace=True)\n",
    "\n",
    "print(df.duplicated().sum())\n",
    "\n",
    "print('Duplicated film codes: ', df['film_code'].duplicated().sum())\n",
    "print('Duplicated cinema codes: ', df['cinema_code'].duplicated().sum())\n",
    "\n",
    "# temos muitos codigos de cinemas e filmes duplicados que podem afetar nosso modelo, por isso vamos tira-los da equacao"
   ]
  },
  {
   "cell_type": "code",
   "execution_count": 273,
   "metadata": {},
   "outputs": [
    {
     "data": {
      "text/html": [
       "<div>\n",
       "<style scoped>\n",
       "    .dataframe tbody tr th:only-of-type {\n",
       "        vertical-align: middle;\n",
       "    }\n",
       "\n",
       "    .dataframe tbody tr th {\n",
       "        vertical-align: top;\n",
       "    }\n",
       "\n",
       "    .dataframe thead th {\n",
       "        text-align: right;\n",
       "    }\n",
       "</style>\n",
       "<table border=\"1\" class=\"dataframe\">\n",
       "  <thead>\n",
       "    <tr style=\"text-align: right;\">\n",
       "      <th></th>\n",
       "      <th>film_code</th>\n",
       "      <th>cinema_code</th>\n",
       "      <th>total_sales</th>\n",
       "      <th>tickets_sold</th>\n",
       "      <th>tickets_out</th>\n",
       "      <th>show_time</th>\n",
       "      <th>occu_perc</th>\n",
       "      <th>ticket_price</th>\n",
       "      <th>ticket_use</th>\n",
       "      <th>capacity</th>\n",
       "      <th>month</th>\n",
       "      <th>quarter</th>\n",
       "      <th>day</th>\n",
       "    </tr>\n",
       "  </thead>\n",
       "  <tbody>\n",
       "    <tr>\n",
       "      <th>count</th>\n",
       "      <td>142418.000000</td>\n",
       "      <td>142418.000000</td>\n",
       "      <td>1.424180e+05</td>\n",
       "      <td>142418.000000</td>\n",
       "      <td>142418.000000</td>\n",
       "      <td>142418.000000</td>\n",
       "      <td>142418.000000</td>\n",
       "      <td>142418.000000</td>\n",
       "      <td>142418.000000</td>\n",
       "      <td>142418.000000</td>\n",
       "      <td>142418.000000</td>\n",
       "      <td>142418.000000</td>\n",
       "      <td>142418.000000</td>\n",
       "    </tr>\n",
       "    <tr>\n",
       "      <th>mean</th>\n",
       "      <td>1519.011150</td>\n",
       "      <td>320.388806</td>\n",
       "      <td>1.233589e+07</td>\n",
       "      <td>140.048252</td>\n",
       "      <td>0.237519</td>\n",
       "      <td>3.931610</td>\n",
       "      <td>19.955654</td>\n",
       "      <td>81229.345104</td>\n",
       "      <td>139.810733</td>\n",
       "      <td>854.570147</td>\n",
       "      <td>6.779663</td>\n",
       "      <td>2.635938</td>\n",
       "      <td>16.106714</td>\n",
       "    </tr>\n",
       "    <tr>\n",
       "      <th>std</th>\n",
       "      <td>36.185319</td>\n",
       "      <td>159.703461</td>\n",
       "      <td>3.063769e+07</td>\n",
       "      <td>279.725269</td>\n",
       "      <td>2.924270</td>\n",
       "      <td>3.056189</td>\n",
       "      <td>22.638610</td>\n",
       "      <td>33237.810182</td>\n",
       "      <td>279.531300</td>\n",
       "      <td>952.528421</td>\n",
       "      <td>2.194240</td>\n",
       "      <td>0.808764</td>\n",
       "      <td>8.950213</td>\n",
       "    </tr>\n",
       "    <tr>\n",
       "      <th>min</th>\n",
       "      <td>1471.000000</td>\n",
       "      <td>32.000000</td>\n",
       "      <td>2.000000e+04</td>\n",
       "      <td>1.000000</td>\n",
       "      <td>0.000000</td>\n",
       "      <td>1.000000</td>\n",
       "      <td>0.000000</td>\n",
       "      <td>483.870968</td>\n",
       "      <td>-219.000000</td>\n",
       "      <td>-2.000000</td>\n",
       "      <td>2.000000</td>\n",
       "      <td>1.000000</td>\n",
       "      <td>1.000000</td>\n",
       "    </tr>\n",
       "    <tr>\n",
       "      <th>25%</th>\n",
       "      <td>1485.000000</td>\n",
       "      <td>181.000000</td>\n",
       "      <td>1.260000e+06</td>\n",
       "      <td>18.000000</td>\n",
       "      <td>0.000000</td>\n",
       "      <td>2.000000</td>\n",
       "      <td>3.750000</td>\n",
       "      <td>60000.000000</td>\n",
       "      <td>18.000000</td>\n",
       "      <td>277.777778</td>\n",
       "      <td>5.000000</td>\n",
       "      <td>2.000000</td>\n",
       "      <td>8.000000</td>\n",
       "    </tr>\n",
       "    <tr>\n",
       "      <th>50%</th>\n",
       "      <td>1498.000000</td>\n",
       "      <td>324.000000</td>\n",
       "      <td>3.710000e+06</td>\n",
       "      <td>50.000000</td>\n",
       "      <td>0.000000</td>\n",
       "      <td>3.000000</td>\n",
       "      <td>10.360000</td>\n",
       "      <td>79440.559441</td>\n",
       "      <td>50.000000</td>\n",
       "      <td>525.980224</td>\n",
       "      <td>7.000000</td>\n",
       "      <td>3.000000</td>\n",
       "      <td>16.000000</td>\n",
       "    </tr>\n",
       "    <tr>\n",
       "      <th>75%</th>\n",
       "      <td>1556.000000</td>\n",
       "      <td>474.000000</td>\n",
       "      <td>1.110000e+07</td>\n",
       "      <td>143.000000</td>\n",
       "      <td>0.000000</td>\n",
       "      <td>5.000000</td>\n",
       "      <td>28.180000</td>\n",
       "      <td>100000.000000</td>\n",
       "      <td>143.000000</td>\n",
       "      <td>1037.768054</td>\n",
       "      <td>9.000000</td>\n",
       "      <td>3.000000</td>\n",
       "      <td>24.000000</td>\n",
       "    </tr>\n",
       "    <tr>\n",
       "      <th>max</th>\n",
       "      <td>1589.000000</td>\n",
       "      <td>637.000000</td>\n",
       "      <td>1.262820e+09</td>\n",
       "      <td>8499.000000</td>\n",
       "      <td>311.000000</td>\n",
       "      <td>60.000000</td>\n",
       "      <td>147.500000</td>\n",
       "      <td>700000.000000</td>\n",
       "      <td>8499.000000</td>\n",
       "      <td>9692.097160</td>\n",
       "      <td>11.000000</td>\n",
       "      <td>4.000000</td>\n",
       "      <td>31.000000</td>\n",
       "    </tr>\n",
       "  </tbody>\n",
       "</table>\n",
       "</div>"
      ],
      "text/plain": [
       "           film_code    cinema_code   total_sales   tickets_sold  \\\n",
       "count  142418.000000  142418.000000  1.424180e+05  142418.000000   \n",
       "mean     1519.011150     320.388806  1.233589e+07     140.048252   \n",
       "std        36.185319     159.703461  3.063769e+07     279.725269   \n",
       "min      1471.000000      32.000000  2.000000e+04       1.000000   \n",
       "25%      1485.000000     181.000000  1.260000e+06      18.000000   \n",
       "50%      1498.000000     324.000000  3.710000e+06      50.000000   \n",
       "75%      1556.000000     474.000000  1.110000e+07     143.000000   \n",
       "max      1589.000000     637.000000  1.262820e+09    8499.000000   \n",
       "\n",
       "         tickets_out      show_time      occu_perc   ticket_price  \\\n",
       "count  142418.000000  142418.000000  142418.000000  142418.000000   \n",
       "mean        0.237519       3.931610      19.955654   81229.345104   \n",
       "std         2.924270       3.056189      22.638610   33237.810182   \n",
       "min         0.000000       1.000000       0.000000     483.870968   \n",
       "25%         0.000000       2.000000       3.750000   60000.000000   \n",
       "50%         0.000000       3.000000      10.360000   79440.559441   \n",
       "75%         0.000000       5.000000      28.180000  100000.000000   \n",
       "max       311.000000      60.000000     147.500000  700000.000000   \n",
       "\n",
       "          ticket_use       capacity          month        quarter  \\\n",
       "count  142418.000000  142418.000000  142418.000000  142418.000000   \n",
       "mean      139.810733     854.570147       6.779663       2.635938   \n",
       "std       279.531300     952.528421       2.194240       0.808764   \n",
       "min      -219.000000      -2.000000       2.000000       1.000000   \n",
       "25%        18.000000     277.777778       5.000000       2.000000   \n",
       "50%        50.000000     525.980224       7.000000       3.000000   \n",
       "75%       143.000000    1037.768054       9.000000       3.000000   \n",
       "max      8499.000000    9692.097160      11.000000       4.000000   \n",
       "\n",
       "                 day  \n",
       "count  142418.000000  \n",
       "mean       16.106714  \n",
       "std         8.950213  \n",
       "min         1.000000  \n",
       "25%         8.000000  \n",
       "50%        16.000000  \n",
       "75%        24.000000  \n",
       "max        31.000000  "
      ]
     },
     "metadata": {},
     "output_type": "display_data"
    },
    {
     "name": "stdout",
     "output_type": "stream",
     "text": [
      "column:  film_code  correlation %: 1.02\n",
      "column:  cinema_code  correlation %: -1.30\n",
      "column:  total_sales  correlation %: 100.00\n",
      "column:  tickets_sold  correlation %: 91.52\n",
      "column:  tickets_out  correlation %: 6.69\n",
      "column:  show_time  correlation %: 51.00\n",
      "column:  occu_perc  correlation %: 41.40\n",
      "column:  ticket_price  correlation %: 27.21\n",
      "column:  ticket_use  correlation %: 91.51\n",
      "column:  capacity  correlation %: 37.60\n",
      "column:  month  correlation %: -8.01\n",
      "column:  quarter  correlation %: -5.08\n",
      "column:  day  correlation %: -0.08\n"
     ]
    }
   ],
   "source": [
    "display(df.describe())\n",
    "columns = df.columns.tolist()\n",
    "\n",
    "goodCorrelationColumns = []\n",
    "\n",
    "for c in columns:\n",
    "    if df[c].corr(df['total_sales'])*100 > 25 and c != 'total_sales':\n",
    "        goodCorrelationColumns.append(c)\n",
    "    print('column: ', c, ' correlation %%: %.2f' %(df[c].corr(df['total_sales'])*100))\n"
   ]
  },
  {
   "cell_type": "code",
   "execution_count": 274,
   "metadata": {},
   "outputs": [
    {
     "name": "stdout",
     "output_type": "stream",
     "text": [
      "(142418, 6)\n",
      "(142418,)\n"
     ]
    }
   ],
   "source": [
    "cinema={}\n",
    "# cinema[\"features\"] = np.hstack([df.values[::, :2], df.values[::, 3:]])\n",
    "# cinema[\"target\"] = df.values[:, 2]\n",
    "\n",
    "cinema[\"features\"] = df[goodCorrelationColumns]\n",
    "cinema[\"target\"] = df['total_sales']\n",
    "\n",
    "\n",
    "print(cinema['features'].shape)\n",
    "print(cinema['target'].shape)"
   ]
  },
  {
   "cell_type": "markdown",
   "metadata": {},
   "source": [
    "### Aplicando regressao linear"
   ]
  },
  {
   "cell_type": "code",
   "execution_count": 275,
   "metadata": {},
   "outputs": [
    {
     "name": "stdout",
     "output_type": "stream",
     "text": [
      "Mean squared error: 121646332266134.62\n",
      "Coefficient of determination: 0.88\n"
     ]
    },
    {
     "data": {
      "image/png": "[encoded data removed]",
      "text/plain": [
       "<Figure size 432x288 with 1 Axes>"
      ]
     },
     "metadata": {
      "needs_background": "light"
     },
     "output_type": "display_data"
    },
    {
     "name": "stdout",
     "output_type": "stream",
     "text": [
      "Coefficients: \n",
      " [ 1.19114818e+05  2.79232917e+05 -9.99718744e+04  1.62845359e+02\n",
      " -1.63212857e+04 -1.72517383e+03]\n",
      "Intercept: \n",
      " -12928484.640526857\n",
      "Score: \n",
      " 0.8754409073851191\n",
      "Model: \n",
      " LinearRegression()\n",
      "scores: \n",
      " [-1.32562860e+14 -1.18796985e+14 -1.17933152e+14 -1.24696020e+14\n",
      " -1.10161004e+14 -1.18469293e+14 -1.29274808e+14]\n",
      "-121699160460984.1\n",
      "7076703215688.411\n"
     ]
    }
   ],
   "source": [
    "from sklearn.model_selection import train_test_split\n",
    "from sklearn.linear_model import LinearRegression\n",
    "from sklearn.model_selection import cross_val_score\n",
    "\n",
    "def regression_analysis(target, features):\n",
    "    # split the data into training and testing sets\n",
    "    x_train, x_test, y_train, y_test = train_test_split(features, target, test_size=0.3)\n",
    "\n",
    "    # train the model\n",
    "    model = LinearRegression()\n",
    "    model.fit(x_train, y_train)\n",
    "\n",
    "    # make predictions\n",
    "    y_pred = model.predict(x_test)\n",
    "\n",
    "    # evaluate the model\n",
    "    from sklearn.metrics import mean_squared_error, r2_score\n",
    "    print('Mean squared error: %.2f' % mean_squared_error(y_test, y_pred))\n",
    "    print('Coefficient of determination: %.2f' % r2_score(y_test, y_pred))\n",
    "\n",
    "    # plot the results\n",
    "    plt.scatter(y_test, y_pred)\n",
    "    plt.xlabel('True Values')\n",
    "    plt.ylabel('Predictions')\n",
    "    plt.show()\n",
    "\n",
    "    # print the coefficients\n",
    "    print('Coefficients: \\n', model.coef_)\n",
    "    # print the intercept\n",
    "    print('Intercept: \\n', model.intercept_)\n",
    "    # print the score\n",
    "    print('Score: \\n', model.score(x_test, y_test))\n",
    "    # print the model\n",
    "    print('Model: \\n', model)\n",
    "    \n",
    "    from sklearn.model_selection import cross_val_score\n",
    "    \n",
    "    scores = cross_val_score(model, x_test, y_test, cv=7, scoring='neg_mean_squared_error')\n",
    "    print('scores: \\n', scores)\n",
    "    \n",
    "    print(scores.mean())\n",
    "    print(scores.std())\n",
    "\n",
    "regression_analysis(cinema[\"target\"], cinema[\"features\"])\n"
   ]
  },
  {
   "cell_type": "markdown",
   "metadata": {},
   "source": [
    "## Utilizando outros modelos de Regressão Linear para verificar o resultado"
   ]
  },
  {
   "cell_type": "code",
   "execution_count": 276,
   "metadata": {},
   "outputs": [],
   "source": [
    "def norma_l2(X):\n",
    "    X = X.astype(int)\n",
    "    X = X - np.mean(X, axis=0)\n",
    "    X = X / np.linalg.norm(X, axis=0)\n",
    "    return X"
   ]
  },
  {
   "cell_type": "markdown",
   "metadata": {},
   "source": [
    "### Lasso Regression"
   ]
  },
  {
   "cell_type": "code",
   "execution_count": 277,
   "metadata": {},
   "outputs": [
    {
     "name": "stderr",
     "output_type": "stream",
     "text": [
      "c:\\Users\\thiago\\anaconda3\\lib\\site-packages\\sklearn\\linear_model\\_coordinate_descent.py:647: ConvergenceWarning: Objective did not converge. You might want to increase the number of iterations, check the scale of the features or consider increasing regularisation. Duality gap: 7.855e+18, tolerance: 1.295e+16\n",
      "  model = cd_fast.enet_coordinate_descent(\n",
      "c:\\Users\\thiago\\anaconda3\\lib\\site-packages\\sklearn\\linear_model\\_coordinate_descent.py:647: ConvergenceWarning: Objective did not converge. You might want to increase the number of iterations, check the scale of the features or consider increasing regularisation. Duality gap: 7.919e+18, tolerance: 1.302e+16\n",
      "  model = cd_fast.enet_coordinate_descent(\n",
      "c:\\Users\\thiago\\anaconda3\\lib\\site-packages\\sklearn\\linear_model\\_coordinate_descent.py:647: ConvergenceWarning: Objective did not converge. You might want to increase the number of iterations, check the scale of the features or consider increasing regularisation. Duality gap: 6.702e+18, tolerance: 1.221e+16\n",
      "  model = cd_fast.enet_coordinate_descent(\n",
      "c:\\Users\\thiago\\anaconda3\\lib\\site-packages\\sklearn\\linear_model\\_coordinate_descent.py:647: ConvergenceWarning: Objective did not converge. You might want to increase the number of iterations, check the scale of the features or consider increasing regularisation. Duality gap: 6.383e+18, tolerance: 9.924e+15\n",
      "  model = cd_fast.enet_coordinate_descent(\n",
      "c:\\Users\\thiago\\anaconda3\\lib\\site-packages\\sklearn\\linear_model\\_coordinate_descent.py:647: ConvergenceWarning: Objective did not converge. You might want to increase the number of iterations, check the scale of the features or consider increasing regularisation. Duality gap: 4.074e+18, tolerance: 7.712e+15\n",
      "  model = cd_fast.enet_coordinate_descent(\n",
      "c:\\Users\\thiago\\anaconda3\\lib\\site-packages\\sklearn\\linear_model\\_coordinate_descent.py:647: ConvergenceWarning: Objective did not converge. You might want to increase the number of iterations, check the scale of the features or consider increasing regularisation. Duality gap: 7.200e+18, tolerance: 1.207e+16\n",
      "  model = cd_fast.enet_coordinate_descent(\n"
     ]
    },
    {
     "name": "stdout",
     "output_type": "stream",
     "text": [
      "ls score:  0.8332024498650725\n"
     ]
    },
    {
     "name": "stderr",
     "output_type": "stream",
     "text": [
      "c:\\Users\\thiago\\anaconda3\\lib\\site-packages\\sklearn\\linear_model\\_coordinate_descent.py:647: ConvergenceWarning: Objective did not converge. You might want to increase the number of iterations, check the scale of the features or consider increasing regularisation. Duality gap: 7.395e+18, tolerance: 1.226e+16\n",
      "  model = cd_fast.enet_coordinate_descent(\n"
     ]
    }
   ],
   "source": [
    "from sklearn.linear_model import Lasso\n",
    "\n",
    "ls = Lasso(alpha=0.01)\n",
    "ls_scores = cross_val_score(ls, norma_l2(cinema[\"features\"]), cinema[\"target\"], cv=7)\n",
    "\n",
    "print('ls score: ', ls_scores.mean())\n"
   ]
  },
  {
   "cell_type": "markdown",
   "metadata": {},
   "source": [
    "### Ridge Regression"
   ]
  },
  {
   "cell_type": "code",
   "execution_count": 278,
   "metadata": {},
   "outputs": [
    {
     "name": "stdout",
     "output_type": "stream",
     "text": [
      "[0.81424783 0.7117432  0.84739831 0.893907   0.86866465 0.82599729\n",
      " 0.87036798]\n",
      "lr mean scores:  0.8331894676273419\n",
      "rg mean scores:  0.8390185126961113\n",
      "rg alpha:  0.00025\n"
     ]
    }
   ],
   "source": [
    "from sklearn.linear_model import Ridge\n",
    "\n",
    "\n",
    "rg = Ridge(alpha=0.05)\n",
    "lr = LinearRegression()\n",
    "\n",
    "lr_scores = cross_val_score(lr, norma_l2(cinema[\"features\"]), cinema[\"target\"], cv=7,)\n",
    "print(lr_scores)\n",
    "print('lr mean scores: ', lr_scores.mean())\n",
    "\n",
    "rg_scores = cross_val_score(rg, norma_l2(cinema[\"features\"]), cinema[\"target\"], cv=7)\n",
    "print('rg mean scores: ', rg_scores.mean())\n",
    "\n",
    "from sklearn.linear_model import RidgeCV\n",
    "\n",
    "rg = RidgeCV(alphas=(1.0, 0.1, 0.01, 0.005, 0.0025, 0.001, 0.00025))\n",
    "rg.fit(norma_l2(cinema[\"features\"]), cinema[\"target\"])\n",
    "\n",
    "print('rg alpha: ', rg.alpha_)"
   ]
  },
  {
   "cell_type": "markdown",
   "metadata": {},
   "source": [
    "### ElasticNet Regression"
   ]
  },
  {
   "cell_type": "code",
   "execution_count": 279,
   "metadata": {},
   "outputs": [
    {
     "name": "stdout",
     "output_type": "stream",
     "text": [
      "ElasticNet mean scores:  0.06945690280773209\n",
      "0.001\n",
      "0.8\n"
     ]
    }
   ],
   "source": [
    "from sklearn.linear_model import ElasticNet, ElasticNetCV\n",
    "\n",
    "en = ElasticNet(alpha=0.001, l1_ratio=0.8)\n",
    "en_scores = cross_val_score(en, norma_l2(cinema[\"features\"]), cinema[\"target\"], cv=10)\n",
    "\n",
    "print('ElasticNet mean scores: ',en_scores.mean())\n",
    "\n",
    "encv = ElasticNetCV(alphas=(0.1, 0.01, 0.005, 0.0025, 0.001), l1_ratio=(0.1, 0.25, 0.5, 0.75, 0.8))\n",
    "encv.fit(norma_l2(cinema[\"features\"]), cinema[\"target\"])\n",
    "\n",
    "print(encv.alpha_)\n",
    "print(encv.l1_ratio_)"
   ]
  },
  {
   "cell_type": "markdown",
   "metadata": {},
   "source": [
    "### RANSAC Regression"
   ]
  },
  {
   "cell_type": "code",
   "execution_count": 280,
   "metadata": {},
   "outputs": [],
   "source": [
    "import matplotlib.pyplot as plt\n",
    "\n",
    "# X = cinema[\"features\"]\n",
    "# Y = cinema[\"target\"]\n",
    "\n",
    "# print(X.shape, Y.shape)\n",
    "\n",
    "# plt.scatter(X,Y)\n",
    "# plt.show()\n",
    "\n",
    "# x,y = cinema[\"features\"], cinema[\"target\"]\n"
   ]
  }
 ],
 "metadata": {
  "kernelspec": {
   "display_name": "Python 3.9.12 ('base')",
   "language": "python",
   "name": "python3"
  },
  "language_info": {
   "codemirror_mode": {
    "name": "ipython",
    "version": 3
   },
   "file_extension": ".py",
   "mimetype": "text/x-python",
   "name": "python",
   "nbconvert_exporter": "python",
   "pygments_lexer": "ipython3",
   "version": "3.9.12"
  },
  "vscode": {
   "interpreter": {
    "hash": "b7175ea596b0e890ecad86ec68ea0c05380b51b685ba7441448326694beef3a1"
   }
  }
 },
 "nbformat": 4,
 "nbformat_minor": 2
}
