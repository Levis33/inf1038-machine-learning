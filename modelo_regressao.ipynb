{
 "cells": [
  {
   "cell_type": "markdown",
   "metadata": {},
   "source": [
    "# Modelo de Regressão (CinemaTicketRef Dataset)"
   ]
  },
  {
   "cell_type": "code",
   "execution_count": 66,
   "metadata": {},
   "outputs": [],
   "source": [
    "#notebook\n",
    "import pandas as pd\n",
    "import matplotlib.pyplot as plt\n",
    "import seaborn as sns\n",
    "import numpy as np\n",
    "import sklearn as sklearn\n",
    "from sklearn.model_selection import train_test_split\n",
    "from sklearn.linear_model import LinearRegression\n",
    "from sklearn.model_selection import cross_val_score\n"
   ]
  },
  {
   "cell_type": "markdown",
   "metadata": {},
   "source": [
    "### Objetivo:\n",
    "Tentar prever o preço total de vendas com base em outras variáveis"
   ]
  },
  {
   "cell_type": "code",
   "execution_count": 75,
   "metadata": {},
   "outputs": [
    {
     "name": "stdout",
     "output_type": "stream",
     "text": [
      "0.012529218136694772\n",
      "film_code         0\n",
      "cinema_code       0\n",
      "total_sales       0\n",
      "tickets_sold      0\n",
      "tickets_out       0\n",
      "show_time         0\n",
      "occu_perc       125\n",
      "ticket_price      0\n",
      "ticket_use        0\n",
      "capacity        125\n",
      "month             0\n",
      "quarter           0\n",
      "day               0\n",
      "dtype: int64\n",
      "(142399, 12)\n",
      "(142399,)\n"
     ]
    }
   ],
   "source": [
    "df = pd.read_csv('datasets/cinematicket_ref.csv', sep=\",\", header=0)\n",
    "\n",
    "# tratamento de dados\n",
    "\n",
    "missing_values_count = df.isnull().sum()\n",
    "\n",
    "total_cells = np.product(df.shape)\n",
    "total_missing = missing_values_count.sum()\n",
    "\n",
    "print((total_missing/total_cells) * 100)\n",
    "\n",
    "# removendo string data, pois so tem filmes de 2018, e temos month, quarter, day em outras colunas\n",
    "# remove column date\n",
    "df = df.drop(['date'], axis=1)\n",
    "\n",
    "print(df.isnull().sum())\n",
    "\n",
    "# vamos remover os dados onde apresentam valores NULL, (nao sei se vale a pena, mas como apresenta uma pouca porcentagme dos dados acho que nao faria muita diferenca)\n",
    "\n",
    "df.dropna(inplace=True)\n",
    "\n",
    "cinema={}\n",
    "cinema[\"features\"] = np.hstack([df.values[::, :2], df.values[::, 3:]])\n",
    "cinema[\"target\"] = df.values[:, 2]\n",
    "\n",
    "#passando de 1D para 2D\n",
    "# cinema['features'].reshape(-1,1)\n",
    "# cinema['target'].reshape(-1,1)\n",
    "\n",
    "print(cinema['features'].shape)\n",
    "print(cinema['target'].shape)"
   ]
  },
  {
   "cell_type": "code",
   "execution_count": 94,
   "metadata": {},
   "outputs": [
    {
     "name": "stdout",
     "output_type": "stream",
     "text": [
      "(99679, 12)\n",
      "(99679,)\n",
      "Mean squared error: 111222673484439.42\n",
      "Coefficient of determination: 0.87\n"
     ]
    },
    {
     "data": {
      "image/png": "[encoded data removed]",
      "text/plain": [
       "<Figure size 432x288 with 1 Axes>"
      ]
     },
     "metadata": {
      "needs_background": "light"
     },
     "output_type": "display_data"
    },
    {
     "name": "stdout",
     "output_type": "stream",
     "text": [
      "Coefficients: \n",
      " [-2.72212897e+04  7.06839988e+03  7.37654797e+04  4.36795451e+04\n",
      "  2.88266699e+05 -1.05667797e+05  1.64813235e+02  3.00859346e+04\n",
      " -1.38631956e+03  8.61069301e+05 -1.51857140e+06  1.90317642e+04]\n",
      "Intercept: \n",
      " 23507028.748389926\n",
      "Score: \n",
      " 0.8735434944427404\n",
      "Model: \n",
      " LinearRegression()\n",
      "scores: \n",
      " [-1.09668421e+14 -1.00744006e+14 -1.44566477e+14 -9.62393331e+13\n",
      " -1.13333570e+14 -1.00372233e+14 -1.17814335e+14]\n",
      "-111819767968177.33\n",
      "15173615340532.104\n"
     ]
    }
   ],
   "source": [
    "def regression_analysis(target, features):\n",
    "    # split the data into training and testing sets\n",
    "    x_train, x_test, y_train, y_test = train_test_split(features, target, test_size=0.3)\n",
    "    print(x_train.shape)\n",
    "    print(y_train.shape)\n",
    "\n",
    "    # train the model\n",
    "    model = LinearRegression()\n",
    "    model.fit(x_train, y_train)\n",
    "\n",
    "    # make predictions\n",
    "    y_pred = model.predict(x_test)\n",
    "\n",
    "    # evaluate the model\n",
    "    from sklearn.metrics import mean_squared_error, r2_score\n",
    "    print('Mean squared error: %.2f' % mean_squared_error(y_test, y_pred))\n",
    "    print('Coefficient of determination: %.2f' % r2_score(y_test, y_pred))\n",
    "\n",
    "    # plot the results\n",
    "    plt.scatter(y_test, y_pred)\n",
    "    plt.xlabel('True Values')\n",
    "    plt.ylabel('Predictions')\n",
    "    plt.show()\n",
    "\n",
    "    # print the coefficients\n",
    "    print('Coefficients: \\n', model.coef_)\n",
    "    # print the intercept\n",
    "    print('Intercept: \\n', model.intercept_)\n",
    "    # print the score\n",
    "    print('Score: \\n', model.score(x_test, y_test))\n",
    "    # print the model\n",
    "    print('Model: \\n', model)\n",
    "    \n",
    "    from sklearn.model_selection import cross_val_score\n",
    "    \n",
    "    scores = cross_val_score(model, x_test, y_test, cv=7, scoring='neg_mean_squared_error')\n",
    "    print('scores: \\n', scores)\n",
    "    \n",
    "    print(scores.mean())\n",
    "    print(scores.std())\n",
    "\n",
    "regression_analysis(cinema[\"target\"], cinema[\"features\"])\n"
   ]
  },
  {
   "cell_type": "markdown",
   "metadata": {},
   "source": [
    "## Utilizando outros modelos de Regressão Linear para verificar o resultado"
   ]
  },
  {
   "cell_type": "code",
   "execution_count": 84,
   "metadata": {},
   "outputs": [],
   "source": [
    "def norma_l2(X):\n",
    "    X = X.astype(int)\n",
    "    X = X - np.mean(X, axis=0)\n",
    "    X = X / np.linalg.norm(X, axis=0)\n",
    "    return X"
   ]
  },
  {
   "cell_type": "markdown",
   "metadata": {},
   "source": [
    "### Lasso Regression"
   ]
  },
  {
   "cell_type": "code",
   "execution_count": 85,
   "metadata": {},
   "outputs": [
    {
     "name": "stdout",
     "output_type": "stream",
     "text": [
      "ls score:  0.8332794738339586\n"
     ]
    }
   ],
   "source": [
    "from sklearn.linear_model import Lasso\n",
    "\n",
    "ls = Lasso(alpha=0.01)\n",
    "ls_scores = cross_val_score(ls, norma_l2(cinema[\"features\"]), cinema[\"target\"], cv=7)\n",
    "\n",
    "print('ls score: ', ls_scores.mean())\n"
   ]
  },
  {
   "cell_type": "markdown",
   "metadata": {},
   "source": [
    "### Ridge Regression"
   ]
  },
  {
   "cell_type": "code",
   "execution_count": 86,
   "metadata": {},
   "outputs": [
    {
     "name": "stdout",
     "output_type": "stream",
     "text": [
      "[0.81241682 0.70613585 0.84882734 0.89574668 0.86992762 0.82887522\n",
      " 0.87060019]\n",
      "lr mean scores:  0.8332185318277047\n",
      "rg mean scores:  0.83934675440584\n",
      "rg alpha:  0.00025\n"
     ]
    }
   ],
   "source": [
    "from sklearn.linear_model import Ridge\n",
    "\n",
    "\n",
    "rg = Ridge(alpha=0.05)\n",
    "lr = LinearRegression()\n",
    "\n",
    "lr_scores = cross_val_score(lr, norma_l2(cinema[\"features\"]), cinema[\"target\"], cv=7,)\n",
    "print(lr_scores)\n",
    "print('lr mean scores: ', lr_scores.mean())\n",
    "\n",
    "rg_scores = cross_val_score(rg, norma_l2(cinema[\"features\"]), cinema[\"target\"], cv=7)\n",
    "print('rg mean scores: ', rg_scores.mean())\n",
    "\n",
    "from sklearn.linear_model import RidgeCV\n",
    "\n",
    "rg = RidgeCV(alphas=(1.0, 0.1, 0.01, 0.005, 0.0025, 0.001, 0.00025))\n",
    "rg.fit(norma_l2(cinema[\"features\"]), cinema[\"target\"])\n",
    "\n",
    "print('rg alpha: ', rg.alpha_)"
   ]
  },
  {
   "cell_type": "markdown",
   "metadata": {},
   "source": [
    "### ElasticNet Regression"
   ]
  },
  {
   "cell_type": "code",
   "execution_count": 87,
   "metadata": {},
   "outputs": [
    {
     "name": "stdout",
     "output_type": "stream",
     "text": [
      "ElasticNet mean scores:  0.07008270885041956\n",
      "0.001\n",
      "0.8\n"
     ]
    }
   ],
   "source": [
    "from sklearn.linear_model import ElasticNet, ElasticNetCV\n",
    "\n",
    "en = ElasticNet(alpha=0.001, l1_ratio=0.8)\n",
    "en_scores = cross_val_score(en, norma_l2(cinema[\"features\"]), cinema[\"target\"], cv=10)\n",
    "\n",
    "print('ElasticNet mean scores: ',en_scores.mean())\n",
    "\n",
    "encv = ElasticNetCV(alphas=(0.1, 0.01, 0.005, 0.0025, 0.001), l1_ratio=(0.1, 0.25, 0.5, 0.75, 0.8))\n",
    "encv.fit(norma_l2(cinema[\"features\"]), cinema[\"target\"])\n",
    "\n",
    "print(encv.alpha_)\n",
    "print(encv.l1_ratio_)"
   ]
  },
  {
   "cell_type": "markdown",
   "metadata": {},
   "source": [
    "### RANSAC Regression"
   ]
  },
  {
   "cell_type": "code",
   "execution_count": 96,
   "metadata": {},
   "outputs": [
    {
     "name": "stdout",
     "output_type": "stream",
     "text": [
      "(142399, 12) (142399,)\n"
     ]
    },
    {
     "ename": "ValueError",
     "evalue": "x and y must be the same size",
     "output_type": "error",
     "traceback": [
      "\u001b[1;31m---------------------------------------------------------------------------\u001b[0m",
      "\u001b[1;31mValueError\u001b[0m                                Traceback (most recent call last)",
      "\u001b[1;32mc:\\Users\\thiago\\Documents\\GitHub\\inf1038-machine-learning\\modelo_regressao.ipynb Cell 15\u001b[0m in \u001b[0;36m<cell line: 8>\u001b[1;34m()\u001b[0m\n\u001b[0;32m      <a href='vscode-notebook-cell:/c%3A/Users/thiago/Documents/GitHub/inf1038-machine-learning/modelo_regressao.ipynb#X20sZmlsZQ%3D%3D?line=3'>4</a>\u001b[0m Y \u001b[39m=\u001b[39m cinema[\u001b[39m\"\u001b[39m\u001b[39mtarget\u001b[39m\u001b[39m\"\u001b[39m]\n\u001b[0;32m      <a href='vscode-notebook-cell:/c%3A/Users/thiago/Documents/GitHub/inf1038-machine-learning/modelo_regressao.ipynb#X20sZmlsZQ%3D%3D?line=5'>6</a>\u001b[0m \u001b[39mprint\u001b[39m(X\u001b[39m.\u001b[39mshape, Y\u001b[39m.\u001b[39mshape)\n\u001b[1;32m----> <a href='vscode-notebook-cell:/c%3A/Users/thiago/Documents/GitHub/inf1038-machine-learning/modelo_regressao.ipynb#X20sZmlsZQ%3D%3D?line=7'>8</a>\u001b[0m plt\u001b[39m.\u001b[39;49mscatter(X,Y)\n\u001b[0;32m      <a href='vscode-notebook-cell:/c%3A/Users/thiago/Documents/GitHub/inf1038-machine-learning/modelo_regressao.ipynb#X20sZmlsZQ%3D%3D?line=8'>9</a>\u001b[0m plt\u001b[39m.\u001b[39mshow()\n",
      "File \u001b[1;32mc:\\Users\\thiago\\anaconda3\\lib\\site-packages\\matplotlib\\pyplot.py:2807\u001b[0m, in \u001b[0;36mscatter\u001b[1;34m(x, y, s, c, marker, cmap, norm, vmin, vmax, alpha, linewidths, edgecolors, plotnonfinite, data, **kwargs)\u001b[0m\n\u001b[0;32m   2802\u001b[0m \u001b[39m@_copy_docstring_and_deprecators\u001b[39m(Axes\u001b[39m.\u001b[39mscatter)\n\u001b[0;32m   2803\u001b[0m \u001b[39mdef\u001b[39;00m \u001b[39mscatter\u001b[39m(\n\u001b[0;32m   2804\u001b[0m         x, y, s\u001b[39m=\u001b[39m\u001b[39mNone\u001b[39;00m, c\u001b[39m=\u001b[39m\u001b[39mNone\u001b[39;00m, marker\u001b[39m=\u001b[39m\u001b[39mNone\u001b[39;00m, cmap\u001b[39m=\u001b[39m\u001b[39mNone\u001b[39;00m, norm\u001b[39m=\u001b[39m\u001b[39mNone\u001b[39;00m,\n\u001b[0;32m   2805\u001b[0m         vmin\u001b[39m=\u001b[39m\u001b[39mNone\u001b[39;00m, vmax\u001b[39m=\u001b[39m\u001b[39mNone\u001b[39;00m, alpha\u001b[39m=\u001b[39m\u001b[39mNone\u001b[39;00m, linewidths\u001b[39m=\u001b[39m\u001b[39mNone\u001b[39;00m, \u001b[39m*\u001b[39m,\n\u001b[0;32m   2806\u001b[0m         edgecolors\u001b[39m=\u001b[39m\u001b[39mNone\u001b[39;00m, plotnonfinite\u001b[39m=\u001b[39m\u001b[39mFalse\u001b[39;00m, data\u001b[39m=\u001b[39m\u001b[39mNone\u001b[39;00m, \u001b[39m*\u001b[39m\u001b[39m*\u001b[39mkwargs):\n\u001b[1;32m-> 2807\u001b[0m     __ret \u001b[39m=\u001b[39m gca()\u001b[39m.\u001b[39mscatter(\n\u001b[0;32m   2808\u001b[0m         x, y, s\u001b[39m=\u001b[39ms, c\u001b[39m=\u001b[39mc, marker\u001b[39m=\u001b[39mmarker, cmap\u001b[39m=\u001b[39mcmap, norm\u001b[39m=\u001b[39mnorm,\n\u001b[0;32m   2809\u001b[0m         vmin\u001b[39m=\u001b[39mvmin, vmax\u001b[39m=\u001b[39mvmax, alpha\u001b[39m=\u001b[39malpha, linewidths\u001b[39m=\u001b[39mlinewidths,\n\u001b[0;32m   2810\u001b[0m         edgecolors\u001b[39m=\u001b[39medgecolors, plotnonfinite\u001b[39m=\u001b[39mplotnonfinite,\n\u001b[0;32m   2811\u001b[0m         \u001b[39m*\u001b[39m\u001b[39m*\u001b[39m({\u001b[39m\"\u001b[39m\u001b[39mdata\u001b[39m\u001b[39m\"\u001b[39m: data} \u001b[39mif\u001b[39;00m data \u001b[39mis\u001b[39;00m \u001b[39mnot\u001b[39;00m \u001b[39mNone\u001b[39;00m \u001b[39melse\u001b[39;00m {}), \u001b[39m*\u001b[39m\u001b[39m*\u001b[39mkwargs)\n\u001b[0;32m   2812\u001b[0m     sci(__ret)\n\u001b[0;32m   2813\u001b[0m     \u001b[39mreturn\u001b[39;00m __ret\n",
      "File \u001b[1;32mc:\\Users\\thiago\\anaconda3\\lib\\site-packages\\matplotlib\\__init__.py:1412\u001b[0m, in \u001b[0;36m_preprocess_data.<locals>.inner\u001b[1;34m(ax, data, *args, **kwargs)\u001b[0m\n\u001b[0;32m   1409\u001b[0m \u001b[39m@functools\u001b[39m\u001b[39m.\u001b[39mwraps(func)\n\u001b[0;32m   1410\u001b[0m \u001b[39mdef\u001b[39;00m \u001b[39minner\u001b[39m(ax, \u001b[39m*\u001b[39margs, data\u001b[39m=\u001b[39m\u001b[39mNone\u001b[39;00m, \u001b[39m*\u001b[39m\u001b[39m*\u001b[39mkwargs):\n\u001b[0;32m   1411\u001b[0m     \u001b[39mif\u001b[39;00m data \u001b[39mis\u001b[39;00m \u001b[39mNone\u001b[39;00m:\n\u001b[1;32m-> 1412\u001b[0m         \u001b[39mreturn\u001b[39;00m func(ax, \u001b[39m*\u001b[39m\u001b[39mmap\u001b[39m(sanitize_sequence, args), \u001b[39m*\u001b[39m\u001b[39m*\u001b[39mkwargs)\n\u001b[0;32m   1414\u001b[0m     bound \u001b[39m=\u001b[39m new_sig\u001b[39m.\u001b[39mbind(ax, \u001b[39m*\u001b[39margs, \u001b[39m*\u001b[39m\u001b[39m*\u001b[39mkwargs)\n\u001b[0;32m   1415\u001b[0m     auto_label \u001b[39m=\u001b[39m (bound\u001b[39m.\u001b[39marguments\u001b[39m.\u001b[39mget(label_namer)\n\u001b[0;32m   1416\u001b[0m                   \u001b[39mor\u001b[39;00m bound\u001b[39m.\u001b[39mkwargs\u001b[39m.\u001b[39mget(label_namer))\n",
      "File \u001b[1;32mc:\\Users\\thiago\\anaconda3\\lib\\site-packages\\matplotlib\\axes\\_axes.py:4369\u001b[0m, in \u001b[0;36mAxes.scatter\u001b[1;34m(self, x, y, s, c, marker, cmap, norm, vmin, vmax, alpha, linewidths, edgecolors, plotnonfinite, **kwargs)\u001b[0m\n\u001b[0;32m   4367\u001b[0m y \u001b[39m=\u001b[39m np\u001b[39m.\u001b[39mma\u001b[39m.\u001b[39mravel(y)\n\u001b[0;32m   4368\u001b[0m \u001b[39mif\u001b[39;00m x\u001b[39m.\u001b[39msize \u001b[39m!=\u001b[39m y\u001b[39m.\u001b[39msize:\n\u001b[1;32m-> 4369\u001b[0m     \u001b[39mraise\u001b[39;00m \u001b[39mValueError\u001b[39;00m(\u001b[39m\"\u001b[39m\u001b[39mx and y must be the same size\u001b[39m\u001b[39m\"\u001b[39m)\n\u001b[0;32m   4371\u001b[0m \u001b[39mif\u001b[39;00m s \u001b[39mis\u001b[39;00m \u001b[39mNone\u001b[39;00m:\n\u001b[0;32m   4372\u001b[0m     s \u001b[39m=\u001b[39m (\u001b[39m20\u001b[39m \u001b[39mif\u001b[39;00m rcParams[\u001b[39m'\u001b[39m\u001b[39m_internal.classic_mode\u001b[39m\u001b[39m'\u001b[39m] \u001b[39melse\u001b[39;00m\n\u001b[0;32m   4373\u001b[0m          rcParams[\u001b[39m'\u001b[39m\u001b[39mlines.markersize\u001b[39m\u001b[39m'\u001b[39m] \u001b[39m*\u001b[39m\u001b[39m*\u001b[39m \u001b[39m2.0\u001b[39m)\n",
      "\u001b[1;31mValueError\u001b[0m: x and y must be the same size"
     ]
    },
    {
     "data": {
      "image/png": "[encoded data removed]",
      "text/plain": [
       "<Figure size 432x288 with 1 Axes>"
      ]
     },
     "metadata": {
      "needs_background": "light"
     },
     "output_type": "display_data"
    }
   ],
   "source": [
    "import matplotlib.pyplot as plt\n",
    "\n",
    "# X = cinema[\"features\"]\n",
    "# Y = cinema[\"target\"]\n",
    "\n",
    "# print(X.shape, Y.shape)\n",
    "\n",
    "# plt.scatter(X,Y)\n",
    "# plt.show()\n",
    "\n",
    "# x,y = cinema[\"features\"], cinema[\"target\"]\n"
   ]
  }
 ],
 "metadata": {
  "kernelspec": {
   "display_name": "Python 3.9.12 ('base')",
   "language": "python",
   "name": "python3"
  },
  "language_info": {
   "codemirror_mode": {
    "name": "ipython",
    "version": 3
   },
   "file_extension": ".py",
   "mimetype": "text/x-python",
   "name": "python",
   "nbconvert_exporter": "python",
   "pygments_lexer": "ipython3",
   "version": "3.9.12"
  },
  "vscode": {
   "interpreter": {
    "hash": "b7175ea596b0e890ecad86ec68ea0c05380b51b685ba7441448326694beef3a1"
   }
  }
 },
 "nbformat": 4,
 "nbformat_minor": 2
}
