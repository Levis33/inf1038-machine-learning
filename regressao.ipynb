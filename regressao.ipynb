{
 "cells": [
  {
   "cell_type": "code",
   "execution_count": 56,
   "metadata": {},
   "outputs": [
    {
     "name": "stdout",
     "output_type": "stream",
     "text": [
      "(142399, 8)\n",
      "(142399,)\n",
      "(99679, 8)\n",
      "(99679,)\n",
      "Mean squared error: 111180250901786.66\n",
      "Coefficient of determination: 0.87\n"
     ]
    },
    {
     "data": {
      "image/png": "[encoded data removed]",
      "text/plain": [
       "<Figure size 432x288 with 1 Axes>"
      ]
     },
     "metadata": {
      "needs_background": "light"
     },
     "output_type": "display_data"
    },
    {
     "name": "stdout",
     "output_type": "stream",
     "text": [
      "Coefficients: \n",
      " [-11472.34856001   9025.75123274  74036.30932723  46011.97460241\n",
      "  61807.76865487 -92196.94413653    169.2444801   28024.33472482]\n",
      "Intercept: \n",
      " 421927.5097911153\n",
      "Score: \n",
      " 0.8706458117384182\n",
      "Model: \n",
      " LinearRegression()\n",
      "scores: \n",
      " [-1.25342066e+14 -9.75473020e+13 -1.29780402e+14 -9.59029870e+13\n",
      " -1.13400570e+14 -9.94696135e+13 -1.18181814e+14]\n",
      "-111374964724014.38\n",
      "12854126702559.555\n"
     ]
    }
   ],
   "source": [
    "#notebook\n",
    "import pandas as pd\n",
    "import matplotlib.pyplot as plt\n",
    "import seaborn as sns\n",
    "import numpy as np\n",
    "import sklearn as sklearn\n",
    "from sklearn.model_selection import train_test_split\n",
    "from sklearn.linear_model import LinearRegression\n",
    "# ticket cinema regressao\n",
    "\n",
    "#import cinematicket_ref.csv\n",
    "\n",
    "# tentar prever preco total de vendas com base em outras variaveis\n",
    "df = pd.read_csv('cinematicket_ref.csv', sep=\",\", header=0)\n",
    "df.dropna(inplace=True)\n",
    "\n",
    "cinema={}\n",
    "cinema[\"features\"] = np.hstack([df.values[::, :2], df.values[::, 3:9]])\n",
    "cinema[\"target\"] = df.values[:, 2]\n",
    "\n",
    "#passando de 1D para 2D\n",
    "# cinema['features'].reshape(-1,1)\n",
    "# cinema['target'].reshape(-1,1)\n",
    "\n",
    "print(cinema['features'].shape)\n",
    "print(cinema['target'].shape)\n",
    "\n",
    "\n",
    "def regression_analysis(target, features):\n",
    "    # split the data into training and testing sets\n",
    "\n",
    "    x_train, x_test, y_train, y_test = train_test_split(features, target, test_size=0.3)\n",
    "    # train the model\n",
    "    \n",
    "    print(x_train.shape)\n",
    "    print(y_train.shape)\n",
    "\n",
    "    model = LinearRegression()\n",
    "    model.fit(x_train, y_train)\n",
    "    # make predictions\n",
    "    y_pred = model.predict(x_test)\n",
    "    # evaluate the model\n",
    "    from sklearn.metrics import mean_squared_error, r2_score\n",
    "    print('Mean squared error: %.2f' % mean_squared_error(y_test, y_pred))\n",
    "    print('Coefficient of determination: %.2f' % r2_score(y_test, y_pred))\n",
    "    # plot the results\n",
    "    plt.scatter(y_test, y_pred)\n",
    "    plt.xlabel('True Values')\n",
    "    plt.ylabel('Predictions')\n",
    "    plt.show()\n",
    "    # print the coefficients\n",
    "    print('Coefficients: \\n', model.coef_)\n",
    "    # print the intercept\n",
    "    print('Intercept: \\n', model.intercept_)\n",
    "    # print the score\n",
    "    print('Score: \\n', model.score(x_test, y_test))\n",
    "    # print the model\n",
    "    print('Model: \\n', model)\n",
    "    \n",
    "    from sklearn.model_selection import cross_val_score\n",
    "    \n",
    "    scores = cross_val_score(model, x_test, y_test, cv=7, scoring='neg_mean_squared_error')\n",
    "    print('scores: \\n', scores)\n",
    "    \n",
    "    print(scores.mean())\n",
    "    print(scores.std())\n",
    "\n",
    "regression_analysis(cinema[\"target\"], cinema[\"features\"])\n"
   ]
  }
 ],
 "metadata": {
  "kernelspec": {
   "display_name": "Python 3.9.12 ('base')",
   "language": "python",
   "name": "python3"
  },
  "language_info": {
   "codemirror_mode": {
    "name": "ipython",
    "version": 3
   },
   "file_extension": ".py",
   "mimetype": "text/x-python",
   "name": "python",
   "nbconvert_exporter": "python",
   "pygments_lexer": "ipython3",
   "version": "3.9.12"
  },
  "orig_nbformat": 4,
  "vscode": {
   "interpreter": {
    "hash": "b7175ea596b0e890ecad86ec68ea0c05380b51b685ba7441448326694beef3a1"
   }
  }
 },
 "nbformat": 4,
 "nbformat_minor": 2
}
