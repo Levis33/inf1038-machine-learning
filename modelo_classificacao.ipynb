{
 "cells": [
  {
   "cell_type": "markdown",
   "metadata": {},
   "source": [
    "# Modelo de Classificação (Youtube Video Dataset)\n",
    "https://www.kaggle.com/datasets/rahulanand0070/youtubevideodataset"
   ]
  },
  {
   "cell_type": "code",
   "execution_count": 179,
   "metadata": {},
   "outputs": [],
   "source": [
    "import pandas as pd\n",
    "import numpy as np\n",
    "import copy as cp\n",
    "import matplotlib.pyplot as plt\n",
    "import re\n",
    "\n",
    "# NLTK\n",
    "from nltk.corpus import stopwords\n",
    "from nltk.tokenize import word_tokenize\n",
    "from nltk.stem import PorterStemmer\n",
    "\n",
    "# SKLearn\n",
    "from sklearn.model_selection import train_test_split\n",
    "from sklearn.model_selection import StratifiedKFold\n",
    "from sklearn.model_selection import cross_val_score, cross_validate\n",
    "from sklearn import metrics"
   ]
  },
  {
   "cell_type": "markdown",
   "metadata": {},
   "source": [
    "## Preparação do Dataset\n",
    "\n",
    "A partir do .csv informado, vamos preparar o dataset para os algoritmos. Nesse caso, vamos remover valores nulos e filtrar as colunas de interesse."
   ]
  },
  {
   "cell_type": "code",
   "execution_count": 180,
   "metadata": {},
   "outputs": [
    {
     "data": {
      "text/html": [
       "<div>\n",
       "<style scoped>\n",
       "    .dataframe tbody tr th:only-of-type {\n",
       "        vertical-align: middle;\n",
       "    }\n",
       "\n",
       "    .dataframe tbody tr th {\n",
       "        vertical-align: top;\n",
       "    }\n",
       "\n",
       "    .dataframe thead th {\n",
       "        text-align: right;\n",
       "    }\n",
       "</style>\n",
       "<table border=\"1\" class=\"dataframe\">\n",
       "  <thead>\n",
       "    <tr style=\"text-align: right;\">\n",
       "      <th></th>\n",
       "      <th>Title</th>\n",
       "      <th>Videourl</th>\n",
       "      <th>Category</th>\n",
       "      <th>Description</th>\n",
       "    </tr>\n",
       "  </thead>\n",
       "  <tbody>\n",
       "    <tr>\n",
       "      <th>0</th>\n",
       "      <td>Madagascar Street Food!!! Super RARE Malagasy ...</td>\n",
       "      <td>/watch?v=EwBA1fOQ96c</td>\n",
       "      <td>Food</td>\n",
       "      <td>🎥GIANT ALIEN SNAIL IN JAPAN! » https://youtu.b...</td>\n",
       "    </tr>\n",
       "    <tr>\n",
       "      <th>1</th>\n",
       "      <td>42 Foods You Need To Eat Before You Die</td>\n",
       "      <td>/watch?v=0SPwwpruGIA</td>\n",
       "      <td>Food</td>\n",
       "      <td>This is the ultimate must-try food bucket list...</td>\n",
       "    </tr>\n",
       "    <tr>\n",
       "      <th>2</th>\n",
       "      <td>Gordon Ramsay’s Top 5 Indian Dishes</td>\n",
       "      <td>/watch?v=upfu5nQB2ks</td>\n",
       "      <td>Food</td>\n",
       "      <td>We found 5 of the best and most interesting In...</td>\n",
       "    </tr>\n",
       "    <tr>\n",
       "      <th>3</th>\n",
       "      <td>How To Use Chopsticks - In About A Minute 🍜</td>\n",
       "      <td>/watch?v=xFRzzSF_6gk</td>\n",
       "      <td>Food</td>\n",
       "      <td>You're most likely sitting in a restaurant wit...</td>\n",
       "    </tr>\n",
       "    <tr>\n",
       "      <th>4</th>\n",
       "      <td>Trying Indian Food 1st Time!</td>\n",
       "      <td>/watch?v=K79bXtaRwcM</td>\n",
       "      <td>Food</td>\n",
       "      <td>HELP SUPPORT SINSTV!! Shop Our Sponsors!\\r\\nLa...</td>\n",
       "    </tr>\n",
       "  </tbody>\n",
       "</table>\n",
       "</div>"
      ],
      "text/plain": [
       "                                               Title              Videourl  \\\n",
       "0  Madagascar Street Food!!! Super RARE Malagasy ...  /watch?v=EwBA1fOQ96c   \n",
       "1            42 Foods You Need To Eat Before You Die  /watch?v=0SPwwpruGIA   \n",
       "2                Gordon Ramsay’s Top 5 Indian Dishes  /watch?v=upfu5nQB2ks   \n",
       "3        How To Use Chopsticks - In About A Minute 🍜  /watch?v=xFRzzSF_6gk   \n",
       "4                       Trying Indian Food 1st Time!  /watch?v=K79bXtaRwcM   \n",
       "\n",
       "  Category                                        Description  \n",
       "0     Food  🎥GIANT ALIEN SNAIL IN JAPAN! » https://youtu.b...  \n",
       "1     Food  This is the ultimate must-try food bucket list...  \n",
       "2     Food  We found 5 of the best and most interesting In...  \n",
       "3     Food  You're most likely sitting in a restaurant wit...  \n",
       "4     Food  HELP SUPPORT SINSTV!! Shop Our Sponsors!\\r\\nLa...  "
      ]
     },
     "execution_count": 180,
     "metadata": {},
     "output_type": "execute_result"
    }
   ],
   "source": [
    "df = pd.read_csv('datasets/youtube_video_dataset.csv')\n",
    "df.head()"
   ]
  },
  {
   "cell_type": "code",
   "execution_count": 181,
   "metadata": {},
   "outputs": [
    {
     "name": "stdout",
     "output_type": "stream",
     "text": [
      "Colunas: Title Videourl Category Description\n",
      "Número de Linhas: 11211\n",
      "Colunas: Title Category Description\n",
      "Número de Linhas com Valores Nulos: 83\n",
      "Número de Linhas Após Remoção de Nulos: 11128\n",
      "Número de Linhas com Valores Nulos (Verificação): 0\n"
     ]
    }
   ],
   "source": [
    "colunas = list()\n",
    "for coluna in df.columns:\n",
    "    colunas.append(coluna)\n",
    "print(\"Colunas:\", \" \".join(colunas))\n",
    "print(\"Número de Linhas:\", df.shape[0])\n",
    "# Removendo as colunas que não são interessantes (nesse caso, apenas importa \"Title\", \"Description\" e \"Category\")\n",
    "df = df.iloc[:, [0, 2, 3]]\n",
    "colunas = list()\n",
    "for coluna in df.columns:\n",
    "    colunas.append(coluna)\n",
    "print(\"Colunas:\", \" \".join(colunas))\n",
    "print(\"Número de Linhas com Valores Nulos:\", df.isna().sum().sum())\n",
    "# Retirando linhas com valores nulos \n",
    "df = df.dropna()\n",
    "print(\"Número de Linhas Após Remoção de Nulos:\", df.shape[0])\n",
    "print(\"Número de Linhas com Valores Nulos (Verificação):\", df.isna().sum().sum())"
   ]
  },
  {
   "cell_type": "markdown",
   "metadata": {},
   "source": [
    "### Novo dataset com as colunas novas e valores removidos:"
   ]
  },
  {
   "cell_type": "code",
   "execution_count": 182,
   "metadata": {},
   "outputs": [
    {
     "data": {
      "text/html": [
       "<div>\n",
       "<style scoped>\n",
       "    .dataframe tbody tr th:only-of-type {\n",
       "        vertical-align: middle;\n",
       "    }\n",
       "\n",
       "    .dataframe tbody tr th {\n",
       "        vertical-align: top;\n",
       "    }\n",
       "\n",
       "    .dataframe thead th {\n",
       "        text-align: right;\n",
       "    }\n",
       "</style>\n",
       "<table border=\"1\" class=\"dataframe\">\n",
       "  <thead>\n",
       "    <tr style=\"text-align: right;\">\n",
       "      <th></th>\n",
       "      <th>Title</th>\n",
       "      <th>Category</th>\n",
       "      <th>Description</th>\n",
       "    </tr>\n",
       "  </thead>\n",
       "  <tbody>\n",
       "    <tr>\n",
       "      <th>0</th>\n",
       "      <td>Madagascar Street Food!!! Super RARE Malagasy ...</td>\n",
       "      <td>Food</td>\n",
       "      <td>🎥GIANT ALIEN SNAIL IN JAPAN! » https://youtu.b...</td>\n",
       "    </tr>\n",
       "    <tr>\n",
       "      <th>1</th>\n",
       "      <td>42 Foods You Need To Eat Before You Die</td>\n",
       "      <td>Food</td>\n",
       "      <td>This is the ultimate must-try food bucket list...</td>\n",
       "    </tr>\n",
       "    <tr>\n",
       "      <th>2</th>\n",
       "      <td>Gordon Ramsay’s Top 5 Indian Dishes</td>\n",
       "      <td>Food</td>\n",
       "      <td>We found 5 of the best and most interesting In...</td>\n",
       "    </tr>\n",
       "    <tr>\n",
       "      <th>3</th>\n",
       "      <td>How To Use Chopsticks - In About A Minute 🍜</td>\n",
       "      <td>Food</td>\n",
       "      <td>You're most likely sitting in a restaurant wit...</td>\n",
       "    </tr>\n",
       "    <tr>\n",
       "      <th>4</th>\n",
       "      <td>Trying Indian Food 1st Time!</td>\n",
       "      <td>Food</td>\n",
       "      <td>HELP SUPPORT SINSTV!! Shop Our Sponsors!\\r\\nLa...</td>\n",
       "    </tr>\n",
       "    <tr>\n",
       "      <th>...</th>\n",
       "      <td>...</td>\n",
       "      <td>...</td>\n",
       "      <td>...</td>\n",
       "    </tr>\n",
       "    <tr>\n",
       "      <th>11206</th>\n",
       "      <td>art journal | shimmer sprays, stencils, collag...</td>\n",
       "      <td>Art&amp;Music</td>\n",
       "      <td>Step by step video on creating an art journal ...</td>\n",
       "    </tr>\n",
       "    <tr>\n",
       "      <th>11207</th>\n",
       "      <td>Ar-Tea Collage * Mixed Media Art</td>\n",
       "      <td>Art&amp;Music</td>\n",
       "      <td>By: Ilene McInnes,\\r\\nMixed media Art and insp...</td>\n",
       "    </tr>\n",
       "    <tr>\n",
       "      <th>11208</th>\n",
       "      <td>DIY Mixed Media Art Collage Greeting Cards / M...</td>\n",
       "      <td>Art&amp;Music</td>\n",
       "      <td>Make your own Mixed Media Greeting Cards\\r\\n\\r...</td>\n",
       "    </tr>\n",
       "    <tr>\n",
       "      <th>11209</th>\n",
       "      <td>Art Collage Process DecoJournal using Rice Pap...</td>\n",
       "      <td>Art&amp;Music</td>\n",
       "      <td>Art Collage Process DecoJournal using Rice Pap...</td>\n",
       "    </tr>\n",
       "    <tr>\n",
       "      <th>11210</th>\n",
       "      <td>Journal Collage Process using Magazine Cut Out...</td>\n",
       "      <td>Art&amp;Music</td>\n",
       "      <td>Using magazine, scrapbook paper, recycled old ...</td>\n",
       "    </tr>\n",
       "  </tbody>\n",
       "</table>\n",
       "<p>11128 rows × 3 columns</p>\n",
       "</div>"
      ],
      "text/plain": [
       "                                                   Title   Category  \\\n",
       "0      Madagascar Street Food!!! Super RARE Malagasy ...       Food   \n",
       "1                42 Foods You Need To Eat Before You Die       Food   \n",
       "2                    Gordon Ramsay’s Top 5 Indian Dishes       Food   \n",
       "3            How To Use Chopsticks - In About A Minute 🍜       Food   \n",
       "4                           Trying Indian Food 1st Time!       Food   \n",
       "...                                                  ...        ...   \n",
       "11206  art journal | shimmer sprays, stencils, collag...  Art&Music   \n",
       "11207                   Ar-Tea Collage * Mixed Media Art  Art&Music   \n",
       "11208  DIY Mixed Media Art Collage Greeting Cards / M...  Art&Music   \n",
       "11209  Art Collage Process DecoJournal using Rice Pap...  Art&Music   \n",
       "11210  Journal Collage Process using Magazine Cut Out...  Art&Music   \n",
       "\n",
       "                                             Description  \n",
       "0      🎥GIANT ALIEN SNAIL IN JAPAN! » https://youtu.b...  \n",
       "1      This is the ultimate must-try food bucket list...  \n",
       "2      We found 5 of the best and most interesting In...  \n",
       "3      You're most likely sitting in a restaurant wit...  \n",
       "4      HELP SUPPORT SINSTV!! Shop Our Sponsors!\\r\\nLa...  \n",
       "...                                                  ...  \n",
       "11206  Step by step video on creating an art journal ...  \n",
       "11207  By: Ilene McInnes,\\r\\nMixed media Art and insp...  \n",
       "11208  Make your own Mixed Media Greeting Cards\\r\\n\\r...  \n",
       "11209  Art Collage Process DecoJournal using Rice Pap...  \n",
       "11210  Using magazine, scrapbook paper, recycled old ...  \n",
       "\n",
       "[11128 rows x 3 columns]"
      ]
     },
     "execution_count": 182,
     "metadata": {},
     "output_type": "execute_result"
    }
   ],
   "source": [
    "df"
   ]
  },
  {
   "cell_type": "markdown",
   "metadata": {},
   "source": [
    "Abaixo, foi verificado quantas categorias existem e qual a frequência de cada categoria. Como é possível observar, a mais comum é a de Viagem, enquanto a menos comum é a de História. Nesse caso, vamos mapear as classes aqui informadas para uma representação numérica."
   ]
  },
  {
   "cell_type": "code",
   "execution_count": 183,
   "metadata": {},
   "outputs": [
    {
     "data": {
      "text/plain": [
       "travel blog           2200\n",
       "Science&Technology    2074\n",
       "Food                  1828\n",
       "manufacturing         1699\n",
       "Art&Music             1682\n",
       "History               1645\n",
       "Name: Category, dtype: int64"
      ]
     },
     "execution_count": 183,
     "metadata": {},
     "output_type": "execute_result"
    }
   ],
   "source": [
    "df['Category'].value_counts()"
   ]
  },
  {
   "cell_type": "code",
   "execution_count": 184,
   "metadata": {},
   "outputs": [
    {
     "data": {
      "text/plain": [
       "<AxesSubplot:>"
      ]
     },
     "execution_count": 184,
     "metadata": {},
     "output_type": "execute_result"
    },
    {
     "data": {
      "image/png": "[encoded data removed]",
      "text/plain": [
       "<Figure size 432x288 with 1 Axes>"
      ]
     },
     "metadata": {
      "needs_background": "light"
     },
     "output_type": "display_data"
    }
   ],
   "source": [
    "df['Category'].value_counts().plot(kind='bar')"
   ]
  },
  {
   "cell_type": "code",
   "execution_count": 185,
   "metadata": {},
   "outputs": [
    {
     "data": {
      "text/html": [
       "<div>\n",
       "<style scoped>\n",
       "    .dataframe tbody tr th:only-of-type {\n",
       "        vertical-align: middle;\n",
       "    }\n",
       "\n",
       "    .dataframe tbody tr th {\n",
       "        vertical-align: top;\n",
       "    }\n",
       "\n",
       "    .dataframe thead th {\n",
       "        text-align: right;\n",
       "    }\n",
       "</style>\n",
       "<table border=\"1\" class=\"dataframe\">\n",
       "  <thead>\n",
       "    <tr style=\"text-align: right;\">\n",
       "      <th></th>\n",
       "      <th>Title</th>\n",
       "      <th>Category</th>\n",
       "      <th>Description</th>\n",
       "    </tr>\n",
       "  </thead>\n",
       "  <tbody>\n",
       "    <tr>\n",
       "      <th>0</th>\n",
       "      <td>Madagascar Street Food!!! Super RARE Malagasy ...</td>\n",
       "      <td>2</td>\n",
       "      <td>🎥GIANT ALIEN SNAIL IN JAPAN! » https://youtu.b...</td>\n",
       "    </tr>\n",
       "    <tr>\n",
       "      <th>1</th>\n",
       "      <td>42 Foods You Need To Eat Before You Die</td>\n",
       "      <td>2</td>\n",
       "      <td>This is the ultimate must-try food bucket list...</td>\n",
       "    </tr>\n",
       "    <tr>\n",
       "      <th>2</th>\n",
       "      <td>Gordon Ramsay’s Top 5 Indian Dishes</td>\n",
       "      <td>2</td>\n",
       "      <td>We found 5 of the best and most interesting In...</td>\n",
       "    </tr>\n",
       "    <tr>\n",
       "      <th>3</th>\n",
       "      <td>How To Use Chopsticks - In About A Minute 🍜</td>\n",
       "      <td>2</td>\n",
       "      <td>You're most likely sitting in a restaurant wit...</td>\n",
       "    </tr>\n",
       "    <tr>\n",
       "      <th>4</th>\n",
       "      <td>Trying Indian Food 1st Time!</td>\n",
       "      <td>2</td>\n",
       "      <td>HELP SUPPORT SINSTV!! Shop Our Sponsors!\\r\\nLa...</td>\n",
       "    </tr>\n",
       "  </tbody>\n",
       "</table>\n",
       "</div>"
      ],
      "text/plain": [
       "                                               Title  Category  \\\n",
       "0  Madagascar Street Food!!! Super RARE Malagasy ...         2   \n",
       "1            42 Foods You Need To Eat Before You Die         2   \n",
       "2                Gordon Ramsay’s Top 5 Indian Dishes         2   \n",
       "3        How To Use Chopsticks - In About A Minute 🍜         2   \n",
       "4                       Trying Indian Food 1st Time!         2   \n",
       "\n",
       "                                         Description  \n",
       "0  🎥GIANT ALIEN SNAIL IN JAPAN! » https://youtu.b...  \n",
       "1  This is the ultimate must-try food bucket list...  \n",
       "2  We found 5 of the best and most interesting In...  \n",
       "3  You're most likely sitting in a restaurant wit...  \n",
       "4  HELP SUPPORT SINSTV!! Shop Our Sponsors!\\r\\nLa...  "
      ]
     },
     "execution_count": 185,
     "metadata": {},
     "output_type": "execute_result"
    }
   ],
   "source": [
    "lista_categorias = df['Category'].value_counts().index.to_list()\n",
    "dict_mapeamento = dict()\n",
    "for i in range(len(lista_categorias)):\n",
    "    dict_mapeamento[lista_categorias[i]] = i\n",
    "df['Category'] = df['Category'].map(dict_mapeamento)\n",
    "df.head()"
   ]
  },
  {
   "cell_type": "markdown",
   "metadata": {},
   "source": [
    "## Criação do Vetor TFIDF"
   ]
  },
  {
   "cell_type": "markdown",
   "metadata": {},
   "source": [
    "O vetor TFIDF (Term Frequency - Inverse Document Frequency) é baseado no modelo de Bag of Words e procura não dar importância às palavras mais frequentes e nem às mais raras. Ele parte do pressuposto de que ambos os grupos de palavras não ajudam estatisticamente para encontrar um padrão. Ele foi escolhido em relação ao CountVectorizer, pois a acurácia dos modelos pareciam aumentar levemente quanto usando o TFIDF."
   ]
  },
  {
   "cell_type": "code",
   "execution_count": 186,
   "metadata": {},
   "outputs": [],
   "source": [
    "df['Title'] = df['Title'].apply(lambda x: x.lower()) # Substituindo letras maiúsculas por minúsculas\n",
    "df['Title'] = df['Title'].apply(lambda x: re.sub(\"https?:\\/\\/.*?[\\s+]\",\" \", x)) # Removendo URLs\n",
    "df['Title'] = df['Title'].apply(lambda x: re.sub(\"([a-zA-Z0-9._-]+@[a-zA-Z0-9._-]+\\.[a-zA-Z0-9_-]+)\",\" \", x)) # Removendo emails\n",
    "df['Title'] = df['Title'].apply(lambda x: re.sub(\"[^a-zA-Z]\",\" \", x)) # Filtrando símbolos\n",
    "df['Description'] = df['Description'].apply(lambda x: x.lower())\n",
    "df['Description'] = df['Description'].apply(lambda x: re.sub(\"([a-zA-Z0-9._-]+@[a-zA-Z0-9._-]+\\.[a-zA-Z0-9_-]+)\",\" \", x))\n",
    "df['Description'] = df['Description'].apply(lambda x: re.sub(\"https?:\\/\\/.*?[\\s+]\",\" \", x))\n",
    "df['Description'] = df['Description'].apply(lambda x: re.sub(\"[^a-zA-Z]\",\" \", x))"
   ]
  },
  {
   "cell_type": "code",
   "execution_count": 187,
   "metadata": {},
   "outputs": [],
   "source": [
    "#https://datascience.stackexchange.com/questions/25004/text-classifier-with-multiple-bag-of-words\n",
    "from nltk.stem import WordNetLemmatizer\n",
    "\n",
    "#import nltk\n",
    "#nltk.download('punkt')\n",
    "#nltk.download('wordnet')\n",
    "\n",
    "lista_stopwords = set(stopwords.words('english'))\n",
    "ps = PorterStemmer()\n",
    "lemmatizer = WordNetLemmatizer()\n",
    "\n",
    "lista_frases = list()\n",
    "\n",
    "for i, row in df.iterrows():\n",
    "    lista_palavra = word_tokenize(row['Title'])\n",
    "    lista_palavra.extend(word_tokenize(row['Description']))\n",
    "    lista_string = []\n",
    "    for palavra in lista_palavra:\n",
    "        if palavra not in lista_stopwords:\n",
    "            palavra = ps.stem(palavra) # Stemming da palavra\n",
    "            palavra = lemmatizer.lemmatize(palavra)\n",
    "            lista_string.append(palavra)\n",
    "    string = \" \".join(lista_string)\n",
    "    lista_frases.append(string)\n",
    "\n",
    "array_frases = np.array(lista_frases)"
   ]
  },
  {
   "cell_type": "markdown",
   "metadata": {},
   "source": [
    "## Separação do Dataset entre Treinamento e Teste"
   ]
  },
  {
   "cell_type": "markdown",
   "metadata": {},
   "source": [
    "Link explicando melhor sobre Cross Validation: https://machinelearningmastery.com/training-validation-test-split-and-cross-validation-done-right/"
   ]
  },
  {
   "cell_type": "code",
   "execution_count": 188,
   "metadata": {},
   "outputs": [
    {
     "name": "stdout",
     "output_type": "stream",
     "text": [
      "(11128, 54135)\n"
     ]
    }
   ],
   "source": [
    "from sklearn.feature_extraction.text import TfidfVectorizer\n",
    "\n",
    "X = array_frases\n",
    "Y = df['Category'].values\n",
    "\n",
    "exemplo_vect = TfidfVectorizer()\n",
    "exemplo_X = exemplo_vect.fit_transform(X)\n",
    "print(exemplo_X.shape) # Apenas para ver o tamanho do vocabulário"
   ]
  },
  {
   "cell_type": "code",
   "execution_count": 189,
   "metadata": {},
   "outputs": [],
   "source": [
    "## Função para avaliar o modelo com Cross Validation e exibindo a acurácia e o f1 score (macro e weighted)\n",
    "from sklearn.metrics import accuracy_score, f1_score, log_loss\n",
    "from sklearn.feature_extraction.text import TfidfVectorizer\n",
    "\n",
    "kfold = StratifiedKFold(n_splits=10,  shuffle=True)\n",
    "\n",
    "def cross_val_tfidf(modelo, X, Y, kfold):\n",
    "    modelo_ = cp.deepcopy(modelo)\n",
    "    data_x = X\n",
    "    data_y = Y\n",
    "    scores = {'test_accuracy': list(), 'test_f1_macro': list(), \n",
    "              'test_f1_micro': list(), 'test_f1_weighted': list(),\n",
    "              'test_log_loss': list()}\n",
    "\n",
    "    for train_index, test_index in kfold.split(data_x, data_y):\n",
    "        x_train, x_test = data_x[train_index], data_x[test_index]\n",
    "        y_train, y_test = data_y[train_index], data_y[test_index]\n",
    "\n",
    "        tfidf = TfidfVectorizer()\n",
    "        x_train = tfidf.fit_transform(x_train)\n",
    "        x_test = tfidf.transform(x_test)\n",
    "\n",
    "        modelo_.fit(x_train, y_train)\n",
    "        y_pred = modelo_.predict(x_test)\n",
    "        scores['test_accuracy'].append(accuracy_score(y_test, y_pred))\n",
    "        scores['test_f1_micro'].append(f1_score(y_test, y_pred, average='micro'))\n",
    "        scores['test_f1_macro'].append(f1_score(y_test, y_pred, average='macro'))\n",
    "        scores['test_f1_weighted'].append(f1_score(y_test, y_pred, average='weighted'))\n",
    "        if hasattr(modelo_, 'predict_proba'):\n",
    "            y_pred_proba = modelo_.predict_proba(x_test)\n",
    "            scores['test_log_loss'].append(log_loss(y_test, y_pred_proba))\n",
    "        \n",
    "    for key in scores.keys():\n",
    "        scores[key] = np.array(scores[key])\n",
    "\n",
    "    return scores\n",
    "\n",
    "def avalia_modelo(modelo):    \n",
    "    scores = cross_val_tfidf(modelo, X, Y, kfold)\n",
    "    print(\"Acurácia: %0.2f%%\" %(scores['test_accuracy'].mean()*100))\n",
    "    print(\"F1-Score Micro: %0.2f%%\" %(scores['test_f1_micro'].mean()*100))\n",
    "    print(\"F1-Score Macro: %0.2f%%\" %(scores['test_f1_macro'].mean()*100))\n",
    "    print(\"F1-Score Weighted: %0.2f%%\" %(scores['test_f1_weighted'].mean()*100))\n",
    "    if hasattr(modelo, 'predict_proba'):\n",
    "        print(\"Log Loss: %0.2f\" %(scores['test_log_loss'].mean()))\n",
    "    return"
   ]
  },
  {
   "cell_type": "markdown",
   "metadata": {},
   "source": [
    "## Regressão Logística"
   ]
  },
  {
   "cell_type": "code",
   "execution_count": 190,
   "metadata": {},
   "outputs": [
    {
     "name": "stdout",
     "output_type": "stream",
     "text": [
      "Regressão Logística:\n",
      "Acurácia: 97.05%\n",
      "F1-Score Micro: 97.05%\n",
      "F1-Score Macro: 97.07%\n",
      "F1-Score Weighted: 97.05%\n",
      "Log Loss: 0.24\n"
     ]
    }
   ],
   "source": [
    "from sklearn.linear_model import LogisticRegression\n",
    "\n",
    "lr = LogisticRegression()\n",
    "print(\"Regressão Logística:\")\n",
    "avalia_modelo(lr)"
   ]
  },
  {
   "cell_type": "code",
   "execution_count": 191,
   "metadata": {},
   "outputs": [
    {
     "name": "stdout",
     "output_type": "stream",
     "text": [
      "Parâmetros: {'solver': 'newton-cg', 'penalty': ['l2'], 'C': 100} | Acurácia:  97.23218729598531\n",
      "Parâmetros: {'solver': 'newton-cg', 'penalty': ['l2'], 'C': 10} | Acurácia:  97.42098773811139\n",
      "Parâmetros: {'solver': 'newton-cg', 'penalty': ['l2'], 'C': 1.0} | Acurácia:  97.0793742364599\n",
      "Parâmetros: {'solver': 'newton-cg', 'penalty': ['l2'], 'C': 0.1} | Acurácia:  96.07290717291397\n",
      "Parâmetros: {'solver': 'newton-cg', 'penalty': ['l2'], 'C': 0.01} | Acurácia:  82.62046966200623\n",
      "Parâmetros: {'solver': 'lbfgs', 'penalty': ['l2'], 'C': 100} | Acurácia:  97.25918995262012\n",
      "Parâmetros: {'solver': 'lbfgs', 'penalty': ['l2'], 'C': 10} | Acurácia:  97.40294556807385\n",
      "Parâmetros: {'solver': 'lbfgs', 'penalty': ['l2'], 'C': 1.0} | Acurácia:  97.04353229007093\n",
      "Parâmetros: {'solver': 'lbfgs', 'penalty': ['l2'], 'C': 0.1} | Acurácia:  96.15390706302883\n",
      "Parâmetros: {'solver': 'lbfgs', 'penalty': ['l2'], 'C': 0.01} | Acurácia:  82.56644010936803\n",
      "Parâmetros: {'solver': 'liblinear', 'penalty': ['l2'], 'C': 100} | Acurácia:  97.34902913248915\n",
      "Parâmetros: {'solver': 'liblinear', 'penalty': ['l2'], 'C': 10} | Acurácia:  97.54673350268573\n",
      "Parâmetros: {'solver': 'liblinear', 'penalty': ['l2'], 'C': 1.0} | Acurácia:  96.98049377209823\n",
      "Parâmetros: {'solver': 'liblinear', 'penalty': ['l2'], 'C': 0.1} | Acurácia:  96.01901497669789\n",
      "Parâmetros: {'solver': 'liblinear', 'penalty': ['l2'], 'C': 0.01} | Acurácia:  80.67933254474588\n"
     ]
    }
   ],
   "source": [
    "## GridSearchCV mas alterando o CV para não ter problema com o TF-IDF\n",
    "\n",
    "solvers = ['newton-cg', 'lbfgs', 'liblinear']\n",
    "penalty = ['l2']\n",
    "c_values = [100, 10, 1.0, 0.1, 0.01]\n",
    "for solver in solvers:\n",
    "    for c_value in c_values:\n",
    "        lr = LogisticRegression(solver=solver, penalty='l2', C=c_value)\n",
    "        scores = cross_val_tfidf(lr, X, Y, kfold)\n",
    "        params = {'solver': solver, 'penalty': penalty, 'C': c_value}\n",
    "        print('Parâmetros:', params, \"|\", 'Acurácia: ', scores['test_accuracy'].mean()*100)"
   ]
  },
  {
   "cell_type": "code",
   "execution_count": 192,
   "metadata": {},
   "outputs": [
    {
     "name": "stdout",
     "output_type": "stream",
     "text": [
      "Regressão Logística:\n",
      "Acurácia: 97.55%\n",
      "F1-Score Micro: 97.55%\n",
      "F1-Score Macro: 97.56%\n",
      "F1-Score Weighted: 97.55%\n",
      "Log Loss: 0.12\n"
     ]
    }
   ],
   "source": [
    "from sklearn.linear_model import LogisticRegression\n",
    "\n",
    "lr = LogisticRegression(solver='liblinear', C=10, penalty='l2')\n",
    "print(\"Regressão Logística:\")\n",
    "avalia_modelo(lr)"
   ]
  },
  {
   "cell_type": "markdown",
   "metadata": {},
   "source": [
    "## Gradiente Descendente Estocástico"
   ]
  },
  {
   "cell_type": "code",
   "execution_count": 193,
   "metadata": {},
   "outputs": [
    {
     "name": "stdout",
     "output_type": "stream",
     "text": [
      "SGD:\n",
      "Acurácia: 97.31%\n",
      "F1-Score Micro: 97.31%\n",
      "F1-Score Macro: 97.32%\n",
      "F1-Score Weighted: 97.31%\n",
      "Log Loss: 0.19\n"
     ]
    }
   ],
   "source": [
    "from sklearn.linear_model import SGDClassifier\n",
    "\n",
    "sgd = SGDClassifier(loss='modified_huber', learning_rate='optimal')\n",
    "print(\"SGD:\")\n",
    "avalia_modelo(sgd)"
   ]
  },
  {
   "cell_type": "code",
   "execution_count": 194,
   "metadata": {},
   "outputs": [
    {
     "name": "stdout",
     "output_type": "stream",
     "text": [
      "Perceptron:\n",
      "Acurácia: 96.19%\n",
      "F1-Score Micro: 96.19%\n",
      "F1-Score Macro: 96.19%\n",
      "F1-Score Weighted: 96.19%\n"
     ]
    }
   ],
   "source": [
    "from sklearn.linear_model import Perceptron\n",
    "\n",
    "perc = Perceptron()\n",
    "print(\"Perceptron:\")\n",
    "avalia_modelo(perc)"
   ]
  },
  {
   "cell_type": "markdown",
   "metadata": {},
   "source": [
    "## Árvore de Decisão"
   ]
  },
  {
   "cell_type": "code",
   "execution_count": 195,
   "metadata": {},
   "outputs": [
    {
     "name": "stdout",
     "output_type": "stream",
     "text": [
      "Árvore de Decisão:\n",
      "Acurácia: 91.29%\n",
      "F1-Score Micro: 91.29%\n",
      "F1-Score Macro: 91.38%\n",
      "F1-Score Weighted: 91.30%\n",
      "Log Loss: 2.97\n"
     ]
    }
   ],
   "source": [
    "import multiprocessing \n",
    "from sklearn.tree import DecisionTreeClassifier\n",
    "\n",
    "dt = DecisionTreeClassifier()\n",
    "print(\"Árvore de Decisão:\")\n",
    "avalia_modelo(dt)"
   ]
  },
  {
   "cell_type": "markdown",
   "metadata": {},
   "source": [
    "## Random Forest"
   ]
  },
  {
   "cell_type": "code",
   "execution_count": 204,
   "metadata": {},
   "outputs": [
    {
     "name": "stdout",
     "output_type": "stream",
     "text": [
      "Random Forest:\n",
      "Acurácia: 95.65%\n",
      "F1-Score Micro: 95.65%\n",
      "F1-Score Macro: 95.68%\n",
      "F1-Score Weighted: 95.65%\n",
      "Log Loss: 0.41\n"
     ]
    }
   ],
   "source": [
    "from sklearn.ensemble import RandomForestClassifier\n",
    "\n",
    "rf = RandomForestClassifier()\n",
    "print(\"Random Forest:\")\n",
    "avalia_modelo(rf)"
   ]
  },
  {
   "cell_type": "markdown",
   "metadata": {},
   "source": [
    "## SVC (Supporting Vector Machine)"
   ]
  },
  {
   "cell_type": "code",
   "execution_count": 196,
   "metadata": {},
   "outputs": [
    {
     "name": "stdout",
     "output_type": "stream",
     "text": [
      "SVC:\n",
      "Acurácia: 96.74%\n",
      "F1-Score Micro: 96.74%\n",
      "F1-Score Macro: 96.75%\n",
      "F1-Score Weighted: 96.74%\n"
     ]
    }
   ],
   "source": [
    "from sklearn.svm import SVC\n",
    "\n",
    "svc = SVC()\n",
    "print(\"SVC:\")\n",
    "avalia_modelo(svc)"
   ]
  },
  {
   "cell_type": "markdown",
   "metadata": {},
   "source": [
    "## Naive Bayes"
   ]
  },
  {
   "cell_type": "code",
   "execution_count": 197,
   "metadata": {},
   "outputs": [
    {
     "name": "stdout",
     "output_type": "stream",
     "text": [
      "Multinomial Naive Bayes:\n",
      "Acurácia: 90.04%\n",
      "F1-Score Micro: 90.04%\n",
      "F1-Score Macro: 90.10%\n",
      "F1-Score Weighted: 90.12%\n",
      "Log Loss: 0.40\n"
     ]
    }
   ],
   "source": [
    "# https://stackoverflow.com/questions/16240721/sklearn-gaussiannb-bad-results-nan-probabilities porque nao é bom com TF-IDF.\n",
    "from sklearn.naive_bayes import MultinomialNB\n",
    "\n",
    "nb = MultinomialNB()\n",
    "print(\"Multinomial Naive Bayes:\")\n",
    "avalia_modelo(nb)"
   ]
  },
  {
   "cell_type": "markdown",
   "metadata": {},
   "source": [
    "## K-Nearest Neighbour"
   ]
  },
  {
   "cell_type": "code",
   "execution_count": 198,
   "metadata": {},
   "outputs": [
    {
     "name": "stdout",
     "output_type": "stream",
     "text": [
      "Parâmetros: {'n_neighbors': 1} | Acurácia:  50.75473314071115\n",
      "Parâmetros: {'n_neighbors': 2} | Acurácia:  39.94448376608686\n",
      "Parâmetros: {'n_neighbors': 3} | Acurácia:  40.348861072866775\n",
      "Parâmetros: {'n_neighbors': 4} | Acurácia:  36.017407098579895\n",
      "Parâmetros: {'n_neighbors': 5} | Acurácia:  39.76399742739501\n",
      "Parâmetros: {'n_neighbors': 6} | Acurácia:  38.227059861544724\n",
      "Parâmetros: {'n_neighbors': 7} | Acurácia:  46.34025124913547\n",
      "Parâmetros: {'n_neighbors': 8} | Acurácia:  50.553772615330914\n",
      "Parâmetros: {'n_neighbors': 9} | Acurácia:  75.92591156185564\n",
      "Parâmetros: {'n_neighbors': 10} | Acurácia:  80.34712391811618\n",
      "Parâmetros: {'n_neighbors': 11} | Acurácia:  84.08473760075499\n",
      "Parâmetros: {'n_neighbors': 12} | Acurácia:  86.19710969768659\n",
      "Parâmetros: {'n_neighbors': 13} | Acurácia:  87.49996768084183\n",
      "Parâmetros: {'n_neighbors': 14} | Acurácia:  88.21863264105698\n",
      "Parâmetros: {'n_neighbors': 15} | Acurácia:  88.91978869734402\n",
      "Parâmetros: {'n_neighbors': 16} | Acurácia:  89.62062964183909\n",
      "Parâmetros: {'n_neighbors': 17} | Acurácia:  89.93541824222561\n",
      "Parâmetros: {'n_neighbors': 18} | Acurácia:  90.052058083991\n",
      "Parâmetros: {'n_neighbors': 19} | Acurácia:  90.51940119063777\n",
      "Parâmetros: {'n_neighbors': 20} | Acurácia:  90.51054574130453\n",
      "Parâmetros: {'n_neighbors': 21} | Acurácia:  90.95084579236881\n",
      "Parâmetros: {'n_neighbors': 22} | Acurácia:  90.95078923384203\n",
      "Parâmetros: {'n_neighbors': 23} | Acurácia:  90.95995979496726\n",
      "Parâmetros: {'n_neighbors': 24} | Acurácia:  91.03166792711383\n",
      "Parâmetros: {'n_neighbors': 25} | Acurácia:  91.31013787352866\n",
      "Parâmetros: {'n_neighbors': 26} | Acurácia:  91.5525638788161\n",
      "Parâmetros: {'n_neighbors': 27} | Acurácia:  91.55281435229176\n",
      "Parâmetros: {'n_neighbors': 28} | Acurácia:  91.55270931502777\n",
      "Parâmetros: {'n_neighbors': 29} | Acurácia:  91.6606633830402\n",
      "Parâmetros: {'n_neighbors': 30} | Acurácia:  91.69645685069196\n"
     ]
    }
   ],
   "source": [
    "from sklearn.neighbors import KNeighborsClassifier\n",
    "\n",
    "k_range = list(range(1, 31))\n",
    "\n",
    "for i in k_range:\n",
    "    knn = KNeighborsClassifier(n_neighbors=i)\n",
    "    scores = cross_val_tfidf(knn, X, Y, kfold)\n",
    "    params = {'n_neighbors': i}\n",
    "    print('Parâmetros:', params, \"|\", 'Acurácia: ', scores['test_accuracy'].mean()*100)"
   ]
  },
  {
   "cell_type": "code",
   "execution_count": 199,
   "metadata": {},
   "outputs": [
    {
     "name": "stdout",
     "output_type": "stream",
     "text": [
      "KNN:\n",
      "Acurácia: 91.68%\n",
      "F1-Score Micro: 91.68%\n",
      "F1-Score Macro: 91.62%\n",
      "F1-Score Weighted: 91.67%\n",
      "Log Loss: 0.50\n"
     ]
    }
   ],
   "source": [
    "from sklearn.neighbors import KNeighborsClassifier\n",
    "\n",
    "knn = KNeighborsClassifier(n_neighbors=29)\n",
    "print(\"KNN:\")\n",
    "avalia_modelo(knn)"
   ]
  },
  {
   "cell_type": "markdown",
   "metadata": {},
   "source": [
    "## Avaliação da Regressão Logística"
   ]
  },
  {
   "cell_type": "markdown",
   "metadata": {},
   "source": [
    "### Curva de Aprendizado"
   ]
  },
  {
   "cell_type": "code",
   "execution_count": 200,
   "metadata": {},
   "outputs": [],
   "source": [
    "from sklearn.model_selection import learning_curve\n",
    "\n",
    "def curva_aprendizado(modelo, X, Y, kfold, titulo):\n",
    "    modelo_ = cp.deepcopy(modelo)\n",
    "    tsize, training_score, test_score = learning_curve(modelo_, exemplo_X, Y, cv=kfold, random_state=1000)\n",
    "    avg_tr_scores = np.mean(training_score, axis=1)\n",
    "    avg_test_scores = np.mean(test_score, axis=1)\n",
    "\n",
    "    plt.plot(tsize,avg_tr_scores,label='Training Score')\n",
    "    plt.plot(tsize,avg_test_scores,label='CV Score')\n",
    "    plt.title(titulo)\n",
    "    plt.legend()\n",
    "    plt.show()"
   ]
  },
  {
   "cell_type": "code",
   "execution_count": 201,
   "metadata": {},
   "outputs": [
    {
     "data": {
      "image/png": "[encoded data removed]",
      "text/plain": [
       "<Figure size 432x288 with 1 Axes>"
      ]
     },
     "metadata": {
      "needs_background": "light"
     },
     "output_type": "display_data"
    }
   ],
   "source": [
    "curva_aprendizado(lr, X, Y, kfold, \"Regressão Logística\")"
   ]
  },
  {
   "cell_type": "markdown",
   "metadata": {},
   "source": [
    "### Matriz de Confusão"
   ]
  },
  {
   "cell_type": "markdown",
   "metadata": {},
   "source": [
    "Para que a matriz de confusão pudesse ser feita em cima do CV, foi utilizada a função criada em sala de aula e baseada em https://towardsdatascience.com/how-to-plot-a-confusion-matrix-from-a-k-fold-cross-validation-b607317e9874."
   ]
  },
  {
   "cell_type": "code",
   "execution_count": 202,
   "metadata": {},
   "outputs": [],
   "source": [
    "import numpy as np\n",
    "import copy as cp\n",
    "from sklearn.model_selection import StratifiedKFold, cross_val_score\n",
    "from sklearn.metrics import confusion_matrix\n",
    "import matplotlib.cm as cm\n",
    "    \n",
    "def cross_val_predict(model, kfold : StratifiedKFold, X : np.array, y : np.array):\n",
    "\n",
    "    model_ = cp.deepcopy(model)\n",
    "    \n",
    "    no_classes = len(np.unique(y))\n",
    "    \n",
    "    actual_classes = np.empty([0], dtype=int)\n",
    "    predicted_classes = np.empty([0], dtype=int)\n",
    "    predicted_proba = np.empty([0, no_classes]) \n",
    "\n",
    "    for train_ndx, test_ndx in kfold.split(X,y):\n",
    "\n",
    "        train_X, train_y, test_X, test_y = X[train_ndx], y[train_ndx], X[test_ndx], y[test_ndx]\n",
    "        tfidf = TfidfVectorizer()\n",
    "        train_X = tfidf.fit_transform(train_X)\n",
    "        test_X = tfidf.transform(test_X)\n",
    "\n",
    "        actual_classes = np.append(actual_classes, test_y)\n",
    "\n",
    "        model_.fit(train_X, train_y)\n",
    "        predicted_classes = np.append(predicted_classes, model_.predict(test_X))\n",
    "\n",
    "        try:\n",
    "            predicted_proba = np.append(predicted_proba, model_.predict_proba(test_X), axis=0)\n",
    "        except:\n",
    "            predicted_proba = np.append(predicted_proba, np.zeros((len(test_X), no_classes), dtype=float), axis=0)\n",
    "\n",
    "    return actual_classes, predicted_classes, predicted_proba\n",
    "\n",
    "def plot_confusion_matrix(Y_test, Y_pred, targets):\n",
    "    cmatrix = confusion_matrix(y_true=Y_test, y_pred=Y_pred)\n",
    "    cm_fig, cm_ax = plt.subplots(figsize=(8.0, 8.0))\n",
    "    cm_ax.matshow(cmatrix, cmap=cm.GnBu)\n",
    "\n",
    "\n",
    "    cm_ax.set_xticklabels([''] + targets)\n",
    "    cm_ax.set_yticklabels([''] + targets)\n",
    "\n",
    "    for i in range(len(targets)):\n",
    "        for j in range(len(targets)):\n",
    "            cm_ax.text(x=j, y=i, s=cmatrix[i, j], va='center', ha='center', size='x-large')\n",
    "\n",
    "    plt.title('Matriz de Confusão')\n",
    "    plt.show()"
   ]
  },
  {
   "cell_type": "code",
   "execution_count": 203,
   "metadata": {},
   "outputs": [
    {
     "data": {
      "image/png": "[encoded data removed]",
      "text/plain": [
       "<Figure size 576x576 with 1 Axes>"
      ]
     },
     "metadata": {
      "needs_background": "light"
     },
     "output_type": "display_data"
    }
   ],
   "source": [
    "actual_classes, predicted_classes, _ = cross_val_predict(lr, kfold, X, Y)\n",
    "\n",
    "plot_confusion_matrix(actual_classes, predicted_classes, df['Category'].value_counts().index.to_list())"
   ]
  }
 ],
 "metadata": {
  "kernelspec": {
   "display_name": "Python 3",
   "language": "python",
   "name": "python3"
  },
  "language_info": {
   "codemirror_mode": {
    "name": "ipython",
    "version": 3
   },
   "file_extension": ".py",
   "mimetype": "text/x-python",
   "name": "python",
   "nbconvert_exporter": "python",
   "pygments_lexer": "ipython3",
   "version": "3.8.5"
  },
  "vscode": {
   "interpreter": {
    "hash": "916dbcbb3f70747c44a77c7bcd40155683ae19c65e1c03b4aa3499c5328201f1"
   }
  }
 },
 "nbformat": 4,
 "nbformat_minor": 4
}
