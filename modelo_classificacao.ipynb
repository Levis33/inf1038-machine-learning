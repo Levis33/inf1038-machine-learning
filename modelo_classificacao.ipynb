{
 "cells": [
  {
   "cell_type": "markdown",
   "metadata": {},
   "source": [
    "# Modelo de Classificação (Youtube Video Dataset)\n",
    "https://www.kaggle.com/datasets/rahulanand0070/youtubevideodataset"
   ]
  },
  {
   "cell_type": "code",
   "execution_count": 111,
   "metadata": {},
   "outputs": [],
   "source": [
    "import pandas as pd\n",
    "import numpy as np\n",
    "import re\n",
    "\n",
    "# NLTK\n",
    "from nltk.corpus import stopwords\n",
    "from nltk.tokenize import word_tokenize\n",
    "from nltk.stem import PorterStemmer\n",
    "\n",
    "# SKLearn\n",
    "from sklearn.model_selection import train_test_split"
   ]
  },
  {
   "cell_type": "markdown",
   "metadata": {},
   "source": [
    "## Preparação do Dataset\n",
    "\n",
    "A partir do .csv informado, vamos preparar o dataset para os algoritmos. Nesse caso, vamos remover valores nulos e filtrar as colunas de interesse."
   ]
  },
  {
   "cell_type": "code",
   "execution_count": 112,
   "metadata": {},
   "outputs": [
    {
     "data": {
      "text/html": [
       "<div>\n",
       "<style scoped>\n",
       "    .dataframe tbody tr th:only-of-type {\n",
       "        vertical-align: middle;\n",
       "    }\n",
       "\n",
       "    .dataframe tbody tr th {\n",
       "        vertical-align: top;\n",
       "    }\n",
       "\n",
       "    .dataframe thead th {\n",
       "        text-align: right;\n",
       "    }\n",
       "</style>\n",
       "<table border=\"1\" class=\"dataframe\">\n",
       "  <thead>\n",
       "    <tr style=\"text-align: right;\">\n",
       "      <th></th>\n",
       "      <th>Title</th>\n",
       "      <th>Videourl</th>\n",
       "      <th>Category</th>\n",
       "      <th>Description</th>\n",
       "    </tr>\n",
       "  </thead>\n",
       "  <tbody>\n",
       "    <tr>\n",
       "      <th>0</th>\n",
       "      <td>Madagascar Street Food!!! Super RARE Malagasy ...</td>\n",
       "      <td>/watch?v=EwBA1fOQ96c</td>\n",
       "      <td>Food</td>\n",
       "      <td>🎥GIANT ALIEN SNAIL IN JAPAN! » https://youtu.b...</td>\n",
       "    </tr>\n",
       "    <tr>\n",
       "      <th>1</th>\n",
       "      <td>42 Foods You Need To Eat Before You Die</td>\n",
       "      <td>/watch?v=0SPwwpruGIA</td>\n",
       "      <td>Food</td>\n",
       "      <td>This is the ultimate must-try food bucket list...</td>\n",
       "    </tr>\n",
       "    <tr>\n",
       "      <th>2</th>\n",
       "      <td>Gordon Ramsay’s Top 5 Indian Dishes</td>\n",
       "      <td>/watch?v=upfu5nQB2ks</td>\n",
       "      <td>Food</td>\n",
       "      <td>We found 5 of the best and most interesting In...</td>\n",
       "    </tr>\n",
       "    <tr>\n",
       "      <th>3</th>\n",
       "      <td>How To Use Chopsticks - In About A Minute 🍜</td>\n",
       "      <td>/watch?v=xFRzzSF_6gk</td>\n",
       "      <td>Food</td>\n",
       "      <td>You're most likely sitting in a restaurant wit...</td>\n",
       "    </tr>\n",
       "    <tr>\n",
       "      <th>4</th>\n",
       "      <td>Trying Indian Food 1st Time!</td>\n",
       "      <td>/watch?v=K79bXtaRwcM</td>\n",
       "      <td>Food</td>\n",
       "      <td>HELP SUPPORT SINSTV!! Shop Our Sponsors!\\r\\nLa...</td>\n",
       "    </tr>\n",
       "  </tbody>\n",
       "</table>\n",
       "</div>"
      ],
      "text/plain": [
       "                                               Title              Videourl  \\\n",
       "0  Madagascar Street Food!!! Super RARE Malagasy ...  /watch?v=EwBA1fOQ96c   \n",
       "1            42 Foods You Need To Eat Before You Die  /watch?v=0SPwwpruGIA   \n",
       "2                Gordon Ramsay’s Top 5 Indian Dishes  /watch?v=upfu5nQB2ks   \n",
       "3        How To Use Chopsticks - In About A Minute 🍜  /watch?v=xFRzzSF_6gk   \n",
       "4                       Trying Indian Food 1st Time!  /watch?v=K79bXtaRwcM   \n",
       "\n",
       "  Category                                        Description  \n",
       "0     Food  🎥GIANT ALIEN SNAIL IN JAPAN! » https://youtu.b...  \n",
       "1     Food  This is the ultimate must-try food bucket list...  \n",
       "2     Food  We found 5 of the best and most interesting In...  \n",
       "3     Food  You're most likely sitting in a restaurant wit...  \n",
       "4     Food  HELP SUPPORT SINSTV!! Shop Our Sponsors!\\r\\nLa...  "
      ]
     },
     "execution_count": 112,
     "metadata": {},
     "output_type": "execute_result"
    }
   ],
   "source": [
    "df = pd.read_csv('datasets/youtube_video_dataset.csv')\n",
    "df.head()"
   ]
  },
  {
   "cell_type": "code",
   "execution_count": 113,
   "metadata": {},
   "outputs": [
    {
     "name": "stdout",
     "output_type": "stream",
     "text": [
      "Colunas: Title Videourl Category Description\n",
      "Número de Linhas: 11211\n",
      "Colunas: Title Category Description\n",
      "Número de Linhas com Valores Nulos: 83\n",
      "Número de Linhas Após Remoção de Nulos: 11128\n",
      "Número de Linhas com Valores Nulos (Verificação): 0\n"
     ]
    }
   ],
   "source": [
    "colunas = list()\n",
    "for coluna in df.columns:\n",
    "    colunas.append(coluna)\n",
    "print(\"Colunas:\", \" \".join(colunas))\n",
    "print(\"Número de Linhas:\", df.shape[0])\n",
    "# Removendo as colunas que não são interessantes (nesse caso, apenas importa \"Title\" e \"Category\")\n",
    "df = df.iloc[:, [0, 2, 3]]\n",
    "colunas = list()\n",
    "for coluna in df.columns:\n",
    "    colunas.append(coluna)\n",
    "print(\"Colunas:\", \" \".join(colunas))\n",
    "print(\"Número de Linhas com Valores Nulos:\", df.isna().sum().sum())\n",
    "# Retirando linhas com valores nulos \n",
    "df = df.dropna()\n",
    "print(\"Número de Linhas Após Remoção de Nulos:\", df.shape[0])\n",
    "print(\"Número de Linhas com Valores Nulos (Verificação):\", df.isna().sum().sum())"
   ]
  },
  {
   "cell_type": "markdown",
   "metadata": {},
   "source": [
    "### Novo dataset com as colunas novas e valores removidos:"
   ]
  },
  {
   "cell_type": "code",
   "execution_count": 114,
   "metadata": {},
   "outputs": [
    {
     "data": {
      "text/html": [
       "<div>\n",
       "<style scoped>\n",
       "    .dataframe tbody tr th:only-of-type {\n",
       "        vertical-align: middle;\n",
       "    }\n",
       "\n",
       "    .dataframe tbody tr th {\n",
       "        vertical-align: top;\n",
       "    }\n",
       "\n",
       "    .dataframe thead th {\n",
       "        text-align: right;\n",
       "    }\n",
       "</style>\n",
       "<table border=\"1\" class=\"dataframe\">\n",
       "  <thead>\n",
       "    <tr style=\"text-align: right;\">\n",
       "      <th></th>\n",
       "      <th>Title</th>\n",
       "      <th>Category</th>\n",
       "      <th>Description</th>\n",
       "    </tr>\n",
       "  </thead>\n",
       "  <tbody>\n",
       "    <tr>\n",
       "      <th>0</th>\n",
       "      <td>Madagascar Street Food!!! Super RARE Malagasy ...</td>\n",
       "      <td>Food</td>\n",
       "      <td>🎥GIANT ALIEN SNAIL IN JAPAN! » https://youtu.b...</td>\n",
       "    </tr>\n",
       "    <tr>\n",
       "      <th>1</th>\n",
       "      <td>42 Foods You Need To Eat Before You Die</td>\n",
       "      <td>Food</td>\n",
       "      <td>This is the ultimate must-try food bucket list...</td>\n",
       "    </tr>\n",
       "    <tr>\n",
       "      <th>2</th>\n",
       "      <td>Gordon Ramsay’s Top 5 Indian Dishes</td>\n",
       "      <td>Food</td>\n",
       "      <td>We found 5 of the best and most interesting In...</td>\n",
       "    </tr>\n",
       "    <tr>\n",
       "      <th>3</th>\n",
       "      <td>How To Use Chopsticks - In About A Minute 🍜</td>\n",
       "      <td>Food</td>\n",
       "      <td>You're most likely sitting in a restaurant wit...</td>\n",
       "    </tr>\n",
       "    <tr>\n",
       "      <th>4</th>\n",
       "      <td>Trying Indian Food 1st Time!</td>\n",
       "      <td>Food</td>\n",
       "      <td>HELP SUPPORT SINSTV!! Shop Our Sponsors!\\r\\nLa...</td>\n",
       "    </tr>\n",
       "    <tr>\n",
       "      <th>...</th>\n",
       "      <td>...</td>\n",
       "      <td>...</td>\n",
       "      <td>...</td>\n",
       "    </tr>\n",
       "    <tr>\n",
       "      <th>11206</th>\n",
       "      <td>art journal | shimmer sprays, stencils, collag...</td>\n",
       "      <td>Art&amp;Music</td>\n",
       "      <td>Step by step video on creating an art journal ...</td>\n",
       "    </tr>\n",
       "    <tr>\n",
       "      <th>11207</th>\n",
       "      <td>Ar-Tea Collage * Mixed Media Art</td>\n",
       "      <td>Art&amp;Music</td>\n",
       "      <td>By: Ilene McInnes,\\r\\nMixed media Art and insp...</td>\n",
       "    </tr>\n",
       "    <tr>\n",
       "      <th>11208</th>\n",
       "      <td>DIY Mixed Media Art Collage Greeting Cards / M...</td>\n",
       "      <td>Art&amp;Music</td>\n",
       "      <td>Make your own Mixed Media Greeting Cards\\r\\n\\r...</td>\n",
       "    </tr>\n",
       "    <tr>\n",
       "      <th>11209</th>\n",
       "      <td>Art Collage Process DecoJournal using Rice Pap...</td>\n",
       "      <td>Art&amp;Music</td>\n",
       "      <td>Art Collage Process DecoJournal using Rice Pap...</td>\n",
       "    </tr>\n",
       "    <tr>\n",
       "      <th>11210</th>\n",
       "      <td>Journal Collage Process using Magazine Cut Out...</td>\n",
       "      <td>Art&amp;Music</td>\n",
       "      <td>Using magazine, scrapbook paper, recycled old ...</td>\n",
       "    </tr>\n",
       "  </tbody>\n",
       "</table>\n",
       "<p>11128 rows × 3 columns</p>\n",
       "</div>"
      ],
      "text/plain": [
       "                                                   Title   Category  \\\n",
       "0      Madagascar Street Food!!! Super RARE Malagasy ...       Food   \n",
       "1                42 Foods You Need To Eat Before You Die       Food   \n",
       "2                    Gordon Ramsay’s Top 5 Indian Dishes       Food   \n",
       "3            How To Use Chopsticks - In About A Minute 🍜       Food   \n",
       "4                           Trying Indian Food 1st Time!       Food   \n",
       "...                                                  ...        ...   \n",
       "11206  art journal | shimmer sprays, stencils, collag...  Art&Music   \n",
       "11207                   Ar-Tea Collage * Mixed Media Art  Art&Music   \n",
       "11208  DIY Mixed Media Art Collage Greeting Cards / M...  Art&Music   \n",
       "11209  Art Collage Process DecoJournal using Rice Pap...  Art&Music   \n",
       "11210  Journal Collage Process using Magazine Cut Out...  Art&Music   \n",
       "\n",
       "                                             Description  \n",
       "0      🎥GIANT ALIEN SNAIL IN JAPAN! » https://youtu.b...  \n",
       "1      This is the ultimate must-try food bucket list...  \n",
       "2      We found 5 of the best and most interesting In...  \n",
       "3      You're most likely sitting in a restaurant wit...  \n",
       "4      HELP SUPPORT SINSTV!! Shop Our Sponsors!\\r\\nLa...  \n",
       "...                                                  ...  \n",
       "11206  Step by step video on creating an art journal ...  \n",
       "11207  By: Ilene McInnes,\\r\\nMixed media Art and insp...  \n",
       "11208  Make your own Mixed Media Greeting Cards\\r\\n\\r...  \n",
       "11209  Art Collage Process DecoJournal using Rice Pap...  \n",
       "11210  Using magazine, scrapbook paper, recycled old ...  \n",
       "\n",
       "[11128 rows x 3 columns]"
      ]
     },
     "execution_count": 114,
     "metadata": {},
     "output_type": "execute_result"
    }
   ],
   "source": [
    "df"
   ]
  },
  {
   "cell_type": "markdown",
   "metadata": {},
   "source": [
    "Abaixo, foi verificado quantas categorias existem e qual a frequência de cada categoria. Como é possível observar, a mais comum é a de Viagem, enquanto a menos comum é a de História. Nesse caso, vamos mapear as classes aqui informadas para uma representação numérica."
   ]
  },
  {
   "cell_type": "code",
   "execution_count": 115,
   "metadata": {},
   "outputs": [
    {
     "data": {
      "text/plain": [
       "travel blog           2200\n",
       "Science&Technology    2074\n",
       "Food                  1828\n",
       "manufacturing         1699\n",
       "Art&Music             1682\n",
       "History               1645\n",
       "Name: Category, dtype: int64"
      ]
     },
     "execution_count": 115,
     "metadata": {},
     "output_type": "execute_result"
    }
   ],
   "source": [
    "df['Category'].value_counts()"
   ]
  },
  {
   "cell_type": "code",
   "execution_count": 116,
   "metadata": {},
   "outputs": [
    {
     "data": {
      "text/html": [
       "<div>\n",
       "<style scoped>\n",
       "    .dataframe tbody tr th:only-of-type {\n",
       "        vertical-align: middle;\n",
       "    }\n",
       "\n",
       "    .dataframe tbody tr th {\n",
       "        vertical-align: top;\n",
       "    }\n",
       "\n",
       "    .dataframe thead th {\n",
       "        text-align: right;\n",
       "    }\n",
       "</style>\n",
       "<table border=\"1\" class=\"dataframe\">\n",
       "  <thead>\n",
       "    <tr style=\"text-align: right;\">\n",
       "      <th></th>\n",
       "      <th>Title</th>\n",
       "      <th>Category</th>\n",
       "      <th>Description</th>\n",
       "    </tr>\n",
       "  </thead>\n",
       "  <tbody>\n",
       "    <tr>\n",
       "      <th>0</th>\n",
       "      <td>Madagascar Street Food!!! Super RARE Malagasy ...</td>\n",
       "      <td>2</td>\n",
       "      <td>🎥GIANT ALIEN SNAIL IN JAPAN! » https://youtu.b...</td>\n",
       "    </tr>\n",
       "    <tr>\n",
       "      <th>1</th>\n",
       "      <td>42 Foods You Need To Eat Before You Die</td>\n",
       "      <td>2</td>\n",
       "      <td>This is the ultimate must-try food bucket list...</td>\n",
       "    </tr>\n",
       "    <tr>\n",
       "      <th>2</th>\n",
       "      <td>Gordon Ramsay’s Top 5 Indian Dishes</td>\n",
       "      <td>2</td>\n",
       "      <td>We found 5 of the best and most interesting In...</td>\n",
       "    </tr>\n",
       "    <tr>\n",
       "      <th>3</th>\n",
       "      <td>How To Use Chopsticks - In About A Minute 🍜</td>\n",
       "      <td>2</td>\n",
       "      <td>You're most likely sitting in a restaurant wit...</td>\n",
       "    </tr>\n",
       "    <tr>\n",
       "      <th>4</th>\n",
       "      <td>Trying Indian Food 1st Time!</td>\n",
       "      <td>2</td>\n",
       "      <td>HELP SUPPORT SINSTV!! Shop Our Sponsors!\\r\\nLa...</td>\n",
       "    </tr>\n",
       "  </tbody>\n",
       "</table>\n",
       "</div>"
      ],
      "text/plain": [
       "                                               Title  Category  \\\n",
       "0  Madagascar Street Food!!! Super RARE Malagasy ...         2   \n",
       "1            42 Foods You Need To Eat Before You Die         2   \n",
       "2                Gordon Ramsay’s Top 5 Indian Dishes         2   \n",
       "3        How To Use Chopsticks - In About A Minute 🍜         2   \n",
       "4                       Trying Indian Food 1st Time!         2   \n",
       "\n",
       "                                         Description  \n",
       "0  🎥GIANT ALIEN SNAIL IN JAPAN! » https://youtu.b...  \n",
       "1  This is the ultimate must-try food bucket list...  \n",
       "2  We found 5 of the best and most interesting In...  \n",
       "3  You're most likely sitting in a restaurant wit...  \n",
       "4  HELP SUPPORT SINSTV!! Shop Our Sponsors!\\r\\nLa...  "
      ]
     },
     "execution_count": 116,
     "metadata": {},
     "output_type": "execute_result"
    }
   ],
   "source": [
    "lista_categorias = df['Category'].value_counts().index.to_list()\n",
    "dict_mapeamento = dict()\n",
    "for i in range(len(lista_categorias)):\n",
    "    dict_mapeamento[lista_categorias[i]] = i\n",
    "df['Category'] = df['Category'].map(dict_mapeamento)\n",
    "df.head()"
   ]
  },
  {
   "cell_type": "markdown",
   "metadata": {},
   "source": [
    "## Criação do Vetor TFIDF"
   ]
  },
  {
   "cell_type": "markdown",
   "metadata": {},
   "source": [
    "O vetor TFIDF (Term Frequency - Inverse Document Frequency) é baseado no modelo de Bag of Words e procura dar mais importância para as palavras mais raras que aparecem dentro do corpo de um documento. Ainda assim, leva também em consideração as palavras mais frequentes."
   ]
  },
  {
   "cell_type": "code",
   "execution_count": 160,
   "metadata": {},
   "outputs": [],
   "source": [
    "#import nltk\n",
    "#nltk.download('punkt')\n",
    "#https://datascience.stackexchange.com/questions/25004/text-classifier-with-multiple-bag-of-words\n",
    "import numpy as np\n",
    "\n",
    "lista_stopwords = set(stopwords.words('english'))\n",
    "ps = PorterStemmer()\n",
    "\n",
    "df['Title'] = df['Title'].apply(lambda x: x.lower()) # Tirando letras minúsculas\n",
    "df['Title'] = df['Title'].apply(lambda x: re.sub(\"[^a-zA-Z]\",\" \", x)) # Filtrando símbolos\n",
    "\n",
    "lista_frases = list()\n",
    "\n",
    "for i, row in df.iterrows():\n",
    "    lista_palavra = word_tokenize(row['Title'])\n",
    "    lista_palavra.extend(word_tokenize(row['Description']))\n",
    "    lista_string = []\n",
    "    for palavra in lista_palavra:\n",
    "        if palavra not in lista_stopwords:\n",
    "            palavra = ps.stem(palavra) # Stemming da palavra\n",
    "            lista_string.append(palavra)\n",
    "    string = \" \".join(lista_string)\n",
    "    lista_frases.append(string)\n",
    "\n",
    "array_frases = np.array(lista_frases)"
   ]
  },
  {
   "cell_type": "markdown",
   "metadata": {},
   "source": [
    "## Separação do Dataset entre Treinamento e Teste"
   ]
  },
  {
   "cell_type": "code",
   "execution_count": 178,
   "metadata": {},
   "outputs": [],
   "source": [
    "from sklearn.feature_extraction.text import CountVectorizer, TfidfVectorizer\n",
    "\n",
    "vectorizer = TfidfVectorizer()\n",
    "\n",
    "X = vectorizer.fit_transform(array_frases)\n",
    "Y = df['Category'].values\n",
    "\n",
    "X_train, X_test, y_train, y_test = train_test_split(X, Y, stratify=Y, test_size=0.33)"
   ]
  },
  {
   "cell_type": "markdown",
   "metadata": {},
   "source": [
    "## Regressão Logística"
   ]
  },
  {
   "cell_type": "code",
   "execution_count": 162,
   "metadata": {},
   "outputs": [
    {
     "name": "stdout",
     "output_type": "stream",
     "text": [
      "Acurácia da Regressão Logística: 96.55%\n",
      "Desvio Padrão:  0.935952207444578\n"
     ]
    }
   ],
   "source": [
    "# https://vitalflux.com/text-classification-bag-of-words-model-python-sklearn/\n",
    "import warnings \n",
    "warnings.filterwarnings('ignore')\n",
    "from sklearn.linear_model import LogisticRegression\n",
    "from sklearn.model_selection import cross_val_score\n",
    "from sklearn import metrics\n",
    "\n",
    "kfold = StratifiedKFold(n_splits=10,  shuffle=True)\n",
    "\n",
    "lr = LogisticRegression(solver='liblinear')\n",
    "scores = cross_val_score(lr, X, Y, cv=kfold, scoring='accuracy')\n",
    "print(\"Acurácia da Regressão Logística: %0.2f%%\" % (scores.mean()*100))\n",
    "print(\"Desvio Padrão: \", scores.std()*2*100)"
   ]
  },
  {
   "cell_type": "markdown",
   "metadata": {},
   "source": [
    "## Gradiente Descendente Estocástico"
   ]
  },
  {
   "cell_type": "code",
   "execution_count": 163,
   "metadata": {},
   "outputs": [
    {
     "name": "stdout",
     "output_type": "stream",
     "text": [
      "Acurácia do SGD: 96.15%\n",
      "Desvio Padrão:  1.5476767006452066\n",
      "Acurácia do SGD (Perceptron): 96.42%\n",
      "Desvio Padrão:  0.760894719799209\n"
     ]
    }
   ],
   "source": [
    "from sklearn.linear_model import SGDClassifier, Perceptron\n",
    "from sklearn.model_selection import learning_curve\n",
    "\n",
    "sgd = SGDClassifier(loss='perceptron', learning_rate='optimal')\n",
    "scores = cross_val_score(sgd, X, Y, cv=kfold, scoring='accuracy')\n",
    "print(\"Acurácia do SGD: %0.2f%%\" % (scores.mean()*100))\n",
    "print(\"Desvio Padrão: \", scores.std()*2*100)\n",
    "\n",
    "perc = Perceptron()\n",
    "scores = cross_val_score(perc, X, Y, cv=kfold, scoring='accuracy')\n",
    "print(\"Acurácia do SGD (Perceptron): %0.2f%%\" % (scores.mean()*100))\n",
    "print(\"Desvio Padrão: \", scores.std()*2*100)"
   ]
  },
  {
   "cell_type": "markdown",
   "metadata": {},
   "source": [
    "## Regressão Logística (Avaliação)"
   ]
  },
  {
   "cell_type": "markdown",
   "metadata": {},
   "source": [
    "### Curva de Aprendizado"
   ]
  },
  {
   "cell_type": "code",
   "execution_count": 153,
   "metadata": {},
   "outputs": [
    {
     "data": {
      "image/png": "[encoded data removed]",
      "text/plain": [
       "<Figure size 432x288 with 1 Axes>"
      ]
     },
     "metadata": {
      "needs_background": "light"
     },
     "output_type": "display_data"
    }
   ],
   "source": [
    "import matplotlib.pyplot as plt\n",
    "import warnings \n",
    "warnings.filterwarnings('ignore')\n",
    "\n",
    "# Regressão Logística\n",
    "tsize, training_score, test_score = learning_curve(lr, X, Y, cv=kfold, random_state=1000)\n",
    "\n",
    "avg_tr_scores = np.mean(training_score, axis=1)\n",
    "avg_test_scores = np.mean(test_score, axis=1)\n",
    "\n",
    "plt.plot(tsize,avg_tr_scores,label='Training Score')\n",
    "plt.plot(tsize,avg_test_scores,label='CV Score')\n",
    "plt.legend()\n",
    "plt.show()"
   ]
  },
  {
   "cell_type": "markdown",
   "metadata": {},
   "source": [
    "### Matriz de Confusão"
   ]
  },
  {
   "cell_type": "code",
   "execution_count": 189,
   "metadata": {},
   "outputs": [
    {
     "data": {
      "image/png": "[encoded data removed]",
      "text/plain": [
       "<Figure size 432x288 with 2 Axes>"
      ]
     },
     "metadata": {
      "needs_background": "light"
     },
     "output_type": "display_data"
    }
   ],
   "source": [
    "import matplotlib.pyplot as plt\n",
    "from sklearn.metrics import confusion_matrix, plot_confusion_matrix\n",
    "\n",
    "def matriz_confusao(modelo, X_train, X_test, y_train, y_test):\n",
    "    modelo.fit(X_train, y_train)\n",
    "    cm = confusion_matrix(y_test, modelo.predict(X_test))\n",
    "    plot_confusion_matrix(modelo, X_test, y_test, cmap=plt.cm.Blues)\n",
    "    plt.show()\n",
    "\n",
    "matriz_confusao(lr, X_train, X_test, y_train, y_test)"
   ]
  },
  {
   "cell_type": "markdown",
   "metadata": {},
   "source": [
    "## Árvore de Decisão"
   ]
  },
  {
   "cell_type": "code",
   "execution_count": 190,
   "metadata": {},
   "outputs": [
    {
     "name": "stdout",
     "output_type": "stream",
     "text": [
      "Acurácia da Árvore de Decisão: 95.97%\n",
      "Desvio Padrão:  0.6337856279832438\n"
     ]
    }
   ],
   "source": [
    "import multiprocessing \n",
    "from sklearn.tree import DecisionTreeClassifier\n",
    "\n",
    "dt = DecisionTreeClassifier()\n",
    "scores = cross_val_score(perc, X, Y, cv=kfold, scoring='accuracy')\n",
    "print(\"Acurácia da Árvore de Decisão: %0.2f%%\" % (scores.mean()*100))\n",
    "print(\"Desvio Padrão: \", scores.std()*2*100)"
   ]
  },
  {
   "cell_type": "markdown",
   "metadata": {},
   "source": [
    "### Matriz de Confusão"
   ]
  },
  {
   "cell_type": "code",
   "execution_count": 191,
   "metadata": {},
   "outputs": [
    {
     "data": {
      "image/png": "[encoded data removed]",
      "text/plain": [
       "<Figure size 432x288 with 2 Axes>"
      ]
     },
     "metadata": {
      "needs_background": "light"
     },
     "output_type": "display_data"
    }
   ],
   "source": [
    "matriz_confusao(dt, X_train, X_test, y_train, y_test)"
   ]
  },
  {
   "cell_type": "code",
   "execution_count": 181,
   "metadata": {},
   "outputs": [],
   "source": [
    "# import numpy as np\n",
    "# import copy as cp\n",
    "# import matplotlib.pyplot as plt\n",
    "\n",
    "# import seaborn as sns\n",
    "# from typing import Tuple\n",
    "# from sklearn.metrics import confusion_matrix\n",
    "\n",
    "# def cross_val_predict(model, kfold : StratifiedKFold, X : np.array, y : np.array) -> Tuple[np.array, np.array, np.array]:\n",
    "#     model_ = cp.deepcopy(model)\n",
    "#     no_classes = len(np.unique(y))\n",
    "#     actual_classes = np.empty([0], dtype=int)\n",
    "#     predicted_classes = np.empty([0], dtype=int)\n",
    "#     predicted_proba = np.empty([0, no_classes]) \n",
    "#     for train_ndx, test_ndx in kfold.split(X):\n",
    "#         train_X, train_y, test_X, test_y = X[train_ndx], y[train_ndx], X[test_ndx], y[test_ndx]\n",
    "#         actual_classes = np.append(actual_classes, test_y)\n",
    "#         model_.fit(train_X, train_y)\n",
    "#         predicted_classes = np.append(predicted_classes, model_.predict(test_X))\n",
    "#         try:\n",
    "#             predicted_proba = np.append(predicted_proba, model_.predict_proba(test_X), axis=0)\n",
    "#         except:\n",
    "#             predicted_proba = np.append(predicted_proba, np.zeros((len(test_X), no_classes), dtype=float), axis=0)\n",
    "\n",
    "#     return actual_classes, predicted_classes, predicted_proba\n",
    "\n",
    "\n",
    "# def plot_confusion_matrix(actual_classes : np.array, predicted_classes : np.array, sorted_labels : list):\n",
    "#     matrix = confusion_matrix(actual_classes, predicted_classes, labels=sorted_labels)\n",
    "#     plt.figure(figsize=(12.8,6))\n",
    "#     sns.heatmap(matrix, annot=True, xticklabels=sorted_labels, yticklabels=sorted_labels, cmap=\"Blues\", fmt=\"g\")\n",
    "#     plt.xlabel('Predicted'); plt.ylabel('Actual'); plt.title('Confusion Matrix')\n",
    "#     plt.show()\n",
    "\n",
    "# actual_classes, predicted_classes, _ = cross_val_predict(lr, kfold, X, Y)\n",
    "# plot_confusion_matrix(actual_classes, predicted_classes, Y)"
   ]
  }
 ],
 "metadata": {
  "kernelspec": {
   "display_name": "Python 3",
   "language": "python",
   "name": "python3"
  },
  "vscode": {
   "interpreter": {
    "hash": "916dbcbb3f70747c44a77c7bcd40155683ae19c65e1c03b4aa3499c5328201f1"
   }
  }
 },
 "nbformat": 4,
 "nbformat_minor": 4
}
