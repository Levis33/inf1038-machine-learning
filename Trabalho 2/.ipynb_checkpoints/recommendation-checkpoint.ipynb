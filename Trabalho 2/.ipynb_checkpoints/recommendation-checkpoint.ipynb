{
 "cells": [
  {
   "cell_type": "markdown",
   "metadata": {},
   "source": [
    "# Modelo de recomendação de produtos da Amazon (Automotive_5.json)"
   ]
  },
  {
   "cell_type": "code",
   "execution_count": 1,
   "metadata": {},
   "outputs": [],
   "source": [
    "import pandas as pd\n",
    "import matplotlib.pyplot as plt\n",
    "import seaborn as sns\n",
    "import seaborn as sns\n",
    "import numpy as np\n",
    "import sklearn as sklearn\n",
    "\n",
    "pd.set_option('float_format', '{:f}'.format)\n",
    "reviews = pd.read_json('Automotive_5.json', lines = True)"
   ]
  },
  {
   "cell_type": "markdown",
   "metadata": {},
   "source": [
    "#### Descrição do Dataset:\n",
    "- reviewerID - ID of the reviewer, e.g. A2SUAM1J3GNN3B\n",
    "- asin - ID of the product, e.g. 0000013714\n",
    "- reviewerName - name of the reviewer\n",
    "- vote - helpful votes of the review\n",
    "- style - a dictionary of the product metadata, e.g., \"Format\" is \"Hardcover\"\n",
    "- reviewText - text of the review\n",
    "- overall - rating of the product\n",
    "- summary - summary of the review\n",
    "- unixReviewTime - time of the review (unix time)\n",
    "- reviewTime - time of the review (raw)\n",
    "- image - images that users post after they have received the product"
   ]
  },
  {
   "cell_type": "code",
   "execution_count": 3,
   "metadata": {},
   "outputs": [
    {
     "data": {
      "text/html": [
       "<div>\n",
       "<style scoped>\n",
       "    .dataframe tbody tr th:only-of-type {\n",
       "        vertical-align: middle;\n",
       "    }\n",
       "\n",
       "    .dataframe tbody tr th {\n",
       "        vertical-align: top;\n",
       "    }\n",
       "\n",
       "    .dataframe thead th {\n",
       "        text-align: right;\n",
       "    }\n",
       "</style>\n",
       "<table border=\"1\" class=\"dataframe\">\n",
       "  <thead>\n",
       "    <tr style=\"text-align: right;\">\n",
       "      <th></th>\n",
       "      <th>overall</th>\n",
       "      <th>verified</th>\n",
       "      <th>reviewTime</th>\n",
       "      <th>reviewerID</th>\n",
       "      <th>asin</th>\n",
       "      <th>style</th>\n",
       "      <th>reviewerName</th>\n",
       "      <th>reviewText</th>\n",
       "      <th>summary</th>\n",
       "      <th>unixReviewTime</th>\n",
       "      <th>vote</th>\n",
       "      <th>image</th>\n",
       "    </tr>\n",
       "  </thead>\n",
       "  <tbody>\n",
       "    <tr>\n",
       "      <th>0</th>\n",
       "      <td>4</td>\n",
       "      <td>False</td>\n",
       "      <td>05 1, 2015</td>\n",
       "      <td>A8WEXFRWX1ZHH</td>\n",
       "      <td>0209688726</td>\n",
       "      <td>{'Color:': ' AC'}</td>\n",
       "      <td>Goldengate</td>\n",
       "      <td>After I wrote the below review, the manufactur...</td>\n",
       "      <td>Works well if you place phone in horizontally ...</td>\n",
       "      <td>1430438400</td>\n",
       "      <td>NaN</td>\n",
       "      <td>NaN</td>\n",
       "    </tr>\n",
       "    <tr>\n",
       "      <th>1</th>\n",
       "      <td>1</td>\n",
       "      <td>True</td>\n",
       "      <td>04 19, 2018</td>\n",
       "      <td>ABCA1A8E4DGV1</td>\n",
       "      <td>0209688726</td>\n",
       "      <td>{'Color:': ' Blue'}</td>\n",
       "      <td>noe</td>\n",
       "      <td>It sucks barely picks up anything definitely n...</td>\n",
       "      <td>sucks</td>\n",
       "      <td>1524096000</td>\n",
       "      <td>NaN</td>\n",
       "      <td>NaN</td>\n",
       "    </tr>\n",
       "    <tr>\n",
       "      <th>2</th>\n",
       "      <td>1</td>\n",
       "      <td>True</td>\n",
       "      <td>04 16, 2018</td>\n",
       "      <td>A1NX8HM89FRQ32</td>\n",
       "      <td>0209688726</td>\n",
       "      <td>{'Color:': ' Black'}</td>\n",
       "      <td>Eduard</td>\n",
       "      <td>Well to write a short one, it blew 2 fuses of ...</td>\n",
       "      <td>Defective</td>\n",
       "      <td>1523836800</td>\n",
       "      <td>NaN</td>\n",
       "      <td>NaN</td>\n",
       "    </tr>\n",
       "    <tr>\n",
       "      <th>3</th>\n",
       "      <td>3</td>\n",
       "      <td>True</td>\n",
       "      <td>04 13, 2018</td>\n",
       "      <td>A1X77G023NY0KY</td>\n",
       "      <td>0209688726</td>\n",
       "      <td>{'Color:': ' CA'}</td>\n",
       "      <td>Lauren</td>\n",
       "      <td>I have absolutely no memory of buying this but...</td>\n",
       "      <td>Looks cool! Probably works</td>\n",
       "      <td>1523577600</td>\n",
       "      <td>NaN</td>\n",
       "      <td>NaN</td>\n",
       "    </tr>\n",
       "    <tr>\n",
       "      <th>4</th>\n",
       "      <td>5</td>\n",
       "      <td>True</td>\n",
       "      <td>04 8, 2018</td>\n",
       "      <td>A3GK37JO2MGW6Q</td>\n",
       "      <td>0209688726</td>\n",
       "      <td>{'Color:': ' Black'}</td>\n",
       "      <td>danny</td>\n",
       "      <td>it ok it does it job</td>\n",
       "      <td>Five Stars</td>\n",
       "      <td>1523145600</td>\n",
       "      <td>NaN</td>\n",
       "      <td>NaN</td>\n",
       "    </tr>\n",
       "    <tr>\n",
       "      <th>5</th>\n",
       "      <td>5</td>\n",
       "      <td>True</td>\n",
       "      <td>03 24, 2018</td>\n",
       "      <td>AIY18YON1TWJJ</td>\n",
       "      <td>0209688726</td>\n",
       "      <td>{'Color:': ' Black'}</td>\n",
       "      <td>Karen H.</td>\n",
       "      <td>Have 3 big dogs. this have been great for my F...</td>\n",
       "      <td>this have been great for my Ford transit connect</td>\n",
       "      <td>1521849600</td>\n",
       "      <td>NaN</td>\n",
       "      <td>NaN</td>\n",
       "    </tr>\n",
       "    <tr>\n",
       "      <th>6</th>\n",
       "      <td>3</td>\n",
       "      <td>True</td>\n",
       "      <td>03 4, 2018</td>\n",
       "      <td>A2MPTQ85HBBNG2</td>\n",
       "      <td>0209688726</td>\n",
       "      <td>{'Color:': ' Black'}</td>\n",
       "      <td>Giv</td>\n",
       "      <td>Pros: Good attachments, nice long cord, can re...</td>\n",
       "      <td>Decent car vaccuum.</td>\n",
       "      <td>1520121600</td>\n",
       "      <td>NaN</td>\n",
       "      <td>NaN</td>\n",
       "    </tr>\n",
       "    <tr>\n",
       "      <th>7</th>\n",
       "      <td>2</td>\n",
       "      <td>True</td>\n",
       "      <td>03 1, 2018</td>\n",
       "      <td>A1SPIM9Y6HUUSH</td>\n",
       "      <td>0209688726</td>\n",
       "      <td>{'Color:': ' Black'}</td>\n",
       "      <td>Frank W.Brodeur</td>\n",
       "      <td>I have a 2017 outback and everytime I try to u...</td>\n",
       "      <td>Two Stars</td>\n",
       "      <td>1519862400</td>\n",
       "      <td>NaN</td>\n",
       "      <td>NaN</td>\n",
       "    </tr>\n",
       "    <tr>\n",
       "      <th>8</th>\n",
       "      <td>4</td>\n",
       "      <td>True</td>\n",
       "      <td>02 22, 2018</td>\n",
       "      <td>A1Q6FHU6DA643L</td>\n",
       "      <td>0209688726</td>\n",
       "      <td>{'Color:': ' Black'}</td>\n",
       "      <td>nutter1</td>\n",
       "      <td>very good suction will see how it lasts</td>\n",
       "      <td>Four Stars</td>\n",
       "      <td>1519257600</td>\n",
       "      <td>NaN</td>\n",
       "      <td>NaN</td>\n",
       "    </tr>\n",
       "    <tr>\n",
       "      <th>9</th>\n",
       "      <td>5</td>\n",
       "      <td>True</td>\n",
       "      <td>01 29, 2018</td>\n",
       "      <td>A3MA15RJJ59OKG</td>\n",
       "      <td>0209688726</td>\n",
       "      <td>{'Color:': ' Black'}</td>\n",
       "      <td>Daryl S.</td>\n",
       "      <td>love it,works great ! wow !!</td>\n",
       "      <td>Five Stars</td>\n",
       "      <td>1517184000</td>\n",
       "      <td>NaN</td>\n",
       "      <td>NaN</td>\n",
       "    </tr>\n",
       "    <tr>\n",
       "      <th>10</th>\n",
       "      <td>2</td>\n",
       "      <td>True</td>\n",
       "      <td>01 21, 2018</td>\n",
       "      <td>A3MMUEDWT4ISC6</td>\n",
       "      <td>0209688726</td>\n",
       "      <td>{'Color:': ' Black'}</td>\n",
       "      <td>Michael Jones</td>\n",
       "      <td>Its just not as expected. Maby my expectations...</td>\n",
       "      <td>It works just not good enough. I give it 2 sta...</td>\n",
       "      <td>1516492800</td>\n",
       "      <td>NaN</td>\n",
       "      <td>NaN</td>\n",
       "    </tr>\n",
       "    <tr>\n",
       "      <th>11</th>\n",
       "      <td>3</td>\n",
       "      <td>True</td>\n",
       "      <td>01 14, 2018</td>\n",
       "      <td>A17NVKCLLV38X8</td>\n",
       "      <td>0209688726</td>\n",
       "      <td>{'Color:': ' Black'}</td>\n",
       "      <td>Amazon Customer</td>\n",
       "      <td>poor suction</td>\n",
       "      <td>Three Stars</td>\n",
       "      <td>1515888000</td>\n",
       "      <td>NaN</td>\n",
       "      <td>NaN</td>\n",
       "    </tr>\n",
       "    <tr>\n",
       "      <th>12</th>\n",
       "      <td>5</td>\n",
       "      <td>True</td>\n",
       "      <td>01 3, 2018</td>\n",
       "      <td>A2BXIIRN07VR2K</td>\n",
       "      <td>0209688726</td>\n",
       "      <td>{'Color:': ' Black'}</td>\n",
       "      <td>S. Francis</td>\n",
       "      <td>Powerful vacuum. Recommend.</td>\n",
       "      <td>Recommend.</td>\n",
       "      <td>1514937600</td>\n",
       "      <td>NaN</td>\n",
       "      <td>NaN</td>\n",
       "    </tr>\n",
       "    <tr>\n",
       "      <th>13</th>\n",
       "      <td>1</td>\n",
       "      <td>True</td>\n",
       "      <td>12 16, 2017</td>\n",
       "      <td>A3GVZ4AEHBLBU4</td>\n",
       "      <td>0209688726</td>\n",
       "      <td>{'Color:': ' Black'}</td>\n",
       "      <td>spirithing</td>\n",
       "      <td>Junk the lighter part fell apart out of the box</td>\n",
       "      <td>Junk I returned same day</td>\n",
       "      <td>1513382400</td>\n",
       "      <td>NaN</td>\n",
       "      <td>NaN</td>\n",
       "    </tr>\n",
       "    <tr>\n",
       "      <th>14</th>\n",
       "      <td>5</td>\n",
       "      <td>True</td>\n",
       "      <td>12 15, 2017</td>\n",
       "      <td>A1BCDK0T74640B</td>\n",
       "      <td>0209688726</td>\n",
       "      <td>{'Color:': ' Black'}</td>\n",
       "      <td>R.C.</td>\n",
       "      <td>Great vacuum, it really sucks!</td>\n",
       "      <td>Five Stars</td>\n",
       "      <td>1513296000</td>\n",
       "      <td>NaN</td>\n",
       "      <td>NaN</td>\n",
       "    </tr>\n",
       "  </tbody>\n",
       "</table>\n",
       "</div>"
      ],
      "text/plain": [
       "    overall  verified   reviewTime      reviewerID        asin  \\\n",
       "0         4     False   05 1, 2015   A8WEXFRWX1ZHH  0209688726   \n",
       "1         1      True  04 19, 2018   ABCA1A8E4DGV1  0209688726   \n",
       "2         1      True  04 16, 2018  A1NX8HM89FRQ32  0209688726   \n",
       "3         3      True  04 13, 2018  A1X77G023NY0KY  0209688726   \n",
       "4         5      True   04 8, 2018  A3GK37JO2MGW6Q  0209688726   \n",
       "5         5      True  03 24, 2018   AIY18YON1TWJJ  0209688726   \n",
       "6         3      True   03 4, 2018  A2MPTQ85HBBNG2  0209688726   \n",
       "7         2      True   03 1, 2018  A1SPIM9Y6HUUSH  0209688726   \n",
       "8         4      True  02 22, 2018  A1Q6FHU6DA643L  0209688726   \n",
       "9         5      True  01 29, 2018  A3MA15RJJ59OKG  0209688726   \n",
       "10        2      True  01 21, 2018  A3MMUEDWT4ISC6  0209688726   \n",
       "11        3      True  01 14, 2018  A17NVKCLLV38X8  0209688726   \n",
       "12        5      True   01 3, 2018  A2BXIIRN07VR2K  0209688726   \n",
       "13        1      True  12 16, 2017  A3GVZ4AEHBLBU4  0209688726   \n",
       "14        5      True  12 15, 2017  A1BCDK0T74640B  0209688726   \n",
       "\n",
       "                   style     reviewerName  \\\n",
       "0      {'Color:': ' AC'}       Goldengate   \n",
       "1    {'Color:': ' Blue'}              noe   \n",
       "2   {'Color:': ' Black'}           Eduard   \n",
       "3      {'Color:': ' CA'}           Lauren   \n",
       "4   {'Color:': ' Black'}            danny   \n",
       "5   {'Color:': ' Black'}         Karen H.   \n",
       "6   {'Color:': ' Black'}              Giv   \n",
       "7   {'Color:': ' Black'}  Frank W.Brodeur   \n",
       "8   {'Color:': ' Black'}          nutter1   \n",
       "9   {'Color:': ' Black'}         Daryl S.   \n",
       "10  {'Color:': ' Black'}    Michael Jones   \n",
       "11  {'Color:': ' Black'}  Amazon Customer   \n",
       "12  {'Color:': ' Black'}       S. Francis   \n",
       "13  {'Color:': ' Black'}       spirithing   \n",
       "14  {'Color:': ' Black'}             R.C.   \n",
       "\n",
       "                                           reviewText  \\\n",
       "0   After I wrote the below review, the manufactur...   \n",
       "1   It sucks barely picks up anything definitely n...   \n",
       "2   Well to write a short one, it blew 2 fuses of ...   \n",
       "3   I have absolutely no memory of buying this but...   \n",
       "4                                it ok it does it job   \n",
       "5   Have 3 big dogs. this have been great for my F...   \n",
       "6   Pros: Good attachments, nice long cord, can re...   \n",
       "7   I have a 2017 outback and everytime I try to u...   \n",
       "8             very good suction will see how it lasts   \n",
       "9                        love it,works great ! wow !!   \n",
       "10  Its just not as expected. Maby my expectations...   \n",
       "11                                       poor suction   \n",
       "12                        Powerful vacuum. Recommend.   \n",
       "13    Junk the lighter part fell apart out of the box   \n",
       "14                     Great vacuum, it really sucks!   \n",
       "\n",
       "                                              summary  unixReviewTime vote  \\\n",
       "0   Works well if you place phone in horizontally ...      1430438400  NaN   \n",
       "1                                               sucks      1524096000  NaN   \n",
       "2                                           Defective      1523836800  NaN   \n",
       "3                          Looks cool! Probably works      1523577600  NaN   \n",
       "4                                          Five Stars      1523145600  NaN   \n",
       "5    this have been great for my Ford transit connect      1521849600  NaN   \n",
       "6                                 Decent car vaccuum.      1520121600  NaN   \n",
       "7                                           Two Stars      1519862400  NaN   \n",
       "8                                          Four Stars      1519257600  NaN   \n",
       "9                                          Five Stars      1517184000  NaN   \n",
       "10  It works just not good enough. I give it 2 sta...      1516492800  NaN   \n",
       "11                                        Three Stars      1515888000  NaN   \n",
       "12                                         Recommend.      1514937600  NaN   \n",
       "13                           Junk I returned same day      1513382400  NaN   \n",
       "14                                         Five Stars      1513296000  NaN   \n",
       "\n",
       "   image  \n",
       "0    NaN  \n",
       "1    NaN  \n",
       "2    NaN  \n",
       "3    NaN  \n",
       "4    NaN  \n",
       "5    NaN  \n",
       "6    NaN  \n",
       "7    NaN  \n",
       "8    NaN  \n",
       "9    NaN  \n",
       "10   NaN  \n",
       "11   NaN  \n",
       "12   NaN  \n",
       "13   NaN  \n",
       "14   NaN  "
      ]
     },
     "metadata": {},
     "output_type": "display_data"
    }
   ],
   "source": [
    "display(reviews.head(15))"
   ]
  },
  {
   "cell_type": "markdown",
   "metadata": {},
   "source": [
    "## Análise e Limpeza dos Dados"
   ]
  },
  {
   "cell_type": "markdown",
   "metadata": {},
   "source": [
    "### Informações Gerais"
   ]
  },
  {
   "cell_type": "code",
   "execution_count": 6,
   "metadata": {},
   "outputs": [
    {
     "name": "stdout",
     "output_type": "stream",
     "text": [
      "Número de Linhas:  1711519\n",
      "Número de Colunas:  12\n"
     ]
    }
   ],
   "source": [
    "reviews.shape\n",
    "print(\"Número de Linhas: \", reviews.shape[0])\n",
    "print(\"Número de Colunas: \", reviews.shape[1])"
   ]
  },
  {
   "cell_type": "code",
   "execution_count": 7,
   "metadata": {},
   "outputs": [
    {
     "name": "stdout",
     "output_type": "stream",
     "text": [
      "Colunas com valores null: \n",
      " overall                 0\n",
      "verified                0\n",
      "reviewTime              0\n",
      "reviewerID              0\n",
      "asin                    0\n",
      "style             1118104\n",
      "reviewerName          140\n",
      "reviewText            866\n",
      "summary               342\n",
      "unixReviewTime          0\n",
      "vote              1520651\n",
      "image             1668825\n",
      "dtype: int64\n"
     ]
    }
   ],
   "source": [
    "print('Colunas com valores null: \\n',reviews.isnull().sum())"
   ]
  },
  {
   "cell_type": "code",
   "execution_count": 8,
   "metadata": {},
   "outputs": [
    {
     "data": {
      "text/html": [
       "<div>\n",
       "<style scoped>\n",
       "    .dataframe tbody tr th:only-of-type {\n",
       "        vertical-align: middle;\n",
       "    }\n",
       "\n",
       "    .dataframe tbody tr th {\n",
       "        vertical-align: top;\n",
       "    }\n",
       "\n",
       "    .dataframe thead th {\n",
       "        text-align: right;\n",
       "    }\n",
       "</style>\n",
       "<table border=\"1\" class=\"dataframe\">\n",
       "  <thead>\n",
       "    <tr style=\"text-align: right;\">\n",
       "      <th></th>\n",
       "      <th>overall</th>\n",
       "      <th>unixReviewTime</th>\n",
       "    </tr>\n",
       "  </thead>\n",
       "  <tbody>\n",
       "    <tr>\n",
       "      <th>count</th>\n",
       "      <td>1711519.000000</td>\n",
       "      <td>1711519.000000</td>\n",
       "    </tr>\n",
       "    <tr>\n",
       "      <th>mean</th>\n",
       "      <td>4.459656</td>\n",
       "      <td>1454262583.608596</td>\n",
       "    </tr>\n",
       "    <tr>\n",
       "      <th>std</th>\n",
       "      <td>1.055129</td>\n",
       "      <td>49138282.476415</td>\n",
       "    </tr>\n",
       "    <tr>\n",
       "      <th>min</th>\n",
       "      <td>1.000000</td>\n",
       "      <td>968889600.000000</td>\n",
       "    </tr>\n",
       "    <tr>\n",
       "      <th>25%</th>\n",
       "      <td>4.000000</td>\n",
       "      <td>1424908800.000000</td>\n",
       "    </tr>\n",
       "    <tr>\n",
       "      <th>50%</th>\n",
       "      <td>5.000000</td>\n",
       "      <td>1460678400.000000</td>\n",
       "    </tr>\n",
       "    <tr>\n",
       "      <th>75%</th>\n",
       "      <td>5.000000</td>\n",
       "      <td>1490659200.000000</td>\n",
       "    </tr>\n",
       "    <tr>\n",
       "      <th>max</th>\n",
       "      <td>5.000000</td>\n",
       "      <td>1538524800.000000</td>\n",
       "    </tr>\n",
       "  </tbody>\n",
       "</table>\n",
       "</div>"
      ],
      "text/plain": [
       "             overall    unixReviewTime\n",
       "count 1711519.000000    1711519.000000\n",
       "mean        4.459656 1454262583.608596\n",
       "std         1.055129   49138282.476415\n",
       "min         1.000000  968889600.000000\n",
       "25%         4.000000 1424908800.000000\n",
       "50%         5.000000 1460678400.000000\n",
       "75%         5.000000 1490659200.000000\n",
       "max         5.000000 1538524800.000000"
      ]
     },
     "execution_count": 8,
     "metadata": {},
     "output_type": "execute_result"
    }
   ],
   "source": [
    "reviews.describe()"
   ]
  },
  {
   "cell_type": "code",
   "execution_count": 9,
   "metadata": {},
   "outputs": [
    {
     "name": "stdout",
     "output_type": "stream",
     "text": [
      "<class 'pandas.core.frame.DataFrame'>\n",
      "RangeIndex: 1711519 entries, 0 to 1711518\n",
      "Data columns (total 12 columns):\n",
      " #   Column          Dtype \n",
      "---  ------          ----- \n",
      " 0   overall         int64 \n",
      " 1   verified        bool  \n",
      " 2   reviewTime      object\n",
      " 3   reviewerID      object\n",
      " 4   asin            object\n",
      " 5   style           object\n",
      " 6   reviewerName    object\n",
      " 7   reviewText      object\n",
      " 8   summary         object\n",
      " 9   unixReviewTime  int64 \n",
      " 10  vote            object\n",
      " 11  image           object\n",
      "dtypes: bool(1), int64(2), object(9)\n",
      "memory usage: 145.3+ MB\n"
     ]
    }
   ],
   "source": [
    "reviews.info()"
   ]
  },
  {
   "cell_type": "code",
   "execution_count": 10,
   "metadata": {},
   "outputs": [
    {
     "name": "stdout",
     "output_type": "stream",
     "text": [
      "Quantidade de Usuários:  193651\n",
      "Quantidade de Produtos:  79437\n"
     ]
    }
   ],
   "source": [
    "print('Quantidade de Usuários: ', reviews['reviewerID'].nunique())\n",
    "print('Quantidade de Produtos: ', reviews['asin'].nunique())"
   ]
  },
  {
   "cell_type": "markdown",
   "metadata": {},
   "source": [
    "#### Atributos que não serão utilizados"
   ]
  },
  {
   "cell_type": "code",
   "execution_count": 11,
   "metadata": {},
   "outputs": [],
   "source": [
    "reviews.drop(['reviewerName', 'reviewTime', 'unixReviewTime', 'style', 'verified', 'image' ], axis=1, inplace=True)"
   ]
  },
  {
   "cell_type": "markdown",
   "metadata": {},
   "source": [
    "#### Distribuição do número de avaliações por produto"
   ]
  },
  {
   "cell_type": "code",
   "execution_count": 14,
   "metadata": {},
   "outputs": [
    {
     "data": {
      "image/png": "[encoded data removed]",
      "text/plain": [
       "<Figure size 1000x500 with 1 Axes>"
      ]
     },
     "metadata": {},
     "output_type": "display_data"
    }
   ],
   "source": [
    "# import plotly.graph_objs as go\n",
    "# from plotly.offline import init_notebook_mode, plot, iplot\n",
    "import matplotlib.pyplot as plt\n",
    "import math\n",
    "\n",
    "distribution = reviews.groupby('asin')['overall'].count().clip(upper=200)\n",
    "distribution.hist(figsize=(10,5))\n",
    "plt.ylabel(\"Quantidade de Avaliações por produto, limitado para 200\")\n",
    "plt.xlabel(\"Count\")\n",
    "plt.show()"
   ]
  },
  {
   "cell_type": "markdown",
   "metadata": {},
   "source": [
    "#### Recuperando a média da avaliação e a quantidade de vezes que cada produto aparece"
   ]
  },
  {
   "cell_type": "markdown",
   "metadata": {},
   "source": [
    "Nós vamos utilizar o \"dfMerged\" para juntar todos os reviews de cada produto. Dessa forma, uma única tupla irá conter todas as palavras de reviews e descrição para cada produto, fazendo com que o KNN consiga avaliar a similaridade dessas palavras por produto. Note que as colunas que terminam em y representam a contagem de avaliações, reviews e votos. A última coluna representa a avaliação média daquele produto."
   ]
  },
  {
   "cell_type": "code",
   "execution_count": 15,
   "metadata": {},
   "outputs": [
    {
     "data": {
      "text/html": [
       "<div>\n",
       "<style scoped>\n",
       "    .dataframe tbody tr th:only-of-type {\n",
       "        vertical-align: middle;\n",
       "    }\n",
       "\n",
       "    .dataframe tbody tr th {\n",
       "        vertical-align: top;\n",
       "    }\n",
       "\n",
       "    .dataframe thead th {\n",
       "        text-align: right;\n",
       "    }\n",
       "</style>\n",
       "<table border=\"1\" class=\"dataframe\">\n",
       "  <thead>\n",
       "    <tr style=\"text-align: right;\">\n",
       "      <th></th>\n",
       "      <th>overall_x</th>\n",
       "      <th>reviewerID_x</th>\n",
       "      <th>asin</th>\n",
       "      <th>reviewText_x</th>\n",
       "      <th>summary_x</th>\n",
       "      <th>vote_x</th>\n",
       "      <th>overall_y</th>\n",
       "      <th>reviewerID_y</th>\n",
       "      <th>reviewText_y</th>\n",
       "      <th>summary_y</th>\n",
       "      <th>vote_y</th>\n",
       "      <th>overall</th>\n",
       "    </tr>\n",
       "  </thead>\n",
       "  <tbody>\n",
       "    <tr>\n",
       "      <th>0</th>\n",
       "      <td>4</td>\n",
       "      <td>A8WEXFRWX1ZHH</td>\n",
       "      <td>0209688726</td>\n",
       "      <td>After I wrote the below review, the manufactur...</td>\n",
       "      <td>Works well if you place phone in horizontally ...</td>\n",
       "      <td>NaN</td>\n",
       "      <td>71</td>\n",
       "      <td>71</td>\n",
       "      <td>71</td>\n",
       "      <td>71</td>\n",
       "      <td>11</td>\n",
       "      <td>4.042254</td>\n",
       "    </tr>\n",
       "    <tr>\n",
       "      <th>1</th>\n",
       "      <td>1</td>\n",
       "      <td>ABCA1A8E4DGV1</td>\n",
       "      <td>0209688726</td>\n",
       "      <td>It sucks barely picks up anything definitely n...</td>\n",
       "      <td>sucks</td>\n",
       "      <td>NaN</td>\n",
       "      <td>71</td>\n",
       "      <td>71</td>\n",
       "      <td>71</td>\n",
       "      <td>71</td>\n",
       "      <td>11</td>\n",
       "      <td>4.042254</td>\n",
       "    </tr>\n",
       "    <tr>\n",
       "      <th>2</th>\n",
       "      <td>1</td>\n",
       "      <td>A1NX8HM89FRQ32</td>\n",
       "      <td>0209688726</td>\n",
       "      <td>Well to write a short one, it blew 2 fuses of ...</td>\n",
       "      <td>Defective</td>\n",
       "      <td>NaN</td>\n",
       "      <td>71</td>\n",
       "      <td>71</td>\n",
       "      <td>71</td>\n",
       "      <td>71</td>\n",
       "      <td>11</td>\n",
       "      <td>4.042254</td>\n",
       "    </tr>\n",
       "    <tr>\n",
       "      <th>3</th>\n",
       "      <td>3</td>\n",
       "      <td>A1X77G023NY0KY</td>\n",
       "      <td>0209688726</td>\n",
       "      <td>I have absolutely no memory of buying this but...</td>\n",
       "      <td>Looks cool! Probably works</td>\n",
       "      <td>NaN</td>\n",
       "      <td>71</td>\n",
       "      <td>71</td>\n",
       "      <td>71</td>\n",
       "      <td>71</td>\n",
       "      <td>11</td>\n",
       "      <td>4.042254</td>\n",
       "    </tr>\n",
       "    <tr>\n",
       "      <th>4</th>\n",
       "      <td>5</td>\n",
       "      <td>A3GK37JO2MGW6Q</td>\n",
       "      <td>0209688726</td>\n",
       "      <td>it ok it does it job</td>\n",
       "      <td>Five Stars</td>\n",
       "      <td>NaN</td>\n",
       "      <td>71</td>\n",
       "      <td>71</td>\n",
       "      <td>71</td>\n",
       "      <td>71</td>\n",
       "      <td>11</td>\n",
       "      <td>4.042254</td>\n",
       "    </tr>\n",
       "    <tr>\n",
       "      <th>...</th>\n",
       "      <td>...</td>\n",
       "      <td>...</td>\n",
       "      <td>...</td>\n",
       "      <td>...</td>\n",
       "      <td>...</td>\n",
       "      <td>...</td>\n",
       "      <td>...</td>\n",
       "      <td>...</td>\n",
       "      <td>...</td>\n",
       "      <td>...</td>\n",
       "      <td>...</td>\n",
       "      <td>...</td>\n",
       "    </tr>\n",
       "    <tr>\n",
       "      <th>1711514</th>\n",
       "      <td>5</td>\n",
       "      <td>A73IGP6LB5WDM</td>\n",
       "      <td>B01HJI17Y8</td>\n",
       "      <td>A breeze to install, and brighter that OEM. Do...</td>\n",
       "      <td>An improvement.</td>\n",
       "      <td>NaN</td>\n",
       "      <td>8</td>\n",
       "      <td>8</td>\n",
       "      <td>8</td>\n",
       "      <td>8</td>\n",
       "      <td>0</td>\n",
       "      <td>4.500000</td>\n",
       "    </tr>\n",
       "    <tr>\n",
       "      <th>1711515</th>\n",
       "      <td>1</td>\n",
       "      <td>A261FYJ5MTGSUJ</td>\n",
       "      <td>B01HJI17Y8</td>\n",
       "      <td>They're not that bright, my regular halogen ar...</td>\n",
       "      <td>One Star</td>\n",
       "      <td>NaN</td>\n",
       "      <td>8</td>\n",
       "      <td>8</td>\n",
       "      <td>8</td>\n",
       "      <td>8</td>\n",
       "      <td>0</td>\n",
       "      <td>4.500000</td>\n",
       "    </tr>\n",
       "    <tr>\n",
       "      <th>1711516</th>\n",
       "      <td>5</td>\n",
       "      <td>A1PSKAPFER6BZW</td>\n",
       "      <td>B01HJI17Y8</td>\n",
       "      <td>Wow! So bright. I can see so much farther. Lig...</td>\n",
       "      <td>Drastically improves night vision.</td>\n",
       "      <td>NaN</td>\n",
       "      <td>8</td>\n",
       "      <td>8</td>\n",
       "      <td>8</td>\n",
       "      <td>8</td>\n",
       "      <td>0</td>\n",
       "      <td>4.500000</td>\n",
       "    </tr>\n",
       "    <tr>\n",
       "      <th>1711517</th>\n",
       "      <td>5</td>\n",
       "      <td>A1MJUNTX7CTR5U</td>\n",
       "      <td>B01HJI17Y8</td>\n",
       "      <td>Way better than stock. Nice bright and white. ...</td>\n",
       "      <td>NICE, BRIGHT AND WHITE</td>\n",
       "      <td>NaN</td>\n",
       "      <td>8</td>\n",
       "      <td>8</td>\n",
       "      <td>8</td>\n",
       "      <td>8</td>\n",
       "      <td>0</td>\n",
       "      <td>4.500000</td>\n",
       "    </tr>\n",
       "    <tr>\n",
       "      <th>1711518</th>\n",
       "      <td>5</td>\n",
       "      <td>AF67UV2T2TFWB</td>\n",
       "      <td>B01HJI17Y8</td>\n",
       "      <td>Great product fast shipping and awesome commun...</td>\n",
       "      <td>Five Stars</td>\n",
       "      <td>NaN</td>\n",
       "      <td>8</td>\n",
       "      <td>8</td>\n",
       "      <td>8</td>\n",
       "      <td>8</td>\n",
       "      <td>0</td>\n",
       "      <td>4.500000</td>\n",
       "    </tr>\n",
       "  </tbody>\n",
       "</table>\n",
       "<p>1711519 rows × 12 columns</p>\n",
       "</div>"
      ],
      "text/plain": [
       "         overall_x    reviewerID_x        asin  \\\n",
       "0                4   A8WEXFRWX1ZHH  0209688726   \n",
       "1                1   ABCA1A8E4DGV1  0209688726   \n",
       "2                1  A1NX8HM89FRQ32  0209688726   \n",
       "3                3  A1X77G023NY0KY  0209688726   \n",
       "4                5  A3GK37JO2MGW6Q  0209688726   \n",
       "...            ...             ...         ...   \n",
       "1711514          5   A73IGP6LB5WDM  B01HJI17Y8   \n",
       "1711515          1  A261FYJ5MTGSUJ  B01HJI17Y8   \n",
       "1711516          5  A1PSKAPFER6BZW  B01HJI17Y8   \n",
       "1711517          5  A1MJUNTX7CTR5U  B01HJI17Y8   \n",
       "1711518          5   AF67UV2T2TFWB  B01HJI17Y8   \n",
       "\n",
       "                                              reviewText_x  \\\n",
       "0        After I wrote the below review, the manufactur...   \n",
       "1        It sucks barely picks up anything definitely n...   \n",
       "2        Well to write a short one, it blew 2 fuses of ...   \n",
       "3        I have absolutely no memory of buying this but...   \n",
       "4                                     it ok it does it job   \n",
       "...                                                    ...   \n",
       "1711514  A breeze to install, and brighter that OEM. Do...   \n",
       "1711515  They're not that bright, my regular halogen ar...   \n",
       "1711516  Wow! So bright. I can see so much farther. Lig...   \n",
       "1711517  Way better than stock. Nice bright and white. ...   \n",
       "1711518  Great product fast shipping and awesome commun...   \n",
       "\n",
       "                                                 summary_x vote_x  overall_y  \\\n",
       "0        Works well if you place phone in horizontally ...    NaN         71   \n",
       "1                                                    sucks    NaN         71   \n",
       "2                                                Defective    NaN         71   \n",
       "3                               Looks cool! Probably works    NaN         71   \n",
       "4                                               Five Stars    NaN         71   \n",
       "...                                                    ...    ...        ...   \n",
       "1711514                                    An improvement.    NaN          8   \n",
       "1711515                                           One Star    NaN          8   \n",
       "1711516                 Drastically improves night vision.    NaN          8   \n",
       "1711517                             NICE, BRIGHT AND WHITE    NaN          8   \n",
       "1711518                                         Five Stars    NaN          8   \n",
       "\n",
       "         reviewerID_y  reviewText_y  summary_y  vote_y  overall  \n",
       "0                  71            71         71      11 4.042254  \n",
       "1                  71            71         71      11 4.042254  \n",
       "2                  71            71         71      11 4.042254  \n",
       "3                  71            71         71      11 4.042254  \n",
       "4                  71            71         71      11 4.042254  \n",
       "...               ...           ...        ...     ...      ...  \n",
       "1711514             8             8          8       0 4.500000  \n",
       "1711515             8             8          8       0 4.500000  \n",
       "1711516             8             8          8       0 4.500000  \n",
       "1711517             8             8          8       0 4.500000  \n",
       "1711518             8             8          8       0 4.500000  \n",
       "\n",
       "[1711519 rows x 12 columns]"
      ]
     },
     "execution_count": 15,
     "metadata": {},
     "output_type": "execute_result"
    }
   ],
   "source": [
    "count = reviews.groupby(\"asin\", as_index=False).count()\n",
    "mean = reviews.groupby(\"asin\", as_index=False).mean()\n",
    "\n",
    "dfMerged = pd.merge(reviews, count, how='right', on=['asin'])\n",
    "dfMerged = pd.merge(dfMerged, mean, how='right', on=['asin'])\n",
    "dfMerged"
   ]
  },
  {
   "cell_type": "markdown",
   "metadata": {},
   "source": [
    "#### Distribuição das avaliações \n",
    "\n",
    "Aqui é interessante notar que a grande maioria dos usuários avalia com mais frequência com nota 5 a sua review. Isso pode ser influenciado pela própria Amazon, que incentiva a avaliação por parte dos usuários e a nota 5 exige menos esforço (não é necessário apontar os defeitos). Seria interessante também avaliar a quantidade de reviews escrita por nota, para verificar se a nota 5 possui menos do que as demais."
   ]
  },
  {
   "cell_type": "code",
   "execution_count": 16,
   "metadata": {},
   "outputs": [
    {
     "data": {
      "image/png": "[encoded data removed]",
      "text/plain": [
       "<Figure size 1000x500 with 1 Axes>"
      ]
     },
     "metadata": {},
     "output_type": "display_data"
    }
   ],
   "source": [
    "data = dfMerged.rename(columns={'reviewerID_y': 'reviews_count', 'summary_x': 'product_summary', 'overall': 'avg_rating'})\n",
    "\n",
    "# antes do merge\n",
    "reviews['overall'].hist(bins=range(1,7), figsize=(10,5),  align='left', rwidth=0.7)\n",
    "plt.ylabel(\"Total of Ratings\")\n",
    "plt.xlabel(\"Ratings\")\n",
    "plt.show()\n",
    "\n",
    "\n",
    "# # depois do merge\n",
    "# data['rating'].hist(bins=50, figsize=(10,5),  align='left')\n",
    "# plt.ylabel(\"Average Rating\")\n",
    "# plt.xlabel(\"Ratings\")\n",
    "# plt.show()"
   ]
  },
  {
   "cell_type": "markdown",
   "metadata": {},
   "source": [
    "## Aplicação dos Métodos de Recomendação"
   ]
  },
  {
   "cell_type": "markdown",
   "metadata": {},
   "source": [
    "### 1. Collaborative Filtering com SVD (Singular Value Decomposition)"
   ]
  },
  {
   "cell_type": "markdown",
   "metadata": {},
   "source": [
    "#### Separando apenas o ID do usuário, o ID do produto e a nota\n",
    "Apenas estes atributos de interesse serão utilizados."
   ]
  },
  {
   "cell_type": "code",
   "execution_count": 68,
   "metadata": {},
   "outputs": [
    {
     "data": {
      "text/plain": [
       "(799644, 3)"
      ]
     },
     "execution_count": 68,
     "metadata": {},
     "output_type": "execute_result"
    }
   ],
   "source": [
    "data_svd = dfMerged[['reviewerID_x', 'asin', 'overall_x', 'overall_y']]\n",
    "data_svd = data_svd.rename(columns={'reviewerID_x': 'user_id', 'asin': 'product_id', 'overall_x': 'rating', 'overall_y': 'reviews_count'})\n",
    "data_svd = data_svd[data_svd.reviews_count > 50] # Filtrando apenas para os produtos avaliados mais de 50 vezes\n",
    "data_svd = data_svd[['user_id', 'product_id', 'rating']]"
   ]
  },
  {
   "cell_type": "markdown",
   "metadata": {},
   "source": [
    "#### Aplicação do Modelo"
   ]
  },
  {
   "cell_type": "code",
   "execution_count": 69,
   "metadata": {},
   "outputs": [],
   "source": [
    "from surprise import Reader, Dataset\n",
    "from surprise.model_selection import KFold\n",
    "\n",
    "reader = Reader(rating_scale=(1, 5))\n",
    "data = Dataset.load_from_df(data_svd, reader=reader)\n",
    "\n",
    "kfold = KFold()"
   ]
  },
  {
   "cell_type": "code",
   "execution_count": 70,
   "metadata": {},
   "outputs": [
    {
     "name": "stdout",
     "output_type": "stream",
     "text": [
      "RMSE: 0.9341352761284922\n",
      "MAE: 0.633522290107731\n"
     ]
    }
   ],
   "source": [
    "from surprise import SVD\n",
    "from surprise.model_selection import cross_validate\n",
    "import numpy as np\n",
    "\n",
    "svd = SVD()\n",
    "resultados = cross_validate(svd, data, measures=['rmse', 'mae'], cv=kfold, return_train_measures=True)\n",
    "print(\"RMSE:\", resultados['test_rmse'].mean())\n",
    "print(\"MAE:\", resultados['test_mae'].mean())"
   ]
  },
  {
   "cell_type": "markdown",
   "metadata": {},
   "source": [
    "#### Tuning de hiperparâmetros"
   ]
  },
  {
   "cell_type": "code",
   "execution_count": 66,
   "metadata": {},
   "outputs": [
    {
     "ename": "KeyboardInterrupt",
     "evalue": "",
     "output_type": "error",
     "traceback": [
      "\u001b[1;31m---------------------------------------------------------------------------\u001b[0m",
      "\u001b[1;31mKeyboardInterrupt\u001b[0m                         Traceback (most recent call last)",
      "Cell \u001b[1;32mIn [66], line 8\u001b[0m\n\u001b[0;32m      3\u001b[0m param_grid \u001b[38;5;241m=\u001b[39m { \n\u001b[0;32m      4\u001b[0m     \u001b[38;5;124m'\u001b[39m\u001b[38;5;124mn_factors\u001b[39m\u001b[38;5;124m'\u001b[39m: [\u001b[38;5;241m60\u001b[39m, \u001b[38;5;241m70\u001b[39m, \u001b[38;5;241m80\u001b[39m, \u001b[38;5;241m90\u001b[39m, \u001b[38;5;241m100\u001b[39m],\n\u001b[0;32m      5\u001b[0m }\n\u001b[0;32m      7\u001b[0m gs_svd \u001b[38;5;241m=\u001b[39m GridSearchCV(SVD, param_grid\u001b[38;5;241m=\u001b[39mparam_grid, cv\u001b[38;5;241m=\u001b[39mkfold) \u001b[38;5;66;03m# Grid Search SVD\u001b[39;00m\n\u001b[1;32m----> 8\u001b[0m \u001b[43mgs_svd\u001b[49m\u001b[38;5;241;43m.\u001b[39;49m\u001b[43mfit\u001b[49m\u001b[43m(\u001b[49m\u001b[43mdata\u001b[49m\u001b[43m)\u001b[49m\n\u001b[0;32m      9\u001b[0m gs_svd\u001b[38;5;241m.\u001b[39mbest_params\n",
      "File \u001b[1;32mc:\\users\\marianabarreto\\appdata\\local\\programs\\python\\python39\\lib\\site-packages\\surprise\\model_selection\\search.py:104\u001b[0m, in \u001b[0;36mBaseSearchCV.fit\u001b[1;34m(self, data)\u001b[0m\n\u001b[0;32m     90\u001b[0m cv \u001b[38;5;241m=\u001b[39m get_cv(\u001b[38;5;28mself\u001b[39m\u001b[38;5;241m.\u001b[39mcv)\n\u001b[0;32m     92\u001b[0m delayed_list \u001b[38;5;241m=\u001b[39m (\n\u001b[0;32m     93\u001b[0m     delayed(fit_and_score)(\n\u001b[0;32m     94\u001b[0m         \u001b[38;5;28mself\u001b[39m\u001b[38;5;241m.\u001b[39malgo_class(\u001b[38;5;241m*\u001b[39m\u001b[38;5;241m*\u001b[39mparams),\n\u001b[1;32m   (...)\u001b[0m\n\u001b[0;32m    102\u001b[0m     )\n\u001b[0;32m    103\u001b[0m )\n\u001b[1;32m--> 104\u001b[0m out \u001b[38;5;241m=\u001b[39m \u001b[43mParallel\u001b[49m\u001b[43m(\u001b[49m\n\u001b[0;32m    105\u001b[0m \u001b[43m    \u001b[49m\u001b[43mn_jobs\u001b[49m\u001b[38;5;241;43m=\u001b[39;49m\u001b[38;5;28;43mself\u001b[39;49m\u001b[38;5;241;43m.\u001b[39;49m\u001b[43mn_jobs\u001b[49m\u001b[43m,\u001b[49m\n\u001b[0;32m    106\u001b[0m \u001b[43m    \u001b[49m\u001b[43mpre_dispatch\u001b[49m\u001b[38;5;241;43m=\u001b[39;49m\u001b[38;5;28;43mself\u001b[39;49m\u001b[38;5;241;43m.\u001b[39;49m\u001b[43mpre_dispatch\u001b[49m\u001b[43m,\u001b[49m\n\u001b[0;32m    107\u001b[0m \u001b[43m    \u001b[49m\u001b[43mverbose\u001b[49m\u001b[38;5;241;43m=\u001b[39;49m\u001b[38;5;28;43mself\u001b[39;49m\u001b[38;5;241;43m.\u001b[39;49m\u001b[43mjoblib_verbose\u001b[49m\u001b[43m,\u001b[49m\n\u001b[0;32m    108\u001b[0m \u001b[43m\u001b[49m\u001b[43m)\u001b[49m\u001b[43m(\u001b[49m\u001b[43mdelayed_list\u001b[49m\u001b[43m)\u001b[49m\n\u001b[0;32m    110\u001b[0m (test_measures_dicts, train_measures_dicts, fit_times, test_times) \u001b[38;5;241m=\u001b[39m \u001b[38;5;28mzip\u001b[39m(\u001b[38;5;241m*\u001b[39mout)\n\u001b[0;32m    112\u001b[0m \u001b[38;5;66;03m# test_measures_dicts is a list of dict like this:\u001b[39;00m\n\u001b[0;32m    113\u001b[0m \u001b[38;5;66;03m# [{'mae': 1, 'rmse': 2}, {'mae': 2, 'rmse': 3} ...]\u001b[39;00m\n\u001b[0;32m    114\u001b[0m \u001b[38;5;66;03m# E.g. for 5 splits, the first 5 dicts are for the first param\u001b[39;00m\n\u001b[1;32m   (...)\u001b[0m\n\u001b[0;32m    121\u001b[0m \u001b[38;5;66;03m# (n_parameters_combinations, n_splits). This way we can easily compute\u001b[39;00m\n\u001b[0;32m    122\u001b[0m \u001b[38;5;66;03m# the mean and std dev over all splits or over all param comb.\u001b[39;00m\n",
      "File \u001b[1;32mc:\\users\\marianabarreto\\appdata\\local\\programs\\python\\python39\\lib\\site-packages\\joblib\\parallel.py:1088\u001b[0m, in \u001b[0;36mParallel.__call__\u001b[1;34m(self, iterable)\u001b[0m\n\u001b[0;32m   1085\u001b[0m \u001b[38;5;28;01mif\u001b[39;00m \u001b[38;5;28mself\u001b[39m\u001b[38;5;241m.\u001b[39mdispatch_one_batch(iterator):\n\u001b[0;32m   1086\u001b[0m     \u001b[38;5;28mself\u001b[39m\u001b[38;5;241m.\u001b[39m_iterating \u001b[38;5;241m=\u001b[39m \u001b[38;5;28mself\u001b[39m\u001b[38;5;241m.\u001b[39m_original_iterator \u001b[38;5;129;01mis\u001b[39;00m \u001b[38;5;129;01mnot\u001b[39;00m \u001b[38;5;28;01mNone\u001b[39;00m\n\u001b[1;32m-> 1088\u001b[0m \u001b[38;5;28;01mwhile\u001b[39;00m \u001b[38;5;28;43mself\u001b[39;49m\u001b[38;5;241;43m.\u001b[39;49m\u001b[43mdispatch_one_batch\u001b[49m\u001b[43m(\u001b[49m\u001b[43miterator\u001b[49m\u001b[43m)\u001b[49m:\n\u001b[0;32m   1089\u001b[0m     \u001b[38;5;28;01mpass\u001b[39;00m\n\u001b[0;32m   1091\u001b[0m \u001b[38;5;28;01mif\u001b[39;00m pre_dispatch \u001b[38;5;241m==\u001b[39m \u001b[38;5;124m\"\u001b[39m\u001b[38;5;124mall\u001b[39m\u001b[38;5;124m\"\u001b[39m \u001b[38;5;129;01mor\u001b[39;00m n_jobs \u001b[38;5;241m==\u001b[39m \u001b[38;5;241m1\u001b[39m:\n\u001b[0;32m   1092\u001b[0m     \u001b[38;5;66;03m# The iterable was consumed all at once by the above for loop.\u001b[39;00m\n\u001b[0;32m   1093\u001b[0m     \u001b[38;5;66;03m# No need to wait for async callbacks to trigger to\u001b[39;00m\n\u001b[0;32m   1094\u001b[0m     \u001b[38;5;66;03m# consumption.\u001b[39;00m\n",
      "File \u001b[1;32mc:\\users\\marianabarreto\\appdata\\local\\programs\\python\\python39\\lib\\site-packages\\joblib\\parallel.py:901\u001b[0m, in \u001b[0;36mParallel.dispatch_one_batch\u001b[1;34m(self, iterator)\u001b[0m\n\u001b[0;32m    899\u001b[0m     \u001b[38;5;28;01mreturn\u001b[39;00m \u001b[38;5;28;01mFalse\u001b[39;00m\n\u001b[0;32m    900\u001b[0m \u001b[38;5;28;01melse\u001b[39;00m:\n\u001b[1;32m--> 901\u001b[0m     \u001b[38;5;28;43mself\u001b[39;49m\u001b[38;5;241;43m.\u001b[39;49m\u001b[43m_dispatch\u001b[49m\u001b[43m(\u001b[49m\u001b[43mtasks\u001b[49m\u001b[43m)\u001b[49m\n\u001b[0;32m    902\u001b[0m     \u001b[38;5;28;01mreturn\u001b[39;00m \u001b[38;5;28;01mTrue\u001b[39;00m\n",
      "File \u001b[1;32mc:\\users\\marianabarreto\\appdata\\local\\programs\\python\\python39\\lib\\site-packages\\joblib\\parallel.py:819\u001b[0m, in \u001b[0;36mParallel._dispatch\u001b[1;34m(self, batch)\u001b[0m\n\u001b[0;32m    817\u001b[0m \u001b[38;5;28;01mwith\u001b[39;00m \u001b[38;5;28mself\u001b[39m\u001b[38;5;241m.\u001b[39m_lock:\n\u001b[0;32m    818\u001b[0m     job_idx \u001b[38;5;241m=\u001b[39m \u001b[38;5;28mlen\u001b[39m(\u001b[38;5;28mself\u001b[39m\u001b[38;5;241m.\u001b[39m_jobs)\n\u001b[1;32m--> 819\u001b[0m     job \u001b[38;5;241m=\u001b[39m \u001b[38;5;28;43mself\u001b[39;49m\u001b[38;5;241;43m.\u001b[39;49m\u001b[43m_backend\u001b[49m\u001b[38;5;241;43m.\u001b[39;49m\u001b[43mapply_async\u001b[49m\u001b[43m(\u001b[49m\u001b[43mbatch\u001b[49m\u001b[43m,\u001b[49m\u001b[43m \u001b[49m\u001b[43mcallback\u001b[49m\u001b[38;5;241;43m=\u001b[39;49m\u001b[43mcb\u001b[49m\u001b[43m)\u001b[49m\n\u001b[0;32m    820\u001b[0m     \u001b[38;5;66;03m# A job can complete so quickly than its callback is\u001b[39;00m\n\u001b[0;32m    821\u001b[0m     \u001b[38;5;66;03m# called before we get here, causing self._jobs to\u001b[39;00m\n\u001b[0;32m    822\u001b[0m     \u001b[38;5;66;03m# grow. To ensure correct results ordering, .insert is\u001b[39;00m\n\u001b[0;32m    823\u001b[0m     \u001b[38;5;66;03m# used (rather than .append) in the following line\u001b[39;00m\n\u001b[0;32m    824\u001b[0m     \u001b[38;5;28mself\u001b[39m\u001b[38;5;241m.\u001b[39m_jobs\u001b[38;5;241m.\u001b[39minsert(job_idx, job)\n",
      "File \u001b[1;32mc:\\users\\marianabarreto\\appdata\\local\\programs\\python\\python39\\lib\\site-packages\\joblib\\_parallel_backends.py:208\u001b[0m, in \u001b[0;36mSequentialBackend.apply_async\u001b[1;34m(self, func, callback)\u001b[0m\n\u001b[0;32m    206\u001b[0m \u001b[38;5;28;01mdef\u001b[39;00m \u001b[38;5;21mapply_async\u001b[39m(\u001b[38;5;28mself\u001b[39m, func, callback\u001b[38;5;241m=\u001b[39m\u001b[38;5;28;01mNone\u001b[39;00m):\n\u001b[0;32m    207\u001b[0m     \u001b[38;5;124;03m\"\"\"Schedule a func to be run\"\"\"\u001b[39;00m\n\u001b[1;32m--> 208\u001b[0m     result \u001b[38;5;241m=\u001b[39m \u001b[43mImmediateResult\u001b[49m\u001b[43m(\u001b[49m\u001b[43mfunc\u001b[49m\u001b[43m)\u001b[49m\n\u001b[0;32m    209\u001b[0m     \u001b[38;5;28;01mif\u001b[39;00m callback:\n\u001b[0;32m    210\u001b[0m         callback(result)\n",
      "File \u001b[1;32mc:\\users\\marianabarreto\\appdata\\local\\programs\\python\\python39\\lib\\site-packages\\joblib\\_parallel_backends.py:597\u001b[0m, in \u001b[0;36mImmediateResult.__init__\u001b[1;34m(self, batch)\u001b[0m\n\u001b[0;32m    594\u001b[0m \u001b[38;5;28;01mdef\u001b[39;00m \u001b[38;5;21m__init__\u001b[39m(\u001b[38;5;28mself\u001b[39m, batch):\n\u001b[0;32m    595\u001b[0m     \u001b[38;5;66;03m# Don't delay the application, to avoid keeping the input\u001b[39;00m\n\u001b[0;32m    596\u001b[0m     \u001b[38;5;66;03m# arguments in memory\u001b[39;00m\n\u001b[1;32m--> 597\u001b[0m     \u001b[38;5;28mself\u001b[39m\u001b[38;5;241m.\u001b[39mresults \u001b[38;5;241m=\u001b[39m \u001b[43mbatch\u001b[49m\u001b[43m(\u001b[49m\u001b[43m)\u001b[49m\n",
      "File \u001b[1;32mc:\\users\\marianabarreto\\appdata\\local\\programs\\python\\python39\\lib\\site-packages\\joblib\\parallel.py:288\u001b[0m, in \u001b[0;36mBatchedCalls.__call__\u001b[1;34m(self)\u001b[0m\n\u001b[0;32m    284\u001b[0m \u001b[38;5;28;01mdef\u001b[39;00m \u001b[38;5;21m__call__\u001b[39m(\u001b[38;5;28mself\u001b[39m):\n\u001b[0;32m    285\u001b[0m     \u001b[38;5;66;03m# Set the default nested backend to self._backend but do not set the\u001b[39;00m\n\u001b[0;32m    286\u001b[0m     \u001b[38;5;66;03m# change the default number of processes to -1\u001b[39;00m\n\u001b[0;32m    287\u001b[0m     \u001b[38;5;28;01mwith\u001b[39;00m parallel_backend(\u001b[38;5;28mself\u001b[39m\u001b[38;5;241m.\u001b[39m_backend, n_jobs\u001b[38;5;241m=\u001b[39m\u001b[38;5;28mself\u001b[39m\u001b[38;5;241m.\u001b[39m_n_jobs):\n\u001b[1;32m--> 288\u001b[0m         \u001b[38;5;28;01mreturn\u001b[39;00m [func(\u001b[38;5;241m*\u001b[39margs, \u001b[38;5;241m*\u001b[39m\u001b[38;5;241m*\u001b[39mkwargs)\n\u001b[0;32m    289\u001b[0m                 \u001b[38;5;28;01mfor\u001b[39;00m func, args, kwargs \u001b[38;5;129;01min\u001b[39;00m \u001b[38;5;28mself\u001b[39m\u001b[38;5;241m.\u001b[39mitems]\n",
      "File \u001b[1;32mc:\\users\\marianabarreto\\appdata\\local\\programs\\python\\python39\\lib\\site-packages\\joblib\\parallel.py:288\u001b[0m, in \u001b[0;36m<listcomp>\u001b[1;34m(.0)\u001b[0m\n\u001b[0;32m    284\u001b[0m \u001b[38;5;28;01mdef\u001b[39;00m \u001b[38;5;21m__call__\u001b[39m(\u001b[38;5;28mself\u001b[39m):\n\u001b[0;32m    285\u001b[0m     \u001b[38;5;66;03m# Set the default nested backend to self._backend but do not set the\u001b[39;00m\n\u001b[0;32m    286\u001b[0m     \u001b[38;5;66;03m# change the default number of processes to -1\u001b[39;00m\n\u001b[0;32m    287\u001b[0m     \u001b[38;5;28;01mwith\u001b[39;00m parallel_backend(\u001b[38;5;28mself\u001b[39m\u001b[38;5;241m.\u001b[39m_backend, n_jobs\u001b[38;5;241m=\u001b[39m\u001b[38;5;28mself\u001b[39m\u001b[38;5;241m.\u001b[39m_n_jobs):\n\u001b[1;32m--> 288\u001b[0m         \u001b[38;5;28;01mreturn\u001b[39;00m [func(\u001b[38;5;241m*\u001b[39margs, \u001b[38;5;241m*\u001b[39m\u001b[38;5;241m*\u001b[39mkwargs)\n\u001b[0;32m    289\u001b[0m                 \u001b[38;5;28;01mfor\u001b[39;00m func, args, kwargs \u001b[38;5;129;01min\u001b[39;00m \u001b[38;5;28mself\u001b[39m\u001b[38;5;241m.\u001b[39mitems]\n",
      "File \u001b[1;32mc:\\users\\marianabarreto\\appdata\\local\\programs\\python\\python39\\lib\\site-packages\\surprise\\model_selection\\validation.py:173\u001b[0m, in \u001b[0;36mfit_and_score\u001b[1;34m(algo, trainset, testset, measures, return_train_measures)\u001b[0m\n\u001b[0;32m    142\u001b[0m \u001b[38;5;124;03m\"\"\"Helper method that trains an algorithm and compute accuracy measures on\u001b[39;00m\n\u001b[0;32m    143\u001b[0m \u001b[38;5;124;03ma testset. Also report train and test times.\u001b[39;00m\n\u001b[0;32m    144\u001b[0m \n\u001b[1;32m   (...)\u001b[0m\n\u001b[0;32m    169\u001b[0m \u001b[38;5;124;03m        - The testing time in seconds.\u001b[39;00m\n\u001b[0;32m    170\u001b[0m \u001b[38;5;124;03m\"\"\"\u001b[39;00m\n\u001b[0;32m    172\u001b[0m start_fit \u001b[38;5;241m=\u001b[39m time\u001b[38;5;241m.\u001b[39mtime()\n\u001b[1;32m--> 173\u001b[0m \u001b[43malgo\u001b[49m\u001b[38;5;241;43m.\u001b[39;49m\u001b[43mfit\u001b[49m\u001b[43m(\u001b[49m\u001b[43mtrainset\u001b[49m\u001b[43m)\u001b[49m\n\u001b[0;32m    174\u001b[0m fit_time \u001b[38;5;241m=\u001b[39m time\u001b[38;5;241m.\u001b[39mtime() \u001b[38;5;241m-\u001b[39m start_fit\n\u001b[0;32m    175\u001b[0m start_test \u001b[38;5;241m=\u001b[39m time\u001b[38;5;241m.\u001b[39mtime()\n",
      "File \u001b[1;32mc:\\users\\marianabarreto\\appdata\\local\\programs\\python\\python39\\lib\\site-packages\\surprise\\prediction_algorithms\\matrix_factorization.pyx:155\u001b[0m, in \u001b[0;36msurprise.prediction_algorithms.matrix_factorization.SVD.fit\u001b[1;34m()\u001b[0m\n",
      "File \u001b[1;32mc:\\users\\marianabarreto\\appdata\\local\\programs\\python\\python39\\lib\\site-packages\\surprise\\prediction_algorithms\\matrix_factorization.pyx:209\u001b[0m, in \u001b[0;36msurprise.prediction_algorithms.matrix_factorization.SVD.sgd\u001b[1;34m()\u001b[0m\n",
      "File \u001b[1;32mc:\\users\\marianabarreto\\appdata\\local\\programs\\python\\python39\\lib\\site-packages\\surprise\\trainset.py:260\u001b[0m, in \u001b[0;36mTrainset.global_mean\u001b[1;34m(self)\u001b[0m\n\u001b[0;32m    253\u001b[0m     \u001b[38;5;124;03m\"\"\"Generator function to iterate over all items.\u001b[39;00m\n\u001b[0;32m    254\u001b[0m \n\u001b[0;32m    255\u001b[0m \u001b[38;5;124;03m    Yields:\u001b[39;00m\n\u001b[0;32m    256\u001b[0m \u001b[38;5;124;03m        Inner id of items.\u001b[39;00m\n\u001b[0;32m    257\u001b[0m \u001b[38;5;124;03m    \"\"\"\u001b[39;00m\n\u001b[0;32m    258\u001b[0m     \u001b[38;5;28;01mreturn\u001b[39;00m \u001b[38;5;28mrange\u001b[39m(\u001b[38;5;28mself\u001b[39m\u001b[38;5;241m.\u001b[39mn_items)\n\u001b[1;32m--> 260\u001b[0m \u001b[38;5;129m@property\u001b[39m\n\u001b[0;32m    261\u001b[0m \u001b[38;5;28;01mdef\u001b[39;00m \u001b[38;5;21mglobal_mean\u001b[39m(\u001b[38;5;28mself\u001b[39m):\n\u001b[0;32m    262\u001b[0m     \u001b[38;5;28;01mif\u001b[39;00m \u001b[38;5;28mself\u001b[39m\u001b[38;5;241m.\u001b[39m_global_mean \u001b[38;5;129;01mis\u001b[39;00m \u001b[38;5;28;01mNone\u001b[39;00m:\n\u001b[0;32m    263\u001b[0m         \u001b[38;5;28mself\u001b[39m\u001b[38;5;241m.\u001b[39m_global_mean \u001b[38;5;241m=\u001b[39m np\u001b[38;5;241m.\u001b[39mmean([r \u001b[38;5;28;01mfor\u001b[39;00m (_, _, r) \u001b[38;5;129;01min\u001b[39;00m \u001b[38;5;28mself\u001b[39m\u001b[38;5;241m.\u001b[39mall_ratings()])\n",
      "\u001b[1;31mKeyboardInterrupt\u001b[0m: "
     ]
    }
   ],
   "source": [
    "from surprise.model_selection.search import GridSearchCV\n",
    "\n",
    "param_grid = { \n",
    "    'n_factors': [60, 70, 80, 90, 100],\n",
    "}\n",
    "\n",
    "gs_svd = GridSearchCV(SVD, param_grid=param_grid, cv=kfold) # Grid Search SVD\n",
    "gs_svd.fit(data)\n",
    "gs_svd.best_params"
   ]
  },
  {
   "cell_type": "code",
   "execution_count": null,
   "metadata": {},
   "outputs": [],
   "source": [
    "tuned_svd = SVD(n_factors=gs_svd.best_params['rmse']['n_factors'])\n",
    "resultados = cross_validate(tuned_svd, data, measures=['rmse', 'mae'], cv=kfold, return_train_measures=True)\n",
    "print(\"RMSE:\", resultados['test_rmse'].mean())\n",
    "print(\"MAE:\", resultados['test_mae'].mean())"
   ]
  },
  {
   "cell_type": "markdown",
   "metadata": {},
   "source": [
    "### 2. KNN - Utilizando palavras para recomendação"
   ]
  },
  {
   "cell_type": "markdown",
   "metadata": {},
   "source": [
    "Os textos primeiro tem que ser tratados para depois conseguir utilizar o KNN. É importante notar que foram utilizados apenas produtos com mais de 100 reviews. Caso contrário, a matriz seria esparsa demais e isso iria afetar significativamente o desempenho do sistema de recomendação."
   ]
  },
  {
   "cell_type": "code",
   "execution_count": null,
   "metadata": {},
   "outputs": [],
   "source": [
    "dfMerged\n",
    "\n",
    "dfNew = dfMerged[['asin','summary_x','overall',\"overall_y\"]]\n",
    "dfNew = dfNew.rename(columns={'overall_y': 'reviewsCount', 'summary_x': 'summary', 'overall': 'rating'})\n",
    "\n",
    "# Filtrando apenas para mais de 100 reviews\n",
    "dfNew = dfNew[dfNew.reviewsCount >= 100]\n",
    "\n",
    "dfNew"
   ]
  },
  {
   "cell_type": "code",
   "execution_count": null,
   "metadata": {},
   "outputs": [],
   "source": [
    "dfProductReview = reviews.groupby(\"asin\", as_index=False).mean()\n",
    "ProductReviewSummary = dfNew.groupby(\"asin\")[\"summary\"].apply(list)\n",
    "ProductReviewSummary = pd.DataFrame(ProductReviewSummary)\n",
    "\n",
    "ProductReviewSummary"
   ]
  },
  {
   "cell_type": "code",
   "execution_count": null,
   "metadata": {},
   "outputs": [],
   "source": [
    "dfProductReview = pd.merge(ProductReviewSummary, dfProductReview, on=\"asin\", how='inner')\n",
    "\n",
    "dfProductReview "
   ]
  },
  {
   "cell_type": "markdown",
   "metadata": {},
   "source": [
    "#### Limpando texto"
   ]
  },
  {
   "cell_type": "code",
   "execution_count": null,
   "metadata": {},
   "outputs": [],
   "source": [
    "import re\n",
    "def cleanReviews(reviewList):\n",
    "    reviewsText = ''\n",
    "    for review in reviewList:\n",
    "        if not type(review) == str:\n",
    "            continue\n",
    "        r= re.sub(r'[^a-zA-Z ]', '', review)\n",
    "        r = r.lower()\n",
    "        reviewsText += r + ' '\n",
    "    return reviewsText[:len(reviewsText)-1]"
   ]
  },
  {
   "cell_type": "code",
   "execution_count": null,
   "metadata": {},
   "outputs": [],
   "source": [
    "dfProductReview[\"summaryAll\"] = dfProductReview[\"summary\"].apply(cleanReviews)\n",
    "dfProductReview = dfProductReview.drop_duplicates(['overall'], keep='last')\n",
    "dfProductReview = dfProductReview.reset_index()\n",
    "\n",
    "dfProductReview"
   ]
  },
  {
   "cell_type": "code",
   "execution_count": null,
   "metadata": {},
   "outputs": [],
   "source": [
    "from sklearn.feature_extraction.text import CountVectorizer, TfidfTransformer\n",
    "from pandas import DataFrame \n",
    "\n",
    "allReviews = dfProductReview[\"summaryAll\"] \n",
    "# utilizando countVector do sklearn para transformar as palavras em vetores, selecionando apenas as 500 palavras mais frequentes\n",
    "countVector = CountVectorizer(max_features = 500, stop_words='english') \n",
    "transformedReviews = countVector.fit_transform(allReviews) \n",
    "dfReviews = DataFrame(transformedReviews.A, columns=countVector.get_feature_names_out())\n",
    "dfReviews = dfReviews.astype(int)\n",
    "\n",
    "dfReviews"
   ]
  },
  {
   "cell_type": "markdown",
   "metadata": {},
   "source": [
    "#### Criando train test"
   ]
  },
  {
   "cell_type": "code",
   "execution_count": null,
   "metadata": {},
   "outputs": [],
   "source": [
    "train_data, test_data = train_test_split(dfReviews, test_size=0.2)\n",
    "\n",
    "train_data = train_data.to_numpy()\n",
    "test_data = test_data.to_numpy()\n"
   ]
  },
  {
   "cell_type": "markdown",
   "metadata": {},
   "source": [
    "#### Aplicação do Modelo"
   ]
  },
  {
   "cell_type": "code",
   "execution_count": null,
   "metadata": {},
   "outputs": [],
   "source": [
    "from surprise import KNNBasic\n",
    "from sklearn.neighbors import NearestNeighbors\n",
    "from sklearn import neighbors\n",
    "from sklearn.metrics import classification_report\n",
    "from sklearn.metrics import accuracy_score\n",
    "\n",
    "neighbor = NearestNeighbors(n_neighbors=3, algorithm='ball_tree').fit(train_data)\n",
    "distances, indices = neighbor.kneighbors(train_data)"
   ]
  },
  {
   "cell_type": "markdown",
   "metadata": {},
   "source": [
    "#### Exemplo de produto relacionado"
   ]
  },
  {
   "cell_type": "code",
   "execution_count": null,
   "metadata": {},
   "outputs": [],
   "source": [
    "vizinhos = neighbor.kneighbors([train_data[0]])\n",
    "relacionados = vizinhos[1]\n",
    "prim = relacionados[0][0]\n",
    "\n",
    "print(\"Produto: \", dfProductReview[\"asin\"][train_data.shape[0] + 0], \"produto mais relacionado: \",dfProductReview[\"asin\"][prim])\n"
   ]
  },
  {
   "cell_type": "markdown",
   "metadata": {},
   "source": [
    "#### Predição do rating do produto"
   ]
  },
  {
   "cell_type": "code",
   "execution_count": null,
   "metadata": {},
   "outputs": [],
   "source": [
    "train_target, test_target = train_test_split(dfProductReview['overall'], test_size=0.2)\n",
    "# colocando os valores de train e test como inteiros pois o rating é inteiro\n",
    "train_target = train_target.astype(int)\n",
    "test_target = test_target.astype(int)\n",
    "\n",
    "knn = neighbors.KNeighborsClassifier(3, weights='distance')\n",
    "knn.fit(train_data, train_target)\n",
    "knnpredict = knn.predict(test_data)\n",
    "\n",
    "print(classification_report(test_target, knnpredict))"
   ]
  },
  {
   "cell_type": "markdown",
   "metadata": {},
   "source": [
    "#### Precisão do modelo"
   ]
  },
  {
   "cell_type": "code",
   "execution_count": null,
   "metadata": {},
   "outputs": [],
   "source": [
    "accuracy_score(test_target, knnpredict)"
   ]
  },
  {
   "cell_type": "markdown",
   "metadata": {},
   "source": [
    "#### MSE do modelo"
   ]
  },
  {
   "cell_type": "code",
   "execution_count": null,
   "metadata": {},
   "outputs": [],
   "source": [
    "from sklearn.metrics import mean_squared_error\n",
    "mean_squared_error(test_target, knnpredict)"
   ]
  },
  {
   "cell_type": "code",
   "execution_count": null,
   "metadata": {},
   "outputs": [],
   "source": [
    "# kk = 40\n",
    "# algo = KNNBasic(k = kk, verbose = True)\n",
    "# cv = cross_validate(algo, datas, measures = ['RMSE', 'MAE'], cv = 5, verbose = True)"
   ]
  }
 ],
 "metadata": {
  "kernelspec": {
   "display_name": "Python 3 (ipykernel)",
   "language": "python",
   "name": "python3"
  },
  "language_info": {
   "codemirror_mode": {
    "name": "ipython",
    "version": 3
   },
   "file_extension": ".py",
   "mimetype": "text/x-python",
   "name": "python",
   "nbconvert_exporter": "python",
   "pygments_lexer": "ipython3",
   "version": "3.9.1"
  },
  "vscode": {
   "interpreter": {
    "hash": "b7175ea596b0e890ecad86ec68ea0c05380b51b685ba7441448326694beef3a1"
   }
  }
 },
 "nbformat": 4,
 "nbformat_minor": 2
}
