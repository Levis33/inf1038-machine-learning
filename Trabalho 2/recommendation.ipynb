{
 "cells": [
  {
   "attachments": {},
   "cell_type": "markdown",
   "metadata": {},
   "source": [
    "## Modelo de recomendação Amazon Fashion"
   ]
  },
  {
   "cell_type": "code",
   "execution_count": 113,
   "metadata": {},
   "outputs": [],
   "source": [
    "import pandas as pd\n",
    "import matplotlib.pyplot as plt\n",
    "import seaborn as sns\n",
    "import seaborn as sns\n",
    "import numpy as np\n",
    "import sklearn as sklearn\n",
    "\n",
    "pd.set_option('float_format', '{:f}'.format)\n",
    "\n",
    "reviews = pd.read_json('Automotive_5.json', lines = True)\n",
    "\n",
    "display(reviews.head(15))\n",
    "\n",
    "# reviewerID - ID of the reviewer, e.g. A2SUAM1J3GNN3B\n",
    "# asin - ID of the product, e.g. 0000013714\n",
    "# reviewerName - name of the reviewer\n",
    "# vote - helpful votes of the review\n",
    "# style - a disctionary of the product metadata, e.g., \"Format\" is \"Hardcover\"\n",
    "# reviewText - text of the review\n",
    "# overall - rating of the product\n",
    "# summary - summary of the review\n",
    "# unixReviewTime - time of the review (unix time)\n",
    "# reviewTime - time of the review (raw)\n",
    "# image - images that users post after they have received the product"
   ]
  },
  {
   "cell_type": "code",
   "execution_count": null,
   "metadata": {},
   "outputs": [
    {
     "data": {
      "text/plain": [
       "(1711519, 12)"
      ]
     },
     "execution_count": 64,
     "metadata": {},
     "output_type": "execute_result"
    }
   ],
   "source": [
    "reviews.shape"
   ]
  },
  {
   "cell_type": "code",
   "execution_count": null,
   "metadata": {},
   "outputs": [
    {
     "name": "stdout",
     "output_type": "stream",
     "text": [
      "Colunas com valores null: \n",
      " overall                 0\n",
      "verified                0\n",
      "reviewTime              0\n",
      "reviewerID              0\n",
      "asin                    0\n",
      "style             1118104\n",
      "reviewerName          140\n",
      "reviewText            866\n",
      "summary               342\n",
      "unixReviewTime          0\n",
      "vote              1520651\n",
      "image             1668825\n",
      "dtype: int64\n"
     ]
    }
   ],
   "source": [
    "print('Colunas com valores null: \\n',reviews.isnull().sum())"
   ]
  },
  {
   "cell_type": "code",
   "execution_count": null,
   "metadata": {},
   "outputs": [
    {
     "data": {
      "text/html": [
       "<div>\n",
       "<style scoped>\n",
       "    .dataframe tbody tr th:only-of-type {\n",
       "        vertical-align: middle;\n",
       "    }\n",
       "\n",
       "    .dataframe tbody tr th {\n",
       "        vertical-align: top;\n",
       "    }\n",
       "\n",
       "    .dataframe thead th {\n",
       "        text-align: right;\n",
       "    }\n",
       "</style>\n",
       "<table border=\"1\" class=\"dataframe\">\n",
       "  <thead>\n",
       "    <tr style=\"text-align: right;\">\n",
       "      <th></th>\n",
       "      <th>overall</th>\n",
       "      <th>unixReviewTime</th>\n",
       "    </tr>\n",
       "  </thead>\n",
       "  <tbody>\n",
       "    <tr>\n",
       "      <th>count</th>\n",
       "      <td>1711519.000000</td>\n",
       "      <td>1711519.000000</td>\n",
       "    </tr>\n",
       "    <tr>\n",
       "      <th>mean</th>\n",
       "      <td>4.459656</td>\n",
       "      <td>1454262583.608596</td>\n",
       "    </tr>\n",
       "    <tr>\n",
       "      <th>std</th>\n",
       "      <td>1.055129</td>\n",
       "      <td>49138282.476421</td>\n",
       "    </tr>\n",
       "    <tr>\n",
       "      <th>min</th>\n",
       "      <td>1.000000</td>\n",
       "      <td>968889600.000000</td>\n",
       "    </tr>\n",
       "    <tr>\n",
       "      <th>25%</th>\n",
       "      <td>4.000000</td>\n",
       "      <td>1424908800.000000</td>\n",
       "    </tr>\n",
       "    <tr>\n",
       "      <th>50%</th>\n",
       "      <td>5.000000</td>\n",
       "      <td>1460678400.000000</td>\n",
       "    </tr>\n",
       "    <tr>\n",
       "      <th>75%</th>\n",
       "      <td>5.000000</td>\n",
       "      <td>1490659200.000000</td>\n",
       "    </tr>\n",
       "    <tr>\n",
       "      <th>max</th>\n",
       "      <td>5.000000</td>\n",
       "      <td>1538524800.000000</td>\n",
       "    </tr>\n",
       "  </tbody>\n",
       "</table>\n",
       "</div>"
      ],
      "text/plain": [
       "             overall    unixReviewTime\n",
       "count 1711519.000000    1711519.000000\n",
       "mean        4.459656 1454262583.608596\n",
       "std         1.055129   49138282.476421\n",
       "min         1.000000  968889600.000000\n",
       "25%         4.000000 1424908800.000000\n",
       "50%         5.000000 1460678400.000000\n",
       "75%         5.000000 1490659200.000000\n",
       "max         5.000000 1538524800.000000"
      ]
     },
     "execution_count": 66,
     "metadata": {},
     "output_type": "execute_result"
    }
   ],
   "source": [
    "reviews.describe()"
   ]
  },
  {
   "cell_type": "code",
   "execution_count": null,
   "metadata": {},
   "outputs": [
    {
     "name": "stdout",
     "output_type": "stream",
     "text": [
      "<class 'pandas.core.frame.DataFrame'>\n",
      "RangeIndex: 1711519 entries, 0 to 1711518\n",
      "Data columns (total 12 columns):\n",
      " #   Column          Dtype \n",
      "---  ------          ----- \n",
      " 0   overall         int64 \n",
      " 1   verified        bool  \n",
      " 2   reviewTime      object\n",
      " 3   reviewerID      object\n",
      " 4   asin            object\n",
      " 5   style           object\n",
      " 6   reviewerName    object\n",
      " 7   reviewText      object\n",
      " 8   summary         object\n",
      " 9   unixReviewTime  int64 \n",
      " 10  vote            object\n",
      " 11  image           object\n",
      "dtypes: bool(1), int64(2), object(9)\n",
      "memory usage: 145.3+ MB\n"
     ]
    }
   ],
   "source": [
    "reviews.info()"
   ]
  },
  {
   "attachments": {},
   "cell_type": "markdown",
   "metadata": {},
   "source": [
    "#### vendo informacoes de total de usuarios, produtos"
   ]
  },
  {
   "cell_type": "code",
   "execution_count": null,
   "metadata": {},
   "outputs": [
    {
     "name": "stdout",
     "output_type": "stream",
     "text": [
      "usuarios:  193651\n",
      "produtos:  79437\n"
     ]
    }
   ],
   "source": [
    "print('usuarios: ', reviews['reviewerID'].nunique())\n",
    "print('produtos: ', reviews['asin'].nunique())"
   ]
  },
  {
   "attachments": {},
   "cell_type": "markdown",
   "metadata": {},
   "source": [
    "#### tirando informacoes que nao vao ser uteis"
   ]
  },
  {
   "cell_type": "code",
   "execution_count": null,
   "metadata": {},
   "outputs": [],
   "source": [
    "reviews.drop(['reviewerName', 'reviewTime', 'unixReviewTime', 'style', 'verified', 'image' ], axis=1, inplace=True)"
   ]
  },
  {
   "attachments": {},
   "cell_type": "markdown",
   "metadata": {},
   "source": [
    "#### destribuição de avaliações por produto"
   ]
  },
  {
   "cell_type": "code",
   "execution_count": null,
   "metadata": {},
   "outputs": [
    {
     "data": {
      "image/png": "[encoded data removed]",
      "text/plain": [
       "<Figure size 720x360 with 1 Axes>"
      ]
     },
     "metadata": {
      "needs_background": "light"
     },
     "output_type": "display_data"
    }
   ],
   "source": [
    "import plotly.graph_objs as go\n",
    "from plotly.offline import init_notebook_mode, plot, iplot\n",
    "import matplotlib.pyplot as plt\n",
    "import math\n",
    "\n",
    "distribution = reviews.groupby('asin')['overall'].count().clip(upper=200)\n",
    "distribution.hist(figsize=(10,5))\n",
    "plt.ylabel(\"Quantidade de Avaliações por produto, limitado para 200\")\n",
    "plt.xlabel(\"Count\")\n",
    "plt.show()"
   ]
  },
  {
   "attachments": {},
   "cell_type": "markdown",
   "metadata": {},
   "source": [
    "#### pegando a media da avaliacao e a quantidade de vezes que cada produto aparece"
   ]
  },
  {
   "attachments": {},
   "cell_type": "markdown",
   "metadata": {},
   "source": [
    "##### vamos usar esse dfMerged para juntar todos os reviews de cada produto, assim podemos identificar todas as palavras do review de cada produto (isso ta mais na frente no KNN)"
   ]
  },
  {
   "cell_type": "code",
   "execution_count": null,
   "metadata": {},
   "outputs": [
    {
     "data": {
      "text/html": [
       "<div>\n",
       "<style scoped>\n",
       "    .dataframe tbody tr th:only-of-type {\n",
       "        vertical-align: middle;\n",
       "    }\n",
       "\n",
       "    .dataframe tbody tr th {\n",
       "        vertical-align: top;\n",
       "    }\n",
       "\n",
       "    .dataframe thead th {\n",
       "        text-align: right;\n",
       "    }\n",
       "</style>\n",
       "<table border=\"1\" class=\"dataframe\">\n",
       "  <thead>\n",
       "    <tr style=\"text-align: right;\">\n",
       "      <th></th>\n",
       "      <th>overall_x</th>\n",
       "      <th>reviewerID_x</th>\n",
       "      <th>asin</th>\n",
       "      <th>reviewText_x</th>\n",
       "      <th>summary_x</th>\n",
       "      <th>vote_x</th>\n",
       "      <th>overall_y</th>\n",
       "      <th>reviewerID_y</th>\n",
       "      <th>reviewText_y</th>\n",
       "      <th>summary_y</th>\n",
       "      <th>vote_y</th>\n",
       "      <th>overall</th>\n",
       "    </tr>\n",
       "  </thead>\n",
       "  <tbody>\n",
       "    <tr>\n",
       "      <th>0</th>\n",
       "      <td>4</td>\n",
       "      <td>A8WEXFRWX1ZHH</td>\n",
       "      <td>0209688726</td>\n",
       "      <td>After I wrote the below review, the manufactur...</td>\n",
       "      <td>Works well if you place phone in horizontally ...</td>\n",
       "      <td>NaN</td>\n",
       "      <td>71</td>\n",
       "      <td>71</td>\n",
       "      <td>71</td>\n",
       "      <td>71</td>\n",
       "      <td>11</td>\n",
       "      <td>4.042254</td>\n",
       "    </tr>\n",
       "    <tr>\n",
       "      <th>1</th>\n",
       "      <td>1</td>\n",
       "      <td>ABCA1A8E4DGV1</td>\n",
       "      <td>0209688726</td>\n",
       "      <td>It sucks barely picks up anything definitely n...</td>\n",
       "      <td>sucks</td>\n",
       "      <td>NaN</td>\n",
       "      <td>71</td>\n",
       "      <td>71</td>\n",
       "      <td>71</td>\n",
       "      <td>71</td>\n",
       "      <td>11</td>\n",
       "      <td>4.042254</td>\n",
       "    </tr>\n",
       "    <tr>\n",
       "      <th>2</th>\n",
       "      <td>1</td>\n",
       "      <td>A1NX8HM89FRQ32</td>\n",
       "      <td>0209688726</td>\n",
       "      <td>Well to write a short one, it blew 2 fuses of ...</td>\n",
       "      <td>Defective</td>\n",
       "      <td>NaN</td>\n",
       "      <td>71</td>\n",
       "      <td>71</td>\n",
       "      <td>71</td>\n",
       "      <td>71</td>\n",
       "      <td>11</td>\n",
       "      <td>4.042254</td>\n",
       "    </tr>\n",
       "    <tr>\n",
       "      <th>3</th>\n",
       "      <td>3</td>\n",
       "      <td>A1X77G023NY0KY</td>\n",
       "      <td>0209688726</td>\n",
       "      <td>I have absolutely no memory of buying this but...</td>\n",
       "      <td>Looks cool! Probably works</td>\n",
       "      <td>NaN</td>\n",
       "      <td>71</td>\n",
       "      <td>71</td>\n",
       "      <td>71</td>\n",
       "      <td>71</td>\n",
       "      <td>11</td>\n",
       "      <td>4.042254</td>\n",
       "    </tr>\n",
       "    <tr>\n",
       "      <th>4</th>\n",
       "      <td>5</td>\n",
       "      <td>A3GK37JO2MGW6Q</td>\n",
       "      <td>0209688726</td>\n",
       "      <td>it ok it does it job</td>\n",
       "      <td>Five Stars</td>\n",
       "      <td>NaN</td>\n",
       "      <td>71</td>\n",
       "      <td>71</td>\n",
       "      <td>71</td>\n",
       "      <td>71</td>\n",
       "      <td>11</td>\n",
       "      <td>4.042254</td>\n",
       "    </tr>\n",
       "    <tr>\n",
       "      <th>...</th>\n",
       "      <td>...</td>\n",
       "      <td>...</td>\n",
       "      <td>...</td>\n",
       "      <td>...</td>\n",
       "      <td>...</td>\n",
       "      <td>...</td>\n",
       "      <td>...</td>\n",
       "      <td>...</td>\n",
       "      <td>...</td>\n",
       "      <td>...</td>\n",
       "      <td>...</td>\n",
       "      <td>...</td>\n",
       "    </tr>\n",
       "    <tr>\n",
       "      <th>1711514</th>\n",
       "      <td>5</td>\n",
       "      <td>A73IGP6LB5WDM</td>\n",
       "      <td>B01HJI17Y8</td>\n",
       "      <td>A breeze to install, and brighter that OEM. Do...</td>\n",
       "      <td>An improvement.</td>\n",
       "      <td>NaN</td>\n",
       "      <td>8</td>\n",
       "      <td>8</td>\n",
       "      <td>8</td>\n",
       "      <td>8</td>\n",
       "      <td>0</td>\n",
       "      <td>4.500000</td>\n",
       "    </tr>\n",
       "    <tr>\n",
       "      <th>1711515</th>\n",
       "      <td>1</td>\n",
       "      <td>A261FYJ5MTGSUJ</td>\n",
       "      <td>B01HJI17Y8</td>\n",
       "      <td>They're not that bright, my regular halogen ar...</td>\n",
       "      <td>One Star</td>\n",
       "      <td>NaN</td>\n",
       "      <td>8</td>\n",
       "      <td>8</td>\n",
       "      <td>8</td>\n",
       "      <td>8</td>\n",
       "      <td>0</td>\n",
       "      <td>4.500000</td>\n",
       "    </tr>\n",
       "    <tr>\n",
       "      <th>1711516</th>\n",
       "      <td>5</td>\n",
       "      <td>A1PSKAPFER6BZW</td>\n",
       "      <td>B01HJI17Y8</td>\n",
       "      <td>Wow! So bright. I can see so much farther. Lig...</td>\n",
       "      <td>Drastically improves night vision.</td>\n",
       "      <td>NaN</td>\n",
       "      <td>8</td>\n",
       "      <td>8</td>\n",
       "      <td>8</td>\n",
       "      <td>8</td>\n",
       "      <td>0</td>\n",
       "      <td>4.500000</td>\n",
       "    </tr>\n",
       "    <tr>\n",
       "      <th>1711517</th>\n",
       "      <td>5</td>\n",
       "      <td>A1MJUNTX7CTR5U</td>\n",
       "      <td>B01HJI17Y8</td>\n",
       "      <td>Way better than stock. Nice bright and white. ...</td>\n",
       "      <td>NICE, BRIGHT AND WHITE</td>\n",
       "      <td>NaN</td>\n",
       "      <td>8</td>\n",
       "      <td>8</td>\n",
       "      <td>8</td>\n",
       "      <td>8</td>\n",
       "      <td>0</td>\n",
       "      <td>4.500000</td>\n",
       "    </tr>\n",
       "    <tr>\n",
       "      <th>1711518</th>\n",
       "      <td>5</td>\n",
       "      <td>AF67UV2T2TFWB</td>\n",
       "      <td>B01HJI17Y8</td>\n",
       "      <td>Great product fast shipping and awesome commun...</td>\n",
       "      <td>Five Stars</td>\n",
       "      <td>NaN</td>\n",
       "      <td>8</td>\n",
       "      <td>8</td>\n",
       "      <td>8</td>\n",
       "      <td>8</td>\n",
       "      <td>0</td>\n",
       "      <td>4.500000</td>\n",
       "    </tr>\n",
       "  </tbody>\n",
       "</table>\n",
       "<p>1711519 rows × 12 columns</p>\n",
       "</div>"
      ],
      "text/plain": [
       "         overall_x    reviewerID_x        asin  \\\n",
       "0                4   A8WEXFRWX1ZHH  0209688726   \n",
       "1                1   ABCA1A8E4DGV1  0209688726   \n",
       "2                1  A1NX8HM89FRQ32  0209688726   \n",
       "3                3  A1X77G023NY0KY  0209688726   \n",
       "4                5  A3GK37JO2MGW6Q  0209688726   \n",
       "...            ...             ...         ...   \n",
       "1711514          5   A73IGP6LB5WDM  B01HJI17Y8   \n",
       "1711515          1  A261FYJ5MTGSUJ  B01HJI17Y8   \n",
       "1711516          5  A1PSKAPFER6BZW  B01HJI17Y8   \n",
       "1711517          5  A1MJUNTX7CTR5U  B01HJI17Y8   \n",
       "1711518          5   AF67UV2T2TFWB  B01HJI17Y8   \n",
       "\n",
       "                                              reviewText_x  \\\n",
       "0        After I wrote the below review, the manufactur...   \n",
       "1        It sucks barely picks up anything definitely n...   \n",
       "2        Well to write a short one, it blew 2 fuses of ...   \n",
       "3        I have absolutely no memory of buying this but...   \n",
       "4                                     it ok it does it job   \n",
       "...                                                    ...   \n",
       "1711514  A breeze to install, and brighter that OEM. Do...   \n",
       "1711515  They're not that bright, my regular halogen ar...   \n",
       "1711516  Wow! So bright. I can see so much farther. Lig...   \n",
       "1711517  Way better than stock. Nice bright and white. ...   \n",
       "1711518  Great product fast shipping and awesome commun...   \n",
       "\n",
       "                                                 summary_x vote_x  overall_y  \\\n",
       "0        Works well if you place phone in horizontally ...    NaN         71   \n",
       "1                                                    sucks    NaN         71   \n",
       "2                                                Defective    NaN         71   \n",
       "3                               Looks cool! Probably works    NaN         71   \n",
       "4                                               Five Stars    NaN         71   \n",
       "...                                                    ...    ...        ...   \n",
       "1711514                                    An improvement.    NaN          8   \n",
       "1711515                                           One Star    NaN          8   \n",
       "1711516                 Drastically improves night vision.    NaN          8   \n",
       "1711517                             NICE, BRIGHT AND WHITE    NaN          8   \n",
       "1711518                                         Five Stars    NaN          8   \n",
       "\n",
       "         reviewerID_y  reviewText_y  summary_y  vote_y  overall  \n",
       "0                  71            71         71      11 4.042254  \n",
       "1                  71            71         71      11 4.042254  \n",
       "2                  71            71         71      11 4.042254  \n",
       "3                  71            71         71      11 4.042254  \n",
       "4                  71            71         71      11 4.042254  \n",
       "...               ...           ...        ...     ...      ...  \n",
       "1711514             8             8          8       0 4.500000  \n",
       "1711515             8             8          8       0 4.500000  \n",
       "1711516             8             8          8       0 4.500000  \n",
       "1711517             8             8          8       0 4.500000  \n",
       "1711518             8             8          8       0 4.500000  \n",
       "\n",
       "[1711519 rows x 12 columns]"
      ]
     },
     "execution_count": 71,
     "metadata": {},
     "output_type": "execute_result"
    }
   ],
   "source": [
    "count = reviews.groupby(\"asin\", as_index=False).count()\n",
    "mean = reviews.groupby(\"asin\", as_index=False).mean()\n",
    "\n",
    "dfMerged = pd.merge(reviews, count, how='right', on=['asin'])\n",
    "dfMerged = pd.merge(dfMerged, mean, how='right', on=['asin'])\n",
    "dfMerged\n"
   ]
  },
  {
   "attachments": {},
   "cell_type": "markdown",
   "metadata": {},
   "source": [
    "#### Separando apenas o codigo do produto a media da nota e quantidade de reviews, vai ser usado no SVD"
   ]
  },
  {
   "cell_type": "code",
   "execution_count": null,
   "metadata": {},
   "outputs": [
    {
     "data": {
      "text/html": [
       "<div>\n",
       "<style scoped>\n",
       "    .dataframe tbody tr th:only-of-type {\n",
       "        vertical-align: middle;\n",
       "    }\n",
       "\n",
       "    .dataframe tbody tr th {\n",
       "        vertical-align: top;\n",
       "    }\n",
       "\n",
       "    .dataframe thead th {\n",
       "        text-align: right;\n",
       "    }\n",
       "</style>\n",
       "<table border=\"1\" class=\"dataframe\">\n",
       "  <thead>\n",
       "    <tr style=\"text-align: right;\">\n",
       "      <th></th>\n",
       "      <th>asin</th>\n",
       "      <th>rating</th>\n",
       "      <th>reviewsCount</th>\n",
       "    </tr>\n",
       "  </thead>\n",
       "  <tbody>\n",
       "    <tr>\n",
       "      <th>0</th>\n",
       "      <td>0209688726</td>\n",
       "      <td>4.042254</td>\n",
       "      <td>71</td>\n",
       "    </tr>\n",
       "    <tr>\n",
       "      <th>71</th>\n",
       "      <td>085696588X</td>\n",
       "      <td>4.750000</td>\n",
       "      <td>8</td>\n",
       "    </tr>\n",
       "    <tr>\n",
       "      <th>79</th>\n",
       "      <td>0857339583</td>\n",
       "      <td>4.583333</td>\n",
       "      <td>12</td>\n",
       "    </tr>\n",
       "    <tr>\n",
       "      <th>91</th>\n",
       "      <td>0983270139</td>\n",
       "      <td>4.666667</td>\n",
       "      <td>6</td>\n",
       "    </tr>\n",
       "    <tr>\n",
       "      <th>97</th>\n",
       "      <td>0983270163</td>\n",
       "      <td>5.000000</td>\n",
       "      <td>6</td>\n",
       "    </tr>\n",
       "    <tr>\n",
       "      <th>...</th>\n",
       "      <td>...</td>\n",
       "      <td>...</td>\n",
       "      <td>...</td>\n",
       "    </tr>\n",
       "    <tr>\n",
       "      <th>1711451</th>\n",
       "      <td>B01HJ85Q3Q</td>\n",
       "      <td>4.676471</td>\n",
       "      <td>34</td>\n",
       "    </tr>\n",
       "    <tr>\n",
       "      <th>1711485</th>\n",
       "      <td>B01HJCWQPS</td>\n",
       "      <td>3.200000</td>\n",
       "      <td>5</td>\n",
       "    </tr>\n",
       "    <tr>\n",
       "      <th>1711490</th>\n",
       "      <td>B01HJFDJ8S</td>\n",
       "      <td>4.307692</td>\n",
       "      <td>13</td>\n",
       "    </tr>\n",
       "    <tr>\n",
       "      <th>1711503</th>\n",
       "      <td>B01HJGNOV4</td>\n",
       "      <td>4.625000</td>\n",
       "      <td>8</td>\n",
       "    </tr>\n",
       "    <tr>\n",
       "      <th>1711511</th>\n",
       "      <td>B01HJI17Y8</td>\n",
       "      <td>4.500000</td>\n",
       "      <td>8</td>\n",
       "    </tr>\n",
       "  </tbody>\n",
       "</table>\n",
       "<p>79437 rows × 3 columns</p>\n",
       "</div>"
      ],
      "text/plain": [
       "               asin   rating  reviewsCount\n",
       "0        0209688726 4.042254            71\n",
       "71       085696588X 4.750000             8\n",
       "79       0857339583 4.583333            12\n",
       "91       0983270139 4.666667             6\n",
       "97       0983270163 5.000000             6\n",
       "...             ...      ...           ...\n",
       "1711451  B01HJ85Q3Q 4.676471            34\n",
       "1711485  B01HJCWQPS 3.200000             5\n",
       "1711490  B01HJFDJ8S 4.307692            13\n",
       "1711503  B01HJGNOV4 4.625000             8\n",
       "1711511  B01HJI17Y8 4.500000             8\n",
       "\n",
       "[79437 rows x 3 columns]"
      ]
     },
     "execution_count": 72,
     "metadata": {},
     "output_type": "execute_result"
    }
   ],
   "source": [
    "data = dfMerged[['asin', 'overall', 'reviewerID_y', 'summary_x']]\n",
    "\n",
    "data = data.rename(columns={'reviewerID_y': 'reviewsCount', 'summary_x': 'summary', 'overall': 'rating'})\n",
    "\n",
    "data.drop(['summary' ], axis=1, inplace=True)\n",
    "\n",
    "data = data.drop_duplicates(subset=['asin'], keep='first')\n",
    "\n",
    "data.reset_index()\n",
    "\n",
    "data"
   ]
  },
  {
   "attachments": {},
   "cell_type": "markdown",
   "metadata": {},
   "source": [
    "#### Distribuição das avaliações "
   ]
  },
  {
   "cell_type": "code",
   "execution_count": null,
   "metadata": {},
   "outputs": [
    {
     "data": {
      "image/png": "[encoded data removed]",
      "text/plain": [
       "<Figure size 720x360 with 1 Axes>"
      ]
     },
     "metadata": {
      "needs_background": "light"
     },
     "output_type": "display_data"
    },
    {
     "data": {
      "image/png": "[encoded data removed]",
      "text/plain": [
       "<Figure size 720x360 with 1 Axes>"
      ]
     },
     "metadata": {
      "needs_background": "light"
     },
     "output_type": "display_data"
    }
   ],
   "source": [
    "# antes do merge\n",
    "reviews['overall'].hist(bins=range(1,7), figsize=(10,5),  align='left', rwidth=0.7)\n",
    "plt.ylabel(\"Total of Ratings\")\n",
    "plt.xlabel(\"Ratings\")\n",
    "plt.show()\n",
    "\n",
    "\n",
    "# depois do merge\n",
    "data['rating'].hist(bins=50, figsize=(10,5),  align='left')\n",
    "plt.ylabel(\"Total of Ratings\")\n",
    "plt.xlabel(\"Ratings\")\n",
    "plt.show()"
   ]
  },
  {
   "attachments": {},
   "cell_type": "markdown",
   "metadata": {},
   "source": [
    "#### Existem varios metodos de recomendacao popularidade, nota, similaridade, etc entao vamos selecionar algumas e analisar"
   ]
  },
  {
   "attachments": {},
   "cell_type": "markdown",
   "metadata": {},
   "source": [
    "#### 1. Utilizando SVD para analise"
   ]
  },
  {
   "cell_type": "code",
   "execution_count": null,
   "metadata": {},
   "outputs": [
    {
     "name": "stdout",
     "output_type": "stream",
     "text": [
      "train size:  (1283639, 3)\n",
      "test size:  (427880, 3)\n"
     ]
    }
   ],
   "source": [
    "from sklearn.model_selection import train_test_split\n",
    "train_data, test_data = train_test_split(reviews[['reviewerID', 'asin', 'overall']], test_size=0.25)\n",
    "print(\"train size: \", train_data.shape)\n",
    "print(\"test size: \", test_data.shape)"
   ]
  },
  {
   "attachments": {},
   "cell_type": "markdown",
   "metadata": {},
   "source": [
    "#### Utilizando a biblioteca scikit-surprise"
   ]
  },
  {
   "cell_type": "code",
   "execution_count": null,
   "metadata": {},
   "outputs": [],
   "source": [
    "# pip install scikit-surprise\n",
    "from surprise import Reader\n",
    "from surprise import Dataset\n",
    "from surprise import accuracy\n",
    "from surprise import SVD\n",
    "from surprise.model_selection import cross_validate\n",
    "\n",
    "algo = SVD()\n",
    "reader = Reader(rating_scale=(1, 5))\n",
    "\n",
    "data_train = Dataset.load_from_df(train_data, reader=reader)\n",
    "data_test = Dataset.load_from_df(test_data, reader=reader)\n",
    "\n",
    "# dataset = Dataset.load_from_df(data, reader=reader)\n",
    "# cross_validate(algo, dataset, measures=['RMSE', 'MAE'], cv=5, verbose=True)"
   ]
  },
  {
   "cell_type": "code",
   "execution_count": null,
   "metadata": {},
   "outputs": [],
   "source": [
    "data_train = data_train.build_full_trainset()\n",
    "data_test = data_test.build_full_trainset()"
   ]
  },
  {
   "attachments": {},
   "cell_type": "markdown",
   "metadata": {},
   "source": [
    "#### Comparando os valores do train e test"
   ]
  },
  {
   "cell_type": "code",
   "execution_count": null,
   "metadata": {},
   "outputs": [
    {
     "name": "stdout",
     "output_type": "stream",
     "text": [
      "Train rating 4.458614143072936\n"
     ]
    }
   ],
   "source": [
    "mean = data_train.global_mean\n",
    "print('Train rating', mean)"
   ]
  },
  {
   "cell_type": "code",
   "execution_count": null,
   "metadata": {},
   "outputs": [
    {
     "name": "stdout",
     "output_type": "stream",
     "text": [
      "Test rating 4.462781621015238\n"
     ]
    }
   ],
   "source": [
    "mean = data_test.global_mean\n",
    "print('Test rating', mean)"
   ]
  },
  {
   "cell_type": "code",
   "execution_count": null,
   "metadata": {},
   "outputs": [],
   "source": [
    "data_trainset = data_train.build_testset()\n",
    "data_testset = data_test.build_testset()"
   ]
  },
  {
   "cell_type": "code",
   "execution_count": null,
   "metadata": {},
   "outputs": [
    {
     "data": {
      "text/plain": [
       "<surprise.prediction_algorithms.matrix_factorization.SVD at 0x2b3ad62f310>"
      ]
     },
     "execution_count": 80,
     "metadata": {},
     "output_type": "execute_result"
    }
   ],
   "source": [
    "algo = SVD(n_factors=5)\n",
    "algo.fit(data_train)"
   ]
  },
  {
   "attachments": {},
   "cell_type": "markdown",
   "metadata": {},
   "source": [
    "#### RMSE do train e test"
   ]
  },
  {
   "cell_type": "code",
   "execution_count": null,
   "metadata": {},
   "outputs": [
    {
     "name": "stdout",
     "output_type": "stream",
     "text": [
      "RMSE: 0.8585\n"
     ]
    },
    {
     "data": {
      "text/plain": [
       "0.8585332930470158"
      ]
     },
     "execution_count": 81,
     "metadata": {},
     "output_type": "execute_result"
    }
   ],
   "source": [
    "train_pred = algo.test(data_trainset)\n",
    "accuracy.rmse(train_pred)"
   ]
  },
  {
   "cell_type": "code",
   "execution_count": null,
   "metadata": {},
   "outputs": [
    {
     "name": "stdout",
     "output_type": "stream",
     "text": [
      "MSE: 0.9368\n"
     ]
    },
    {
     "data": {
      "text/plain": [
       "0.9367803107582499"
      ]
     },
     "execution_count": 82,
     "metadata": {},
     "output_type": "execute_result"
    }
   ],
   "source": [
    "test_pred = algo.test(data_testset)\n",
    "accuracy.mse(test_pred)"
   ]
  },
  {
   "cell_type": "code",
   "execution_count": null,
   "metadata": {},
   "outputs": [
    {
     "name": "stdout",
     "output_type": "stream",
     "text": [
      "user: A8WEXFRWX1ZHH item: 0209688726 r_ui = 4.00   est = 3.76   {'was_impossible': False}\n"
     ]
    }
   ],
   "source": [
    "# uid = user id\n",
    "# iid = item id\n",
    "# r_ui = rating\n",
    "predict = algo.predict(uid=reviews['reviewerID'][0], iid=reviews['asin'][0], r_ui=reviews['overall'][0], verbose = True)"
   ]
  },
  {
   "cell_type": "code",
   "execution_count": null,
   "metadata": {},
   "outputs": [],
   "source": []
  },
  {
   "attachments": {},
   "cell_type": "markdown",
   "metadata": {},
   "source": [
    "#### 2. KNN - Utilizando palavras para recomendacao"
   ]
  },
  {
   "attachments": {},
   "cell_type": "markdown",
   "metadata": {},
   "source": [
    "#### tratando os textos para depois realizar o knn"
   ]
  },
  {
   "cell_type": "code",
   "execution_count": null,
   "metadata": {},
   "outputs": [
    {
     "data": {
      "text/html": [
       "<div>\n",
       "<style scoped>\n",
       "    .dataframe tbody tr th:only-of-type {\n",
       "        vertical-align: middle;\n",
       "    }\n",
       "\n",
       "    .dataframe tbody tr th {\n",
       "        vertical-align: top;\n",
       "    }\n",
       "\n",
       "    .dataframe thead th {\n",
       "        text-align: right;\n",
       "    }\n",
       "</style>\n",
       "<table border=\"1\" class=\"dataframe\">\n",
       "  <thead>\n",
       "    <tr style=\"text-align: right;\">\n",
       "      <th></th>\n",
       "      <th>asin</th>\n",
       "      <th>summary</th>\n",
       "      <th>rating</th>\n",
       "      <th>reviewsCount</th>\n",
       "    </tr>\n",
       "  </thead>\n",
       "  <tbody>\n",
       "    <tr>\n",
       "      <th>1469</th>\n",
       "      <td>B00004Y774</td>\n",
       "      <td>Top quality as always</td>\n",
       "      <td>4.344538</td>\n",
       "      <td>119</td>\n",
       "    </tr>\n",
       "    <tr>\n",
       "      <th>1470</th>\n",
       "      <td>B00004Y774</td>\n",
       "      <td>Works pretty good</td>\n",
       "      <td>4.344538</td>\n",
       "      <td>119</td>\n",
       "    </tr>\n",
       "    <tr>\n",
       "      <th>1471</th>\n",
       "      <td>B00004Y774</td>\n",
       "      <td>For smaller size surfaces, this is fine</td>\n",
       "      <td>4.344538</td>\n",
       "      <td>119</td>\n",
       "    </tr>\n",
       "    <tr>\n",
       "      <th>1472</th>\n",
       "      <td>B00004Y774</td>\n",
       "      <td>Another piece of [stuff] from Porter-Cable</td>\n",
       "      <td>4.344538</td>\n",
       "      <td>119</td>\n",
       "    </tr>\n",
       "    <tr>\n",
       "      <th>1473</th>\n",
       "      <td>B00004Y774</td>\n",
       "      <td>Four Stars</td>\n",
       "      <td>4.344538</td>\n",
       "      <td>119</td>\n",
       "    </tr>\n",
       "    <tr>\n",
       "      <th>...</th>\n",
       "      <td>...</td>\n",
       "      <td>...</td>\n",
       "      <td>...</td>\n",
       "      <td>...</td>\n",
       "    </tr>\n",
       "    <tr>\n",
       "      <th>1710206</th>\n",
       "      <td>B01HB1OYUC</td>\n",
       "      <td>Feel the quality</td>\n",
       "      <td>4.653465</td>\n",
       "      <td>101</td>\n",
       "    </tr>\n",
       "    <tr>\n",
       "      <th>1710207</th>\n",
       "      <td>B01HB1OYUC</td>\n",
       "      <td>Used to repair a passenger car tire</td>\n",
       "      <td>4.653465</td>\n",
       "      <td>101</td>\n",
       "    </tr>\n",
       "    <tr>\n",
       "      <th>1710208</th>\n",
       "      <td>B01HB1OYUC</td>\n",
       "      <td>Five Stars</td>\n",
       "      <td>4.653465</td>\n",
       "      <td>101</td>\n",
       "    </tr>\n",
       "    <tr>\n",
       "      <th>1710209</th>\n",
       "      <td>B01HB1OYUC</td>\n",
       "      <td>The best tools! You can depend not to let you ...</td>\n",
       "      <td>4.653465</td>\n",
       "      <td>101</td>\n",
       "    </tr>\n",
       "    <tr>\n",
       "      <th>1710210</th>\n",
       "      <td>B01HB1OYUC</td>\n",
       "      <td>Now includes pliers/cutter.</td>\n",
       "      <td>4.653465</td>\n",
       "      <td>101</td>\n",
       "    </tr>\n",
       "  </tbody>\n",
       "</table>\n",
       "<p>538061 rows × 4 columns</p>\n",
       "</div>"
      ],
      "text/plain": [
       "               asin                                            summary  \\\n",
       "1469     B00004Y774                              Top quality as always   \n",
       "1470     B00004Y774                                  Works pretty good   \n",
       "1471     B00004Y774            For smaller size surfaces, this is fine   \n",
       "1472     B00004Y774         Another piece of [stuff] from Porter-Cable   \n",
       "1473     B00004Y774                                         Four Stars   \n",
       "...             ...                                                ...   \n",
       "1710206  B01HB1OYUC                                   Feel the quality   \n",
       "1710207  B01HB1OYUC                Used to repair a passenger car tire   \n",
       "1710208  B01HB1OYUC                                         Five Stars   \n",
       "1710209  B01HB1OYUC  The best tools! You can depend not to let you ...   \n",
       "1710210  B01HB1OYUC                        Now includes pliers/cutter.   \n",
       "\n",
       "          rating  reviewsCount  \n",
       "1469    4.344538           119  \n",
       "1470    4.344538           119  \n",
       "1471    4.344538           119  \n",
       "1472    4.344538           119  \n",
       "1473    4.344538           119  \n",
       "...          ...           ...  \n",
       "1710206 4.653465           101  \n",
       "1710207 4.653465           101  \n",
       "1710208 4.653465           101  \n",
       "1710209 4.653465           101  \n",
       "1710210 4.653465           101  \n",
       "\n",
       "[538061 rows x 4 columns]"
      ]
     },
     "execution_count": 84,
     "metadata": {},
     "output_type": "execute_result"
    }
   ],
   "source": [
    "dfMerged\n",
    "\n",
    "dfNew = dfMerged[['asin','summary_x','overall',\"overall_y\"]]\n",
    "dfNew = dfNew.rename(columns={'overall_y': 'reviewsCount', 'summary_x': 'summary', 'overall': 'rating'})\n",
    "\n",
    "# selecionado apenas acima de 100 reviews\n",
    "dfNew = dfNew[dfNew.reviewsCount >= 100]\n",
    "\n",
    "dfNew"
   ]
  },
  {
   "cell_type": "code",
   "execution_count": null,
   "metadata": {},
   "outputs": [
    {
     "data": {
      "text/html": [
       "<div>\n",
       "<style scoped>\n",
       "    .dataframe tbody tr th:only-of-type {\n",
       "        vertical-align: middle;\n",
       "    }\n",
       "\n",
       "    .dataframe tbody tr th {\n",
       "        vertical-align: top;\n",
       "    }\n",
       "\n",
       "    .dataframe thead th {\n",
       "        text-align: right;\n",
       "    }\n",
       "</style>\n",
       "<table border=\"1\" class=\"dataframe\">\n",
       "  <thead>\n",
       "    <tr style=\"text-align: right;\">\n",
       "      <th></th>\n",
       "      <th>summary</th>\n",
       "    </tr>\n",
       "    <tr>\n",
       "      <th>asin</th>\n",
       "      <th></th>\n",
       "    </tr>\n",
       "  </thead>\n",
       "  <tbody>\n",
       "    <tr>\n",
       "      <th>B00004Y774</th>\n",
       "      <td>[Top quality as always, Works pretty good, For...</td>\n",
       "    </tr>\n",
       "    <tr>\n",
       "      <th>B00004YK76</th>\n",
       "      <td>[Can't do the job without it!, Four Stars, Fiv...</td>\n",
       "    </tr>\n",
       "    <tr>\n",
       "      <th>B00008RW9U</th>\n",
       "      <td>[Works for light dust, but is really only the ...</td>\n",
       "    </tr>\n",
       "    <tr>\n",
       "      <th>B00008RW9V</th>\n",
       "      <td>[What did I ever do before these?, Best you ca...</td>\n",
       "    </tr>\n",
       "    <tr>\n",
       "      <th>B0000AXDFT</th>\n",
       "      <td>[Adequate, Five Stars, Inexpensive car cover.,...</td>\n",
       "    </tr>\n",
       "    <tr>\n",
       "      <th>...</th>\n",
       "      <td>...</td>\n",
       "    </tr>\n",
       "    <tr>\n",
       "      <th>B01H2XD2DY</th>\n",
       "      <td>[got it for my crap machine &amp; other thing if n...</td>\n",
       "    </tr>\n",
       "    <tr>\n",
       "      <th>B01H46MXO8</th>\n",
       "      <td>[Perfect fit, Five Stars, Fits many jack pads,...</td>\n",
       "    </tr>\n",
       "    <tr>\n",
       "      <th>B01H8VILDQ</th>\n",
       "      <td>[Great light output, Five Stars, Much brighter...</td>\n",
       "    </tr>\n",
       "    <tr>\n",
       "      <th>B01HAWMBH0</th>\n",
       "      <td>[Correct fit, good value, Easy, effective, gre...</td>\n",
       "    </tr>\n",
       "    <tr>\n",
       "      <th>B01HB1OYUC</th>\n",
       "      <td>[Looks Durable, Solid piece of equipment, Manl...</td>\n",
       "    </tr>\n",
       "  </tbody>\n",
       "</table>\n",
       "<p>2422 rows × 1 columns</p>\n",
       "</div>"
      ],
      "text/plain": [
       "                                                      summary\n",
       "asin                                                         \n",
       "B00004Y774  [Top quality as always, Works pretty good, For...\n",
       "B00004YK76  [Can't do the job without it!, Four Stars, Fiv...\n",
       "B00008RW9U  [Works for light dust, but is really only the ...\n",
       "B00008RW9V  [What did I ever do before these?, Best you ca...\n",
       "B0000AXDFT  [Adequate, Five Stars, Inexpensive car cover.,...\n",
       "...                                                       ...\n",
       "B01H2XD2DY  [got it for my crap machine & other thing if n...\n",
       "B01H46MXO8  [Perfect fit, Five Stars, Fits many jack pads,...\n",
       "B01H8VILDQ  [Great light output, Five Stars, Much brighter...\n",
       "B01HAWMBH0  [Correct fit, good value, Easy, effective, gre...\n",
       "B01HB1OYUC  [Looks Durable, Solid piece of equipment, Manl...\n",
       "\n",
       "[2422 rows x 1 columns]"
      ]
     },
     "execution_count": 85,
     "metadata": {},
     "output_type": "execute_result"
    }
   ],
   "source": [
    "dfProductReview = reviews.groupby(\"asin\", as_index=False).mean()\n",
    "ProductReviewSummary = dfNew.groupby(\"asin\")[\"summary\"].apply(list)\n",
    "ProductReviewSummary = pd.DataFrame(ProductReviewSummary)\n",
    "\n",
    "ProductReviewSummary"
   ]
  },
  {
   "cell_type": "code",
   "execution_count": null,
   "metadata": {},
   "outputs": [
    {
     "data": {
      "text/html": [
       "<div>\n",
       "<style scoped>\n",
       "    .dataframe tbody tr th:only-of-type {\n",
       "        vertical-align: middle;\n",
       "    }\n",
       "\n",
       "    .dataframe tbody tr th {\n",
       "        vertical-align: top;\n",
       "    }\n",
       "\n",
       "    .dataframe thead th {\n",
       "        text-align: right;\n",
       "    }\n",
       "</style>\n",
       "<table border=\"1\" class=\"dataframe\">\n",
       "  <thead>\n",
       "    <tr style=\"text-align: right;\">\n",
       "      <th></th>\n",
       "      <th>asin</th>\n",
       "      <th>summary</th>\n",
       "      <th>overall</th>\n",
       "    </tr>\n",
       "  </thead>\n",
       "  <tbody>\n",
       "    <tr>\n",
       "      <th>0</th>\n",
       "      <td>B00004Y774</td>\n",
       "      <td>[Top quality as always, Works pretty good, For...</td>\n",
       "      <td>4.344538</td>\n",
       "    </tr>\n",
       "    <tr>\n",
       "      <th>1</th>\n",
       "      <td>B00004YK76</td>\n",
       "      <td>[Can't do the job without it!, Four Stars, Fiv...</td>\n",
       "      <td>4.552381</td>\n",
       "    </tr>\n",
       "    <tr>\n",
       "      <th>2</th>\n",
       "      <td>B00008RW9U</td>\n",
       "      <td>[Works for light dust, but is really only the ...</td>\n",
       "      <td>4.483660</td>\n",
       "    </tr>\n",
       "    <tr>\n",
       "      <th>3</th>\n",
       "      <td>B00008RW9V</td>\n",
       "      <td>[What did I ever do before these?, Best you ca...</td>\n",
       "      <td>4.522989</td>\n",
       "    </tr>\n",
       "    <tr>\n",
       "      <th>4</th>\n",
       "      <td>B0000AXDFT</td>\n",
       "      <td>[Adequate, Five Stars, Inexpensive car cover.,...</td>\n",
       "      <td>3.885827</td>\n",
       "    </tr>\n",
       "    <tr>\n",
       "      <th>...</th>\n",
       "      <td>...</td>\n",
       "      <td>...</td>\n",
       "      <td>...</td>\n",
       "    </tr>\n",
       "    <tr>\n",
       "      <th>2417</th>\n",
       "      <td>B01H2XD2DY</td>\n",
       "      <td>[got it for my crap machine &amp; other thing if n...</td>\n",
       "      <td>4.515625</td>\n",
       "    </tr>\n",
       "    <tr>\n",
       "      <th>2418</th>\n",
       "      <td>B01H46MXO8</td>\n",
       "      <td>[Perfect fit, Five Stars, Fits many jack pads,...</td>\n",
       "      <td>4.500000</td>\n",
       "    </tr>\n",
       "    <tr>\n",
       "      <th>2419</th>\n",
       "      <td>B01H8VILDQ</td>\n",
       "      <td>[Great light output, Five Stars, Much brighter...</td>\n",
       "      <td>4.311377</td>\n",
       "    </tr>\n",
       "    <tr>\n",
       "      <th>2420</th>\n",
       "      <td>B01HAWMBH0</td>\n",
       "      <td>[Correct fit, good value, Easy, effective, gre...</td>\n",
       "      <td>4.810127</td>\n",
       "    </tr>\n",
       "    <tr>\n",
       "      <th>2421</th>\n",
       "      <td>B01HB1OYUC</td>\n",
       "      <td>[Looks Durable, Solid piece of equipment, Manl...</td>\n",
       "      <td>4.653465</td>\n",
       "    </tr>\n",
       "  </tbody>\n",
       "</table>\n",
       "<p>2422 rows × 3 columns</p>\n",
       "</div>"
      ],
      "text/plain": [
       "            asin                                            summary  overall\n",
       "0     B00004Y774  [Top quality as always, Works pretty good, For... 4.344538\n",
       "1     B00004YK76  [Can't do the job without it!, Four Stars, Fiv... 4.552381\n",
       "2     B00008RW9U  [Works for light dust, but is really only the ... 4.483660\n",
       "3     B00008RW9V  [What did I ever do before these?, Best you ca... 4.522989\n",
       "4     B0000AXDFT  [Adequate, Five Stars, Inexpensive car cover.,... 3.885827\n",
       "...          ...                                                ...      ...\n",
       "2417  B01H2XD2DY  [got it for my crap machine & other thing if n... 4.515625\n",
       "2418  B01H46MXO8  [Perfect fit, Five Stars, Fits many jack pads,... 4.500000\n",
       "2419  B01H8VILDQ  [Great light output, Five Stars, Much brighter... 4.311377\n",
       "2420  B01HAWMBH0  [Correct fit, good value, Easy, effective, gre... 4.810127\n",
       "2421  B01HB1OYUC  [Looks Durable, Solid piece of equipment, Manl... 4.653465\n",
       "\n",
       "[2422 rows x 3 columns]"
      ]
     },
     "execution_count": 86,
     "metadata": {},
     "output_type": "execute_result"
    }
   ],
   "source": [
    "dfProductReview = pd.merge(ProductReviewSummary, dfProductReview, on=\"asin\", how='inner')\n",
    "\n",
    "dfProductReview "
   ]
  },
  {
   "attachments": {},
   "cell_type": "markdown",
   "metadata": {},
   "source": [
    "#### Limpando texto"
   ]
  },
  {
   "cell_type": "code",
   "execution_count": null,
   "metadata": {},
   "outputs": [],
   "source": [
    "import re\n",
    "def cleanReviews(reviewList):\n",
    "    reviewsText = ''\n",
    "    for review in reviewList:\n",
    "        if not type(review) == str:\n",
    "            continue\n",
    "        r= re.sub(r'[^a-zA-Z ]', '', review)\n",
    "        r = r.lower()\n",
    "        reviewsText += r + ' '\n",
    "    return reviewsText[:len(reviewsText)-1]"
   ]
  },
  {
   "cell_type": "code",
   "execution_count": null,
   "metadata": {},
   "outputs": [
    {
     "data": {
      "text/html": [
       "<div>\n",
       "<style scoped>\n",
       "    .dataframe tbody tr th:only-of-type {\n",
       "        vertical-align: middle;\n",
       "    }\n",
       "\n",
       "    .dataframe tbody tr th {\n",
       "        vertical-align: top;\n",
       "    }\n",
       "\n",
       "    .dataframe thead th {\n",
       "        text-align: right;\n",
       "    }\n",
       "</style>\n",
       "<table border=\"1\" class=\"dataframe\">\n",
       "  <thead>\n",
       "    <tr style=\"text-align: right;\">\n",
       "      <th></th>\n",
       "      <th>index</th>\n",
       "      <th>asin</th>\n",
       "      <th>summary</th>\n",
       "      <th>overall</th>\n",
       "      <th>summaryAll</th>\n",
       "    </tr>\n",
       "  </thead>\n",
       "  <tbody>\n",
       "    <tr>\n",
       "      <th>0</th>\n",
       "      <td>0</td>\n",
       "      <td>B00004Y774</td>\n",
       "      <td>[Top quality as always, Works pretty good, For...</td>\n",
       "      <td>4.344538</td>\n",
       "      <td>top quality as always works pretty good for sm...</td>\n",
       "    </tr>\n",
       "    <tr>\n",
       "      <th>1</th>\n",
       "      <td>2</td>\n",
       "      <td>B00008RW9U</td>\n",
       "      <td>[Works for light dust, but is really only the ...</td>\n",
       "      <td>4.483660</td>\n",
       "      <td>works for light dust but is really only the fi...</td>\n",
       "    </tr>\n",
       "    <tr>\n",
       "      <th>2</th>\n",
       "      <td>3</td>\n",
       "      <td>B00008RW9V</td>\n",
       "      <td>[What did I ever do before these?, Best you ca...</td>\n",
       "      <td>4.522989</td>\n",
       "      <td>what did i ever do before these best you can b...</td>\n",
       "    </tr>\n",
       "    <tr>\n",
       "      <th>3</th>\n",
       "      <td>4</td>\n",
       "      <td>B0000AXDFT</td>\n",
       "      <td>[Adequate, Five Stars, Inexpensive car cover.,...</td>\n",
       "      <td>3.885827</td>\n",
       "      <td>adequate five stars inexpensive car cover nice...</td>\n",
       "    </tr>\n",
       "    <tr>\n",
       "      <th>4</th>\n",
       "      <td>5</td>\n",
       "      <td>B0000AXNMO</td>\n",
       "      <td>[great for windshields, have been a big fan fo...</td>\n",
       "      <td>4.644366</td>\n",
       "      <td>great for windshields have been a big fan for ...</td>\n",
       "    </tr>\n",
       "    <tr>\n",
       "      <th>...</th>\n",
       "      <td>...</td>\n",
       "      <td>...</td>\n",
       "      <td>...</td>\n",
       "      <td>...</td>\n",
       "      <td>...</td>\n",
       "    </tr>\n",
       "    <tr>\n",
       "      <th>2089</th>\n",
       "      <td>2417</td>\n",
       "      <td>B01H2XD2DY</td>\n",
       "      <td>[got it for my crap machine &amp; other thing if n...</td>\n",
       "      <td>4.515625</td>\n",
       "      <td>got it for my crap machine  other thing if nee...</td>\n",
       "    </tr>\n",
       "    <tr>\n",
       "      <th>2090</th>\n",
       "      <td>2418</td>\n",
       "      <td>B01H46MXO8</td>\n",
       "      <td>[Perfect fit, Five Stars, Fits many jack pads,...</td>\n",
       "      <td>4.500000</td>\n",
       "      <td>perfect fit five stars fits many jack pads per...</td>\n",
       "    </tr>\n",
       "    <tr>\n",
       "      <th>2091</th>\n",
       "      <td>2419</td>\n",
       "      <td>B01H8VILDQ</td>\n",
       "      <td>[Great light output, Five Stars, Much brighter...</td>\n",
       "      <td>4.311377</td>\n",
       "      <td>great light output five stars much brighter th...</td>\n",
       "    </tr>\n",
       "    <tr>\n",
       "      <th>2092</th>\n",
       "      <td>2420</td>\n",
       "      <td>B01HAWMBH0</td>\n",
       "      <td>[Correct fit, good value, Easy, effective, gre...</td>\n",
       "      <td>4.810127</td>\n",
       "      <td>correct fit good value easy effective great va...</td>\n",
       "    </tr>\n",
       "    <tr>\n",
       "      <th>2093</th>\n",
       "      <td>2421</td>\n",
       "      <td>B01HB1OYUC</td>\n",
       "      <td>[Looks Durable, Solid piece of equipment, Manl...</td>\n",
       "      <td>4.653465</td>\n",
       "      <td>looks durable solid piece of equipment manly k...</td>\n",
       "    </tr>\n",
       "  </tbody>\n",
       "</table>\n",
       "<p>2094 rows × 5 columns</p>\n",
       "</div>"
      ],
      "text/plain": [
       "      index        asin                                            summary  \\\n",
       "0         0  B00004Y774  [Top quality as always, Works pretty good, For...   \n",
       "1         2  B00008RW9U  [Works for light dust, but is really only the ...   \n",
       "2         3  B00008RW9V  [What did I ever do before these?, Best you ca...   \n",
       "3         4  B0000AXDFT  [Adequate, Five Stars, Inexpensive car cover.,...   \n",
       "4         5  B0000AXNMO  [great for windshields, have been a big fan fo...   \n",
       "...     ...         ...                                                ...   \n",
       "2089   2417  B01H2XD2DY  [got it for my crap machine & other thing if n...   \n",
       "2090   2418  B01H46MXO8  [Perfect fit, Five Stars, Fits many jack pads,...   \n",
       "2091   2419  B01H8VILDQ  [Great light output, Five Stars, Much brighter...   \n",
       "2092   2420  B01HAWMBH0  [Correct fit, good value, Easy, effective, gre...   \n",
       "2093   2421  B01HB1OYUC  [Looks Durable, Solid piece of equipment, Manl...   \n",
       "\n",
       "      overall                                         summaryAll  \n",
       "0    4.344538  top quality as always works pretty good for sm...  \n",
       "1    4.483660  works for light dust but is really only the fi...  \n",
       "2    4.522989  what did i ever do before these best you can b...  \n",
       "3    3.885827  adequate five stars inexpensive car cover nice...  \n",
       "4    4.644366  great for windshields have been a big fan for ...  \n",
       "...       ...                                                ...  \n",
       "2089 4.515625  got it for my crap machine  other thing if nee...  \n",
       "2090 4.500000  perfect fit five stars fits many jack pads per...  \n",
       "2091 4.311377  great light output five stars much brighter th...  \n",
       "2092 4.810127  correct fit good value easy effective great va...  \n",
       "2093 4.653465  looks durable solid piece of equipment manly k...  \n",
       "\n",
       "[2094 rows x 5 columns]"
      ]
     },
     "execution_count": 88,
     "metadata": {},
     "output_type": "execute_result"
    }
   ],
   "source": [
    "dfProductReview[\"summaryAll\"] = dfProductReview[\"summary\"].apply(cleanReviews)\n",
    "dfProductReview = dfProductReview.drop_duplicates(['overall'], keep='last')\n",
    "dfProductReview = dfProductReview.reset_index()\n",
    "\n",
    "dfProductReview"
   ]
  },
  {
   "cell_type": "code",
   "execution_count": null,
   "metadata": {},
   "outputs": [
    {
     "data": {
      "text/html": [
       "<div>\n",
       "<style scoped>\n",
       "    .dataframe tbody tr th:only-of-type {\n",
       "        vertical-align: middle;\n",
       "    }\n",
       "\n",
       "    .dataframe tbody tr th {\n",
       "        vertical-align: top;\n",
       "    }\n",
       "\n",
       "    .dataframe thead th {\n",
       "        text-align: right;\n",
       "    }\n",
       "</style>\n",
       "<table border=\"1\" class=\"dataframe\">\n",
       "  <thead>\n",
       "    <tr style=\"text-align: right;\">\n",
       "      <th></th>\n",
       "      <th>absolutely</th>\n",
       "      <th>ac</th>\n",
       "      <th>accessory</th>\n",
       "      <th>accord</th>\n",
       "      <th>accurate</th>\n",
       "      <th>actually</th>\n",
       "      <th>adapter</th>\n",
       "      <th>add</th>\n",
       "      <th>addition</th>\n",
       "      <th>advertised</th>\n",
       "      <th>...</th>\n",
       "      <th>wow</th>\n",
       "      <th>wrangler</th>\n",
       "      <th>wrench</th>\n",
       "      <th>wrong</th>\n",
       "      <th>year</th>\n",
       "      <th>years</th>\n",
       "      <th>yellow</th>\n",
       "      <th>yes</th>\n",
       "      <th>youll</th>\n",
       "      <th>youre</th>\n",
       "    </tr>\n",
       "  </thead>\n",
       "  <tbody>\n",
       "    <tr>\n",
       "      <th>0</th>\n",
       "      <td>0</td>\n",
       "      <td>0</td>\n",
       "      <td>0</td>\n",
       "      <td>0</td>\n",
       "      <td>0</td>\n",
       "      <td>0</td>\n",
       "      <td>0</td>\n",
       "      <td>0</td>\n",
       "      <td>0</td>\n",
       "      <td>0</td>\n",
       "      <td>...</td>\n",
       "      <td>0</td>\n",
       "      <td>0</td>\n",
       "      <td>0</td>\n",
       "      <td>0</td>\n",
       "      <td>0</td>\n",
       "      <td>0</td>\n",
       "      <td>0</td>\n",
       "      <td>0</td>\n",
       "      <td>0</td>\n",
       "      <td>0</td>\n",
       "    </tr>\n",
       "    <tr>\n",
       "      <th>1</th>\n",
       "      <td>1</td>\n",
       "      <td>0</td>\n",
       "      <td>1</td>\n",
       "      <td>0</td>\n",
       "      <td>0</td>\n",
       "      <td>0</td>\n",
       "      <td>0</td>\n",
       "      <td>0</td>\n",
       "      <td>0</td>\n",
       "      <td>1</td>\n",
       "      <td>...</td>\n",
       "      <td>0</td>\n",
       "      <td>0</td>\n",
       "      <td>0</td>\n",
       "      <td>0</td>\n",
       "      <td>1</td>\n",
       "      <td>3</td>\n",
       "      <td>0</td>\n",
       "      <td>1</td>\n",
       "      <td>0</td>\n",
       "      <td>0</td>\n",
       "    </tr>\n",
       "    <tr>\n",
       "      <th>2</th>\n",
       "      <td>0</td>\n",
       "      <td>0</td>\n",
       "      <td>1</td>\n",
       "      <td>0</td>\n",
       "      <td>0</td>\n",
       "      <td>0</td>\n",
       "      <td>0</td>\n",
       "      <td>0</td>\n",
       "      <td>0</td>\n",
       "      <td>0</td>\n",
       "      <td>...</td>\n",
       "      <td>0</td>\n",
       "      <td>0</td>\n",
       "      <td>0</td>\n",
       "      <td>0</td>\n",
       "      <td>0</td>\n",
       "      <td>1</td>\n",
       "      <td>0</td>\n",
       "      <td>0</td>\n",
       "      <td>1</td>\n",
       "      <td>0</td>\n",
       "    </tr>\n",
       "    <tr>\n",
       "      <th>3</th>\n",
       "      <td>0</td>\n",
       "      <td>0</td>\n",
       "      <td>0</td>\n",
       "      <td>0</td>\n",
       "      <td>1</td>\n",
       "      <td>1</td>\n",
       "      <td>0</td>\n",
       "      <td>0</td>\n",
       "      <td>0</td>\n",
       "      <td>0</td>\n",
       "      <td>...</td>\n",
       "      <td>0</td>\n",
       "      <td>0</td>\n",
       "      <td>0</td>\n",
       "      <td>0</td>\n",
       "      <td>3</td>\n",
       "      <td>2</td>\n",
       "      <td>0</td>\n",
       "      <td>1</td>\n",
       "      <td>0</td>\n",
       "      <td>0</td>\n",
       "    </tr>\n",
       "    <tr>\n",
       "      <th>4</th>\n",
       "      <td>0</td>\n",
       "      <td>0</td>\n",
       "      <td>0</td>\n",
       "      <td>0</td>\n",
       "      <td>0</td>\n",
       "      <td>0</td>\n",
       "      <td>0</td>\n",
       "      <td>1</td>\n",
       "      <td>0</td>\n",
       "      <td>2</td>\n",
       "      <td>...</td>\n",
       "      <td>1</td>\n",
       "      <td>0</td>\n",
       "      <td>0</td>\n",
       "      <td>0</td>\n",
       "      <td>0</td>\n",
       "      <td>2</td>\n",
       "      <td>0</td>\n",
       "      <td>0</td>\n",
       "      <td>1</td>\n",
       "      <td>1</td>\n",
       "    </tr>\n",
       "    <tr>\n",
       "      <th>...</th>\n",
       "      <td>...</td>\n",
       "      <td>...</td>\n",
       "      <td>...</td>\n",
       "      <td>...</td>\n",
       "      <td>...</td>\n",
       "      <td>...</td>\n",
       "      <td>...</td>\n",
       "      <td>...</td>\n",
       "      <td>...</td>\n",
       "      <td>...</td>\n",
       "      <td>...</td>\n",
       "      <td>...</td>\n",
       "      <td>...</td>\n",
       "      <td>...</td>\n",
       "      <td>...</td>\n",
       "      <td>...</td>\n",
       "      <td>...</td>\n",
       "      <td>...</td>\n",
       "      <td>...</td>\n",
       "      <td>...</td>\n",
       "      <td>...</td>\n",
       "    </tr>\n",
       "    <tr>\n",
       "      <th>2089</th>\n",
       "      <td>0</td>\n",
       "      <td>4</td>\n",
       "      <td>0</td>\n",
       "      <td>0</td>\n",
       "      <td>0</td>\n",
       "      <td>1</td>\n",
       "      <td>0</td>\n",
       "      <td>0</td>\n",
       "      <td>0</td>\n",
       "      <td>3</td>\n",
       "      <td>...</td>\n",
       "      <td>0</td>\n",
       "      <td>0</td>\n",
       "      <td>0</td>\n",
       "      <td>0</td>\n",
       "      <td>0</td>\n",
       "      <td>0</td>\n",
       "      <td>0</td>\n",
       "      <td>0</td>\n",
       "      <td>0</td>\n",
       "      <td>0</td>\n",
       "    </tr>\n",
       "    <tr>\n",
       "      <th>2090</th>\n",
       "      <td>0</td>\n",
       "      <td>0</td>\n",
       "      <td>2</td>\n",
       "      <td>0</td>\n",
       "      <td>0</td>\n",
       "      <td>0</td>\n",
       "      <td>0</td>\n",
       "      <td>0</td>\n",
       "      <td>1</td>\n",
       "      <td>0</td>\n",
       "      <td>...</td>\n",
       "      <td>0</td>\n",
       "      <td>0</td>\n",
       "      <td>0</td>\n",
       "      <td>1</td>\n",
       "      <td>1</td>\n",
       "      <td>0</td>\n",
       "      <td>0</td>\n",
       "      <td>0</td>\n",
       "      <td>0</td>\n",
       "      <td>0</td>\n",
       "    </tr>\n",
       "    <tr>\n",
       "      <th>2091</th>\n",
       "      <td>0</td>\n",
       "      <td>0</td>\n",
       "      <td>0</td>\n",
       "      <td>0</td>\n",
       "      <td>0</td>\n",
       "      <td>1</td>\n",
       "      <td>0</td>\n",
       "      <td>0</td>\n",
       "      <td>0</td>\n",
       "      <td>0</td>\n",
       "      <td>...</td>\n",
       "      <td>0</td>\n",
       "      <td>0</td>\n",
       "      <td>0</td>\n",
       "      <td>0</td>\n",
       "      <td>0</td>\n",
       "      <td>0</td>\n",
       "      <td>0</td>\n",
       "      <td>0</td>\n",
       "      <td>0</td>\n",
       "      <td>0</td>\n",
       "    </tr>\n",
       "    <tr>\n",
       "      <th>2092</th>\n",
       "      <td>0</td>\n",
       "      <td>1</td>\n",
       "      <td>0</td>\n",
       "      <td>0</td>\n",
       "      <td>0</td>\n",
       "      <td>0</td>\n",
       "      <td>0</td>\n",
       "      <td>0</td>\n",
       "      <td>0</td>\n",
       "      <td>0</td>\n",
       "      <td>...</td>\n",
       "      <td>0</td>\n",
       "      <td>0</td>\n",
       "      <td>0</td>\n",
       "      <td>1</td>\n",
       "      <td>0</td>\n",
       "      <td>0</td>\n",
       "      <td>0</td>\n",
       "      <td>0</td>\n",
       "      <td>0</td>\n",
       "      <td>0</td>\n",
       "    </tr>\n",
       "    <tr>\n",
       "      <th>2093</th>\n",
       "      <td>0</td>\n",
       "      <td>0</td>\n",
       "      <td>0</td>\n",
       "      <td>0</td>\n",
       "      <td>0</td>\n",
       "      <td>0</td>\n",
       "      <td>0</td>\n",
       "      <td>0</td>\n",
       "      <td>0</td>\n",
       "      <td>0</td>\n",
       "      <td>...</td>\n",
       "      <td>0</td>\n",
       "      <td>0</td>\n",
       "      <td>0</td>\n",
       "      <td>0</td>\n",
       "      <td>1</td>\n",
       "      <td>0</td>\n",
       "      <td>0</td>\n",
       "      <td>0</td>\n",
       "      <td>1</td>\n",
       "      <td>0</td>\n",
       "    </tr>\n",
       "  </tbody>\n",
       "</table>\n",
       "<p>2094 rows × 500 columns</p>\n",
       "</div>"
      ],
      "text/plain": [
       "      absolutely  ac  accessory  accord  accurate  actually  adapter  add  \\\n",
       "0              0   0          0       0         0         0        0    0   \n",
       "1              1   0          1       0         0         0        0    0   \n",
       "2              0   0          1       0         0         0        0    0   \n",
       "3              0   0          0       0         1         1        0    0   \n",
       "4              0   0          0       0         0         0        0    1   \n",
       "...          ...  ..        ...     ...       ...       ...      ...  ...   \n",
       "2089           0   4          0       0         0         1        0    0   \n",
       "2090           0   0          2       0         0         0        0    0   \n",
       "2091           0   0          0       0         0         1        0    0   \n",
       "2092           0   1          0       0         0         0        0    0   \n",
       "2093           0   0          0       0         0         0        0    0   \n",
       "\n",
       "      addition  advertised  ...  wow  wrangler  wrench  wrong  year  years  \\\n",
       "0            0           0  ...    0         0       0      0     0      0   \n",
       "1            0           1  ...    0         0       0      0     1      3   \n",
       "2            0           0  ...    0         0       0      0     0      1   \n",
       "3            0           0  ...    0         0       0      0     3      2   \n",
       "4            0           2  ...    1         0       0      0     0      2   \n",
       "...        ...         ...  ...  ...       ...     ...    ...   ...    ...   \n",
       "2089         0           3  ...    0         0       0      0     0      0   \n",
       "2090         1           0  ...    0         0       0      1     1      0   \n",
       "2091         0           0  ...    0         0       0      0     0      0   \n",
       "2092         0           0  ...    0         0       0      1     0      0   \n",
       "2093         0           0  ...    0         0       0      0     1      0   \n",
       "\n",
       "      yellow  yes  youll  youre  \n",
       "0          0    0      0      0  \n",
       "1          0    1      0      0  \n",
       "2          0    0      1      0  \n",
       "3          0    1      0      0  \n",
       "4          0    0      1      1  \n",
       "...      ...  ...    ...    ...  \n",
       "2089       0    0      0      0  \n",
       "2090       0    0      0      0  \n",
       "2091       0    0      0      0  \n",
       "2092       0    0      0      0  \n",
       "2093       0    0      1      0  \n",
       "\n",
       "[2094 rows x 500 columns]"
      ]
     },
     "execution_count": 105,
     "metadata": {},
     "output_type": "execute_result"
    }
   ],
   "source": [
    "from sklearn.feature_extraction.text import CountVectorizer, TfidfTransformer\n",
    "from pandas import DataFrame \n",
    "\n",
    "allReviews = dfProductReview[\"summaryAll\"] \n",
    "# utilizando countVector do sklearn para transformar as palavras em vetores, selecionando apenas as 500 palavras mais frequentes\n",
    "countVector = CountVectorizer(max_features = 500, stop_words='english') \n",
    "transformedReviews = countVector.fit_transform(allReviews) \n",
    "dfReviews = DataFrame(transformedReviews.A, columns=countVector.get_feature_names_out())\n",
    "dfReviews = dfReviews.astype(int)\n",
    "\n",
    "dfReviews"
   ]
  },
  {
   "attachments": {},
   "cell_type": "markdown",
   "metadata": {},
   "source": [
    "#### Criando train test"
   ]
  },
  {
   "cell_type": "code",
   "execution_count": null,
   "metadata": {},
   "outputs": [],
   "source": [
    "train_data, test_data = train_test_split(dfReviews, test_size=0.2)\n",
    "\n",
    "train_data = train_data.to_numpy()\n",
    "test_data = test_data.to_numpy()\n"
   ]
  },
  {
   "cell_type": "code",
   "execution_count": null,
   "metadata": {},
   "outputs": [],
   "source": [
    "from surprise import KNNBasic\n",
    "from sklearn.neighbors import NearestNeighbors\n",
    "from sklearn import neighbors\n",
    "from sklearn.metrics import classification_report\n",
    "from sklearn.metrics import accuracy_score\n",
    "\n",
    "neighbor = NearestNeighbors(n_neighbors=3, algorithm='ball_tree').fit(train_data)\n",
    "distances, indices = neighbor.kneighbors(train_data)"
   ]
  },
  {
   "attachments": {},
   "cell_type": "markdown",
   "metadata": {},
   "source": [
    "#### Exemplo de produto relacionado"
   ]
  },
  {
   "cell_type": "code",
   "execution_count": null,
   "metadata": {},
   "outputs": [
    {
     "name": "stdout",
     "output_type": "stream",
     "text": [
      "Produto:  B00JN0U4SQ produto mais relacionado:  B00004Y774\n"
     ]
    }
   ],
   "source": [
    "vizinhos = neighbor.kneighbors([train_data[0]])\n",
    "relacionados = vizinhos[1]\n",
    "prim = relacionados[0][0]\n",
    "\n",
    "print(\"Produto: \", dfProductReview[\"asin\"][train_data.shape[0] + 0], \"produto mais relacionado: \",dfProductReview[\"asin\"][prim])\n"
   ]
  },
  {
   "attachments": {},
   "cell_type": "markdown",
   "metadata": {},
   "source": [
    "#### predição do rating do produto"
   ]
  },
  {
   "cell_type": "code",
   "execution_count": null,
   "metadata": {},
   "outputs": [
    {
     "name": "stdout",
     "output_type": "stream",
     "text": [
      "              precision    recall  f1-score   support\n",
      "\n",
      "           3       0.00      0.00      0.00        23\n",
      "           4       0.94      0.98      0.96       396\n",
      "\n",
      "    accuracy                           0.93       419\n",
      "   macro avg       0.47      0.49      0.48       419\n",
      "weighted avg       0.89      0.93      0.91       419\n",
      "\n"
     ]
    }
   ],
   "source": [
    "train_target, test_target = train_test_split(dfProductReview['overall'], test_size=0.2)\n",
    "# colocando os valores de train e test como inteiros pois o rating é inteiro\n",
    "train_target = train_target.astype(int)\n",
    "test_target = test_target.astype(int)\n",
    "\n",
    "knn = neighbors.KNeighborsClassifier(3, weights='distance')\n",
    "knn.fit(train_data, train_target)\n",
    "knnpredict = knn.predict(test_data)\n",
    "\n",
    "print(classification_report(test_target, knnpredict))"
   ]
  },
  {
   "attachments": {},
   "cell_type": "markdown",
   "metadata": {},
   "source": [
    "#### Precisão do modelo"
   ]
  },
  {
   "cell_type": "code",
   "execution_count": null,
   "metadata": {},
   "outputs": [
    {
     "data": {
      "text/plain": [
       "0.9307875894988067"
      ]
     },
     "execution_count": 110,
     "metadata": {},
     "output_type": "execute_result"
    }
   ],
   "source": [
    "accuracy_score(test_target, knnpredict)"
   ]
  },
  {
   "attachments": {},
   "cell_type": "markdown",
   "metadata": {},
   "source": [
    "#### MSE do modelo"
   ]
  },
  {
   "cell_type": "code",
   "execution_count": null,
   "metadata": {},
   "outputs": [
    {
     "data": {
      "text/plain": [
       "0.06921241050119331"
      ]
     },
     "execution_count": 111,
     "metadata": {},
     "output_type": "execute_result"
    }
   ],
   "source": [
    "from sklearn.metrics import mean_squared_error\n",
    "mean_squared_error(test_target, knnpredict)"
   ]
  },
  {
   "cell_type": "code",
   "execution_count": null,
   "metadata": {},
   "outputs": [],
   "source": [
    "# kk = 40\n",
    "# algo = KNNBasic(k = kk, verbose = True)\n",
    "# cv = cross_validate(algo, datas, measures = ['RMSE', 'MAE'], cv = 5, verbose = True)"
   ]
  }
 ],
 "metadata": {
  "kernelspec": {
   "display_name": "base",
   "language": "python",
   "name": "python3"
  },
  "language_info": {
   "codemirror_mode": {
    "name": "ipython",
    "version": 3
   },
   "file_extension": ".py",
   "mimetype": "text/x-python",
   "name": "python",
   "nbconvert_exporter": "python",
   "pygments_lexer": "ipython3",
   "version": "3.9.12"
  },
  "orig_nbformat": 4,
  "vscode": {
   "interpreter": {
    "hash": "b7175ea596b0e890ecad86ec68ea0c05380b51b685ba7441448326694beef3a1"
   }
  }
 },
 "nbformat": 4,
 "nbformat_minor": 2
}
